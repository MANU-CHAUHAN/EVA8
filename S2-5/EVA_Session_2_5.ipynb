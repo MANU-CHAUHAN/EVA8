{
  "cells": [
    {
      "cell_type": "code",
      "execution_count": 8,
      "metadata": {
        "id": "cXtDt0JtUtLz"
      },
      "outputs": [],
      "source": [
        "import torch\n",
        "import torch.nn as nn\n",
        "import torch.nn.functional as F\n",
        "from torch.utils.data import Dataset\n",
        "from torchvision.datasets import MNIST\n",
        "from torchvision import transforms\n",
        "import torch.optim as optim"
      ]
    },
    {
      "cell_type": "code",
      "execution_count": 9,
      "metadata": {
        "colab": {
          "base_uri": "https://localhost:8080/"
        },
        "id": "5zGaJqnGU_rE",
        "outputId": "80df9b90-dda9-47ea-de5c-de019bf5d470"
      },
      "outputs": [
        {
          "output_type": "stream",
          "name": "stdout",
          "text": [
            "CUDA Available: True\n",
            "CUDA Available: True\n"
          ]
        }
      ],
      "source": [
        "cuda = torch.cuda.is_available()\n",
        "print(\"CUDA Available:\", cuda)\n",
        "\n",
        "device = torch.device(\"cuda\" if cuda else \"cpu\")"
      ]
    },
    {
      "cell_type": "code",
      "execution_count": 10,
      "metadata": {
        "id": "o7kObQi_VJCE"
      },
      "outputs": [],
      "source": [
        "def encoding(x):\n",
        "    binary = bin(int(x))[2:]\n",
        "    result = list(map(float, list(str(0) * (5 - len(binary)) + str(binary))))\n",
        "    result = torch.tensor(result,device=device).unsqueeze(dim=0)\n",
        "    return result"
      ]
    },
    {
      "cell_type": "code",
      "execution_count": 11,
      "metadata": {
        "id": "LyykQEPkVBlJ"
      },
      "outputs": [],
      "source": [
        "class MyDataset(Dataset):\n",
        "    def __init__(self, root=\"./data\", to_train=True, transform=None):\n",
        "        super().__init__()\n",
        "\n",
        "        if not transform:\n",
        "            transform = transforms.Compose([transforms.ToTensor()])\n",
        "\n",
        "        self.mnist_data = MNIST(\n",
        "            root=root,\n",
        "            train=to_train,\n",
        "            transform=transform,\n",
        "            download=True)\n",
        "\n",
        "    def __getitem__(self, index_to_fetch):\n",
        "        image, target = self.mnist_data.__getitem__(index_to_fetch)\n",
        "        random_num = torch.randint(0, 9, (1,), dtype=torch.float32, device=device)\n",
        "\n",
        "        label_plus_random_num_encoded = encoding(target + random_num)\n",
        "\n",
        "        return image, target, random_num, label_plus_random_num_encoded\n",
        "\n",
        "    def __len__(self):\n",
        "        return len(self.mnist_data)"
      ]
    },
    {
      "cell_type": "code",
      "execution_count": 12,
      "metadata": {
        "id": "UuEvuKAZVN3D"
      },
      "outputs": [],
      "source": [
        "class Network(nn.Module):\n",
        "    @staticmethod\n",
        "    def _get_conv_layer(in_features, out_features, kernel_size=3):\n",
        "        return nn.Conv2d(in_channels=in_features, out_channels=out_features, kernel_size=kernel_size, bias=False)\n",
        "\n",
        "    def __init__(self):\n",
        "        super().__init__()\n",
        "        self.conv1 = Network._get_conv_layer(in_features=1, out_features=32)\n",
        "        self.conv2 = Network._get_conv_layer(in_features=32, out_features=32)\n",
        "        self.conv3 = Network._get_conv_layer(in_features=32, out_features=64)\n",
        "        self.conv4 = Network._get_conv_layer(in_features=64, out_features=64)\n",
        "\n",
        "        self.conv_fc1 = nn.Linear(20 * 20 * 64, 256, bias=False)\n",
        "        # self.conv_fc2 = nn.Linear(256, 256, bias=False)\n",
        "\n",
        "        self.fc1 = nn.Linear(in_features=1, out_features=16, bias=False)\n",
        "        self.fc2 = nn.Linear(16, 32, bias=False)\n",
        "        self.fc3 = nn.Linear(32, 64, bias=False)\n",
        "\n",
        "        self.fc_combined_1 = nn.Linear(256 + 64, 256)\n",
        "        self.fc_combined_2 = nn.Linear(256, 256)\n",
        "        self.output1_fc = nn.Linear(256, 10)\n",
        "        self.output2_fc = nn.Linear(256, 5)\n",
        "\n",
        "    def forward(self, x, y):\n",
        "        x = F.relu(self.conv1(x))\n",
        "        x = F.relu(self.conv2(x))\n",
        "        x = F.relu(self.conv3(x))\n",
        "        x = F.relu(self.conv4(x))\n",
        "        x = x.view(x.size(0), -1)\n",
        "        x = self.conv_fc1(F.relu(x))\n",
        "        # x = self.conv_fc2(F.relu(x))\n",
        "\n",
        "        y = F.relu(self.fc1(y))\n",
        "        y = F.relu(self.fc2(y))\n",
        "        y = F.relu(self.fc3(y))\n",
        "\n",
        "        z = torch.concat([x, y], dim=1)\n",
        "        z = F.relu(self.fc_combined_1(z))\n",
        "        z = F.relu(self.fc_combined_2(z))\n",
        "\n",
        "        out1 = self.output1_fc(z)\n",
        "        out2 = self.output2_fc(z)\n",
        "\n",
        "        return F.softmax(out1, dim=1), out2"
      ]
    },
    {
      "cell_type": "code",
      "execution_count": 13,
      "metadata": {
        "id": "w8aPgXyFVSVk"
      },
      "outputs": [],
      "source": [
        "def train(train_set, network):\n",
        "    train_loader = torch.utils.data.DataLoader(train_set, batch_size=100)\n",
        "    optimizer = optim.Adam(network.parameters(), lr=0.01)\n",
        "    criterion1 = F.cross_entropy\n",
        "    criterion2 = nn.BCEWithLogitsLoss()\n",
        "    # criterion2 = nn.MultiLabelSoftMarginLoss()\n",
        "\n",
        "    for epoch in range(30):\n",
        "\n",
        "        total_loss = 0\n",
        "        total_correct = 0\n",
        "\n",
        "        for batch in train_loader:  # Get Batch\n",
        "            images, labels, random_nums, labels_plus_random_nums_encoded = batch\n",
        "\n",
        "            images = images.to(device)\n",
        "            labels = labels.to(device)\n",
        "            labels_plus_random_nums_encoded.to(device)\n",
        "\n",
        "            mnist_preds, number_preds = network(images, random_nums)  # Pass Batch\n",
        "\n",
        "            # labels_plus_rand_nums = labels + random_nums.squeeze(dim=1)\n",
        "            # labels_plus_rand_nums = encode(labels_plus_rand_nums)\n",
        "\n",
        "            labels_plus_random_nums_encoded = labels_plus_random_nums_encoded.squeeze(dim=1)\n",
        "\n",
        "            loss1 = criterion1(mnist_preds, labels)  # Calculate loss 1\n",
        "            loss2 = criterion2(number_preds, labels_plus_random_nums_encoded)  # Calculate loss 2\n",
        "\n",
        "            loss = loss1 + loss2  # combine both the loss values\n",
        "\n",
        "            optimizer.zero_grad()  # clear previous gradients\n",
        "\n",
        "            loss.backward()  # Calculate Gradients\n",
        "\n",
        "            optimizer.step()  # Update Weights\n",
        "\n",
        "            total_loss += loss.item()\n",
        "\n",
        "            # check correct predictions for MNIST\n",
        "            mnist_correct = mnist_preds.argmax(dim=1).eq(labels).sum().item()\n",
        "            total_correct += mnist_correct\n",
        "\n",
        "            # check correct predictions for number outputs\n",
        "            numbers_preds_correct = number_preds.eq(labels_plus_random_nums_encoded).sum().item()\n",
        "            total_correct += numbers_preds_correct\n",
        "\n",
        "        print(\n",
        "            \"epoch\", epoch,\n",
        "            \"total_correct:\", total_correct,\n",
        "            \"total_loss:\", total_loss,\n",
        "            \"mnist_preds_correct:\", mnist_correct,\n",
        "            \"numbers_preds_correct:\", numbers_preds_correct\n",
        "        )\n"
      ]
    },
    {
      "cell_type": "code",
      "execution_count": 14,
      "metadata": {
        "id": "fGspLfYEVUzm",
        "colab": {
          "base_uri": "https://localhost:8080/"
        },
        "outputId": "a7ffcc3c-2085-463d-8be6-e6f074374832"
      },
      "outputs": [
        {
          "output_type": "stream",
          "name": "stdout",
          "text": [
            "epoch 0 total_correct: 30182 total_loss: 1482.0938935279846 mnist_preds_correct: 68 numbers_preds_correct: 0\n",
            "epoch 1 total_correct: 47383 total_loss: 1221.2797288894653 mnist_preds_correct: 84 numbers_preds_correct: 0\n",
            "epoch 2 total_correct: 50975 total_loss: 1128.7114737033844 mnist_preds_correct: 82 numbers_preds_correct: 0\n",
            "epoch 3 total_correct: 55423 total_loss: 1056.1598411798477 mnist_preds_correct: 97 numbers_preds_correct: 0\n",
            "epoch 4 total_correct: 56521 total_loss: 1022.8202037811279 mnist_preds_correct: 92 numbers_preds_correct: 0\n",
            "epoch 5 total_correct: 56772 total_loss: 1006.7159051895142 mnist_preds_correct: 95 numbers_preds_correct: 0\n",
            "epoch 6 total_correct: 56993 total_loss: 995.5969506502151 mnist_preds_correct: 97 numbers_preds_correct: 0\n",
            "epoch 7 total_correct: 57130 total_loss: 976.068575501442 mnist_preds_correct: 98 numbers_preds_correct: 0\n",
            "epoch 8 total_correct: 54523 total_loss: 1045.0489032268524 mnist_preds_correct: 95 numbers_preds_correct: 0\n",
            "epoch 9 total_correct: 56264 total_loss: 992.501503109932 mnist_preds_correct: 98 numbers_preds_correct: 0\n",
            "epoch 10 total_correct: 57156 total_loss: 964.6466565132141 mnist_preds_correct: 96 numbers_preds_correct: 0\n",
            "epoch 11 total_correct: 57286 total_loss: 957.7145354747772 mnist_preds_correct: 98 numbers_preds_correct: 0\n",
            "epoch 12 total_correct: 57256 total_loss: 958.1977068185806 mnist_preds_correct: 99 numbers_preds_correct: 0\n",
            "epoch 13 total_correct: 57023 total_loss: 965.8387480974197 mnist_preds_correct: 99 numbers_preds_correct: 0\n",
            "epoch 14 total_correct: 56853 total_loss: 967.6137759685516 mnist_preds_correct: 98 numbers_preds_correct: 0\n",
            "epoch 15 total_correct: 56640 total_loss: 975.6689816713333 mnist_preds_correct: 97 numbers_preds_correct: 0\n",
            "epoch 16 total_correct: 57402 total_loss: 949.8710227012634 mnist_preds_correct: 96 numbers_preds_correct: 0\n",
            "epoch 17 total_correct: 57458 total_loss: 948.099093079567 mnist_preds_correct: 96 numbers_preds_correct: 0\n",
            "epoch 18 total_correct: 57332 total_loss: 953.9658039808273 mnist_preds_correct: 97 numbers_preds_correct: 0\n",
            "epoch 19 total_correct: 57374 total_loss: 951.9043372869492 mnist_preds_correct: 95 numbers_preds_correct: 0\n",
            "epoch 20 total_correct: 57386 total_loss: 950.5671820640564 mnist_preds_correct: 96 numbers_preds_correct: 0\n",
            "epoch 21 total_correct: 57002 total_loss: 961.1489055156708 mnist_preds_correct: 99 numbers_preds_correct: 0\n",
            "epoch 22 total_correct: 57335 total_loss: 951.7521640062332 mnist_preds_correct: 98 numbers_preds_correct: 0\n",
            "epoch 23 total_correct: 57418 total_loss: 948.2317340373993 mnist_preds_correct: 97 numbers_preds_correct: 0\n",
            "epoch 24 total_correct: 57075 total_loss: 957.2372220754623 mnist_preds_correct: 96 numbers_preds_correct: 0\n",
            "epoch 25 total_correct: 57142 total_loss: 956.6012617349625 mnist_preds_correct: 98 numbers_preds_correct: 0\n",
            "epoch 26 total_correct: 57631 total_loss: 943.6037734746933 mnist_preds_correct: 94 numbers_preds_correct: 0\n",
            "epoch 27 total_correct: 57097 total_loss: 959.4031195640564 mnist_preds_correct: 90 numbers_preds_correct: 0\n",
            "epoch 28 total_correct: 57389 total_loss: 947.895941734314 mnist_preds_correct: 98 numbers_preds_correct: 0\n",
            "epoch 29 total_correct: 57628 total_loss: 941.3949282169342 mnist_preds_correct: 96 numbers_preds_correct: 0\n",
            "epoch 0 total_correct: 41805 total_loss: 1336.8617041110992 mnist_preds_correct: 93 numbers_preds_correct: 0\n",
            "epoch 1 total_correct: 54893 total_loss: 1118.489981174469 mnist_preds_correct: 93 numbers_preds_correct: 0\n",
            "epoch 2 total_correct: 56451 total_loss: 1038.9122862815857 mnist_preds_correct: 96 numbers_preds_correct: 0\n",
            "epoch 3 total_correct: 56787 total_loss: 1004.4817368984222 mnist_preds_correct: 97 numbers_preds_correct: 0\n",
            "epoch 4 total_correct: 56931 total_loss: 982.9579920768738 mnist_preds_correct: 98 numbers_preds_correct: 0\n",
            "epoch 5 total_correct: 56802 total_loss: 975.1369813680649 mnist_preds_correct: 95 numbers_preds_correct: 0\n",
            "epoch 6 total_correct: 57193 total_loss: 957.4604820013046 mnist_preds_correct: 98 numbers_preds_correct: 0\n",
            "epoch 7 total_correct: 57327 total_loss: 952.6141650676727 mnist_preds_correct: 97 numbers_preds_correct: 0\n",
            "epoch 8 total_correct: 57128 total_loss: 956.0900732278824 mnist_preds_correct: 96 numbers_preds_correct: 0\n",
            "epoch 9 total_correct: 57305 total_loss: 952.4033958911896 mnist_preds_correct: 97 numbers_preds_correct: 0\n",
            "epoch 10 total_correct: 57232 total_loss: 953.6370719671249 mnist_preds_correct: 95 numbers_preds_correct: 0\n",
            "epoch 11 total_correct: 57015 total_loss: 955.6653728485107 mnist_preds_correct: 99 numbers_preds_correct: 0\n",
            "epoch 12 total_correct: 57476 total_loss: 948.0745236873627 mnist_preds_correct: 99 numbers_preds_correct: 0\n",
            "epoch 13 total_correct: 57674 total_loss: 939.1191563606262 mnist_preds_correct: 99 numbers_preds_correct: 0\n",
            "epoch 14 total_correct: 57553 total_loss: 944.994014620781 mnist_preds_correct: 98 numbers_preds_correct: 0\n",
            "epoch 15 total_correct: 57681 total_loss: 938.5698442459106 mnist_preds_correct: 99 numbers_preds_correct: 0\n",
            "epoch 16 total_correct: 57512 total_loss: 946.8626862764359 mnist_preds_correct: 99 numbers_preds_correct: 0\n",
            "epoch 17 total_correct: 57485 total_loss: 942.8321554660797 mnist_preds_correct: 96 numbers_preds_correct: 0\n",
            "epoch 18 total_correct: 57158 total_loss: 952.3908077478409 mnist_preds_correct: 97 numbers_preds_correct: 0\n",
            "epoch 19 total_correct: 57716 total_loss: 938.0163252353668 mnist_preds_correct: 98 numbers_preds_correct: 0\n",
            "epoch 20 total_correct: 57231 total_loss: 952.8464357852936 mnist_preds_correct: 98 numbers_preds_correct: 0\n",
            "epoch 21 total_correct: 56931 total_loss: 959.2525010108948 mnist_preds_correct: 99 numbers_preds_correct: 0\n",
            "epoch 22 total_correct: 57327 total_loss: 950.1743335723877 mnist_preds_correct: 98 numbers_preds_correct: 0\n",
            "epoch 23 total_correct: 57334 total_loss: 950.6828348636627 mnist_preds_correct: 94 numbers_preds_correct: 0\n",
            "epoch 24 total_correct: 57218 total_loss: 949.8630071878433 mnist_preds_correct: 96 numbers_preds_correct: 0\n",
            "epoch 25 total_correct: 56898 total_loss: 955.5964066982269 mnist_preds_correct: 94 numbers_preds_correct: 0\n",
            "epoch 26 total_correct: 55927 total_loss: 980.2815232276917 mnist_preds_correct: 98 numbers_preds_correct: 0\n",
            "epoch 27 total_correct: 56345 total_loss: 968.2615259885788 mnist_preds_correct: 97 numbers_preds_correct: 0\n",
            "epoch 28 total_correct: 56778 total_loss: 962.1999572515488 mnist_preds_correct: 99 numbers_preds_correct: 0\n",
            "epoch 29 total_correct: 57237 total_loss: 947.9179005622864 mnist_preds_correct: 91 numbers_preds_correct: 0\n"
          ]
        }
      ],
      "source": [
        "model = Network()\n",
        "model = model.to(device)\n",
        "train(MyDataset(), model)"
      ]
    },
    {
      "cell_type": "code",
      "execution_count": 14,
      "metadata": {
        "id": "Z_0UXN4bVX3R"
      },
      "outputs": [],
      "source": []
    }
  ],
  "metadata": {
    "accelerator": "GPU",
    "colab": {
      "provenance": []
    },
    "gpuClass": "standard",
    "kernelspec": {
      "display_name": "Python 3",
      "name": "python3"
    },
    "language_info": {
      "name": "python"
    }
  },
  "nbformat": 4,
  "nbformat_minor": 0
}