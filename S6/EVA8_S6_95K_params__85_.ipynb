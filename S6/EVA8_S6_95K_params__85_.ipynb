{
  "nbformat": 4,
  "nbformat_minor": 0,
  "metadata": {
    "accelerator": "GPU",
    "colab": {
      "provenance": []
    },
    "kernelspec": {
      "display_name": "Python 3",
      "name": "python3"
    },
    "language_info": {
      "codemirror_mode": {
        "name": "ipython",
        "version": 3
      },
      "file_extension": ".py",
      "mimetype": "text/x-python",
      "name": "python",
      "nbconvert_exporter": "python",
      "pygments_lexer": "ipython3",
      "version": "3.6.6"
    },
    "gpuClass": "standard",
    "widgets": {
      "application/vnd.jupyter.widget-state+json": {
        "9fe44484895942f2b88b9fec27f0f991": {
          "model_module": "@jupyter-widgets/controls",
          "model_name": "HBoxModel",
          "model_module_version": "1.5.0",
          "state": {
            "_dom_classes": [],
            "_model_module": "@jupyter-widgets/controls",
            "_model_module_version": "1.5.0",
            "_model_name": "HBoxModel",
            "_view_count": null,
            "_view_module": "@jupyter-widgets/controls",
            "_view_module_version": "1.5.0",
            "_view_name": "HBoxView",
            "box_style": "",
            "children": [
              "IPY_MODEL_c4611c26f82649d69e631e7509148dfc",
              "IPY_MODEL_c8f98650690042aaab5ba9f5708a8d97",
              "IPY_MODEL_e93a765e7e9d47c288df7cc9592167b3"
            ],
            "layout": "IPY_MODEL_8c8311a7bf03452c8a462faa916a1e40"
          }
        },
        "c4611c26f82649d69e631e7509148dfc": {
          "model_module": "@jupyter-widgets/controls",
          "model_name": "HTMLModel",
          "model_module_version": "1.5.0",
          "state": {
            "_dom_classes": [],
            "_model_module": "@jupyter-widgets/controls",
            "_model_module_version": "1.5.0",
            "_model_name": "HTMLModel",
            "_view_count": null,
            "_view_module": "@jupyter-widgets/controls",
            "_view_module_version": "1.5.0",
            "_view_name": "HTMLView",
            "description": "",
            "description_tooltip": null,
            "layout": "IPY_MODEL_d4b9819caf1242ddb8bfec78eebe9f0f",
            "placeholder": "​",
            "style": "IPY_MODEL_47f0b9f20488452eb95237632fcdee34",
            "value": "100%"
          }
        },
        "c8f98650690042aaab5ba9f5708a8d97": {
          "model_module": "@jupyter-widgets/controls",
          "model_name": "FloatProgressModel",
          "model_module_version": "1.5.0",
          "state": {
            "_dom_classes": [],
            "_model_module": "@jupyter-widgets/controls",
            "_model_module_version": "1.5.0",
            "_model_name": "FloatProgressModel",
            "_view_count": null,
            "_view_module": "@jupyter-widgets/controls",
            "_view_module_version": "1.5.0",
            "_view_name": "ProgressView",
            "bar_style": "success",
            "description": "",
            "description_tooltip": null,
            "layout": "IPY_MODEL_eb5e878145804b94968cacda88e34c4c",
            "max": 170498071,
            "min": 0,
            "orientation": "horizontal",
            "style": "IPY_MODEL_1c03afc055b74e2f95ed84cb9b5ed657",
            "value": 170498071
          }
        },
        "e93a765e7e9d47c288df7cc9592167b3": {
          "model_module": "@jupyter-widgets/controls",
          "model_name": "HTMLModel",
          "model_module_version": "1.5.0",
          "state": {
            "_dom_classes": [],
            "_model_module": "@jupyter-widgets/controls",
            "_model_module_version": "1.5.0",
            "_model_name": "HTMLModel",
            "_view_count": null,
            "_view_module": "@jupyter-widgets/controls",
            "_view_module_version": "1.5.0",
            "_view_name": "HTMLView",
            "description": "",
            "description_tooltip": null,
            "layout": "IPY_MODEL_ed0006aa7ab4459d86b7949c579d9005",
            "placeholder": "​",
            "style": "IPY_MODEL_8a50ebcc039a45fcbca282d386fec3c8",
            "value": " 170498071/170498071 [00:01&lt;00:00, 96756312.83it/s]"
          }
        },
        "8c8311a7bf03452c8a462faa916a1e40": {
          "model_module": "@jupyter-widgets/base",
          "model_name": "LayoutModel",
          "model_module_version": "1.2.0",
          "state": {
            "_model_module": "@jupyter-widgets/base",
            "_model_module_version": "1.2.0",
            "_model_name": "LayoutModel",
            "_view_count": null,
            "_view_module": "@jupyter-widgets/base",
            "_view_module_version": "1.2.0",
            "_view_name": "LayoutView",
            "align_content": null,
            "align_items": null,
            "align_self": null,
            "border": null,
            "bottom": null,
            "display": null,
            "flex": null,
            "flex_flow": null,
            "grid_area": null,
            "grid_auto_columns": null,
            "grid_auto_flow": null,
            "grid_auto_rows": null,
            "grid_column": null,
            "grid_gap": null,
            "grid_row": null,
            "grid_template_areas": null,
            "grid_template_columns": null,
            "grid_template_rows": null,
            "height": null,
            "justify_content": null,
            "justify_items": null,
            "left": null,
            "margin": null,
            "max_height": null,
            "max_width": null,
            "min_height": null,
            "min_width": null,
            "object_fit": null,
            "object_position": null,
            "order": null,
            "overflow": null,
            "overflow_x": null,
            "overflow_y": null,
            "padding": null,
            "right": null,
            "top": null,
            "visibility": null,
            "width": null
          }
        },
        "d4b9819caf1242ddb8bfec78eebe9f0f": {
          "model_module": "@jupyter-widgets/base",
          "model_name": "LayoutModel",
          "model_module_version": "1.2.0",
          "state": {
            "_model_module": "@jupyter-widgets/base",
            "_model_module_version": "1.2.0",
            "_model_name": "LayoutModel",
            "_view_count": null,
            "_view_module": "@jupyter-widgets/base",
            "_view_module_version": "1.2.0",
            "_view_name": "LayoutView",
            "align_content": null,
            "align_items": null,
            "align_self": null,
            "border": null,
            "bottom": null,
            "display": null,
            "flex": null,
            "flex_flow": null,
            "grid_area": null,
            "grid_auto_columns": null,
            "grid_auto_flow": null,
            "grid_auto_rows": null,
            "grid_column": null,
            "grid_gap": null,
            "grid_row": null,
            "grid_template_areas": null,
            "grid_template_columns": null,
            "grid_template_rows": null,
            "height": null,
            "justify_content": null,
            "justify_items": null,
            "left": null,
            "margin": null,
            "max_height": null,
            "max_width": null,
            "min_height": null,
            "min_width": null,
            "object_fit": null,
            "object_position": null,
            "order": null,
            "overflow": null,
            "overflow_x": null,
            "overflow_y": null,
            "padding": null,
            "right": null,
            "top": null,
            "visibility": null,
            "width": null
          }
        },
        "47f0b9f20488452eb95237632fcdee34": {
          "model_module": "@jupyter-widgets/controls",
          "model_name": "DescriptionStyleModel",
          "model_module_version": "1.5.0",
          "state": {
            "_model_module": "@jupyter-widgets/controls",
            "_model_module_version": "1.5.0",
            "_model_name": "DescriptionStyleModel",
            "_view_count": null,
            "_view_module": "@jupyter-widgets/base",
            "_view_module_version": "1.2.0",
            "_view_name": "StyleView",
            "description_width": ""
          }
        },
        "eb5e878145804b94968cacda88e34c4c": {
          "model_module": "@jupyter-widgets/base",
          "model_name": "LayoutModel",
          "model_module_version": "1.2.0",
          "state": {
            "_model_module": "@jupyter-widgets/base",
            "_model_module_version": "1.2.0",
            "_model_name": "LayoutModel",
            "_view_count": null,
            "_view_module": "@jupyter-widgets/base",
            "_view_module_version": "1.2.0",
            "_view_name": "LayoutView",
            "align_content": null,
            "align_items": null,
            "align_self": null,
            "border": null,
            "bottom": null,
            "display": null,
            "flex": null,
            "flex_flow": null,
            "grid_area": null,
            "grid_auto_columns": null,
            "grid_auto_flow": null,
            "grid_auto_rows": null,
            "grid_column": null,
            "grid_gap": null,
            "grid_row": null,
            "grid_template_areas": null,
            "grid_template_columns": null,
            "grid_template_rows": null,
            "height": null,
            "justify_content": null,
            "justify_items": null,
            "left": null,
            "margin": null,
            "max_height": null,
            "max_width": null,
            "min_height": null,
            "min_width": null,
            "object_fit": null,
            "object_position": null,
            "order": null,
            "overflow": null,
            "overflow_x": null,
            "overflow_y": null,
            "padding": null,
            "right": null,
            "top": null,
            "visibility": null,
            "width": null
          }
        },
        "1c03afc055b74e2f95ed84cb9b5ed657": {
          "model_module": "@jupyter-widgets/controls",
          "model_name": "ProgressStyleModel",
          "model_module_version": "1.5.0",
          "state": {
            "_model_module": "@jupyter-widgets/controls",
            "_model_module_version": "1.5.0",
            "_model_name": "ProgressStyleModel",
            "_view_count": null,
            "_view_module": "@jupyter-widgets/base",
            "_view_module_version": "1.2.0",
            "_view_name": "StyleView",
            "bar_color": null,
            "description_width": ""
          }
        },
        "ed0006aa7ab4459d86b7949c579d9005": {
          "model_module": "@jupyter-widgets/base",
          "model_name": "LayoutModel",
          "model_module_version": "1.2.0",
          "state": {
            "_model_module": "@jupyter-widgets/base",
            "_model_module_version": "1.2.0",
            "_model_name": "LayoutModel",
            "_view_count": null,
            "_view_module": "@jupyter-widgets/base",
            "_view_module_version": "1.2.0",
            "_view_name": "LayoutView",
            "align_content": null,
            "align_items": null,
            "align_self": null,
            "border": null,
            "bottom": null,
            "display": null,
            "flex": null,
            "flex_flow": null,
            "grid_area": null,
            "grid_auto_columns": null,
            "grid_auto_flow": null,
            "grid_auto_rows": null,
            "grid_column": null,
            "grid_gap": null,
            "grid_row": null,
            "grid_template_areas": null,
            "grid_template_columns": null,
            "grid_template_rows": null,
            "height": null,
            "justify_content": null,
            "justify_items": null,
            "left": null,
            "margin": null,
            "max_height": null,
            "max_width": null,
            "min_height": null,
            "min_width": null,
            "object_fit": null,
            "object_position": null,
            "order": null,
            "overflow": null,
            "overflow_x": null,
            "overflow_y": null,
            "padding": null,
            "right": null,
            "top": null,
            "visibility": null,
            "width": null
          }
        },
        "8a50ebcc039a45fcbca282d386fec3c8": {
          "model_module": "@jupyter-widgets/controls",
          "model_name": "DescriptionStyleModel",
          "model_module_version": "1.5.0",
          "state": {
            "_model_module": "@jupyter-widgets/controls",
            "_model_module_version": "1.5.0",
            "_model_name": "DescriptionStyleModel",
            "_view_count": null,
            "_view_module": "@jupyter-widgets/base",
            "_view_module_version": "1.2.0",
            "_view_name": "StyleView",
            "description_width": ""
          }
        },
        "6cd107b92c754dad840a218c0df931c4": {
          "model_module": "@jupyter-widgets/controls",
          "model_name": "HBoxModel",
          "model_module_version": "1.5.0",
          "state": {
            "_dom_classes": [],
            "_model_module": "@jupyter-widgets/controls",
            "_model_module_version": "1.5.0",
            "_model_name": "HBoxModel",
            "_view_count": null,
            "_view_module": "@jupyter-widgets/controls",
            "_view_module_version": "1.5.0",
            "_view_name": "HBoxView",
            "box_style": "",
            "children": [
              "IPY_MODEL_7c952403e1a741ccb8abbdf3f86c8d3a",
              "IPY_MODEL_cf3659aac7514abe8876552d27d93d52",
              "IPY_MODEL_f5a5bbfa5dd84c7e8b451bf01eb1fcc0"
            ],
            "layout": "IPY_MODEL_3cebcb9e3d9a42398bc15235a8cf6203"
          }
        },
        "7c952403e1a741ccb8abbdf3f86c8d3a": {
          "model_module": "@jupyter-widgets/controls",
          "model_name": "HTMLModel",
          "model_module_version": "1.5.0",
          "state": {
            "_dom_classes": [],
            "_model_module": "@jupyter-widgets/controls",
            "_model_module_version": "1.5.0",
            "_model_name": "HTMLModel",
            "_view_count": null,
            "_view_module": "@jupyter-widgets/controls",
            "_view_module_version": "1.5.0",
            "_view_name": "HTMLView",
            "description": "",
            "description_tooltip": null,
            "layout": "IPY_MODEL_6b8d0db09a8d480f9ffa8c81577b32d6",
            "placeholder": "​",
            "style": "IPY_MODEL_a84cd5d419c3498f92adce9fb940dcca",
            "value": "100%"
          }
        },
        "cf3659aac7514abe8876552d27d93d52": {
          "model_module": "@jupyter-widgets/controls",
          "model_name": "FloatProgressModel",
          "model_module_version": "1.5.0",
          "state": {
            "_dom_classes": [],
            "_model_module": "@jupyter-widgets/controls",
            "_model_module_version": "1.5.0",
            "_model_name": "FloatProgressModel",
            "_view_count": null,
            "_view_module": "@jupyter-widgets/controls",
            "_view_module_version": "1.5.0",
            "_view_name": "ProgressView",
            "bar_style": "success",
            "description": "",
            "description_tooltip": null,
            "layout": "IPY_MODEL_c91704e6b079403b9b0d96933ea408bf",
            "max": 170498071,
            "min": 0,
            "orientation": "horizontal",
            "style": "IPY_MODEL_96fb5152528d4ac99c51864b7bca52ca",
            "value": 170498071
          }
        },
        "f5a5bbfa5dd84c7e8b451bf01eb1fcc0": {
          "model_module": "@jupyter-widgets/controls",
          "model_name": "HTMLModel",
          "model_module_version": "1.5.0",
          "state": {
            "_dom_classes": [],
            "_model_module": "@jupyter-widgets/controls",
            "_model_module_version": "1.5.0",
            "_model_name": "HTMLModel",
            "_view_count": null,
            "_view_module": "@jupyter-widgets/controls",
            "_view_module_version": "1.5.0",
            "_view_name": "HTMLView",
            "description": "",
            "description_tooltip": null,
            "layout": "IPY_MODEL_ba21ad5b373f45f7b80da886589105b2",
            "placeholder": "​",
            "style": "IPY_MODEL_66e2a6a1bade42a18be3adb411dd66ad",
            "value": " 170498071/170498071 [00:03&lt;00:00, 52596116.56it/s]"
          }
        },
        "3cebcb9e3d9a42398bc15235a8cf6203": {
          "model_module": "@jupyter-widgets/base",
          "model_name": "LayoutModel",
          "model_module_version": "1.2.0",
          "state": {
            "_model_module": "@jupyter-widgets/base",
            "_model_module_version": "1.2.0",
            "_model_name": "LayoutModel",
            "_view_count": null,
            "_view_module": "@jupyter-widgets/base",
            "_view_module_version": "1.2.0",
            "_view_name": "LayoutView",
            "align_content": null,
            "align_items": null,
            "align_self": null,
            "border": null,
            "bottom": null,
            "display": null,
            "flex": null,
            "flex_flow": null,
            "grid_area": null,
            "grid_auto_columns": null,
            "grid_auto_flow": null,
            "grid_auto_rows": null,
            "grid_column": null,
            "grid_gap": null,
            "grid_row": null,
            "grid_template_areas": null,
            "grid_template_columns": null,
            "grid_template_rows": null,
            "height": null,
            "justify_content": null,
            "justify_items": null,
            "left": null,
            "margin": null,
            "max_height": null,
            "max_width": null,
            "min_height": null,
            "min_width": null,
            "object_fit": null,
            "object_position": null,
            "order": null,
            "overflow": null,
            "overflow_x": null,
            "overflow_y": null,
            "padding": null,
            "right": null,
            "top": null,
            "visibility": null,
            "width": null
          }
        },
        "6b8d0db09a8d480f9ffa8c81577b32d6": {
          "model_module": "@jupyter-widgets/base",
          "model_name": "LayoutModel",
          "model_module_version": "1.2.0",
          "state": {
            "_model_module": "@jupyter-widgets/base",
            "_model_module_version": "1.2.0",
            "_model_name": "LayoutModel",
            "_view_count": null,
            "_view_module": "@jupyter-widgets/base",
            "_view_module_version": "1.2.0",
            "_view_name": "LayoutView",
            "align_content": null,
            "align_items": null,
            "align_self": null,
            "border": null,
            "bottom": null,
            "display": null,
            "flex": null,
            "flex_flow": null,
            "grid_area": null,
            "grid_auto_columns": null,
            "grid_auto_flow": null,
            "grid_auto_rows": null,
            "grid_column": null,
            "grid_gap": null,
            "grid_row": null,
            "grid_template_areas": null,
            "grid_template_columns": null,
            "grid_template_rows": null,
            "height": null,
            "justify_content": null,
            "justify_items": null,
            "left": null,
            "margin": null,
            "max_height": null,
            "max_width": null,
            "min_height": null,
            "min_width": null,
            "object_fit": null,
            "object_position": null,
            "order": null,
            "overflow": null,
            "overflow_x": null,
            "overflow_y": null,
            "padding": null,
            "right": null,
            "top": null,
            "visibility": null,
            "width": null
          }
        },
        "a84cd5d419c3498f92adce9fb940dcca": {
          "model_module": "@jupyter-widgets/controls",
          "model_name": "DescriptionStyleModel",
          "model_module_version": "1.5.0",
          "state": {
            "_model_module": "@jupyter-widgets/controls",
            "_model_module_version": "1.5.0",
            "_model_name": "DescriptionStyleModel",
            "_view_count": null,
            "_view_module": "@jupyter-widgets/base",
            "_view_module_version": "1.2.0",
            "_view_name": "StyleView",
            "description_width": ""
          }
        },
        "c91704e6b079403b9b0d96933ea408bf": {
          "model_module": "@jupyter-widgets/base",
          "model_name": "LayoutModel",
          "model_module_version": "1.2.0",
          "state": {
            "_model_module": "@jupyter-widgets/base",
            "_model_module_version": "1.2.0",
            "_model_name": "LayoutModel",
            "_view_count": null,
            "_view_module": "@jupyter-widgets/base",
            "_view_module_version": "1.2.0",
            "_view_name": "LayoutView",
            "align_content": null,
            "align_items": null,
            "align_self": null,
            "border": null,
            "bottom": null,
            "display": null,
            "flex": null,
            "flex_flow": null,
            "grid_area": null,
            "grid_auto_columns": null,
            "grid_auto_flow": null,
            "grid_auto_rows": null,
            "grid_column": null,
            "grid_gap": null,
            "grid_row": null,
            "grid_template_areas": null,
            "grid_template_columns": null,
            "grid_template_rows": null,
            "height": null,
            "justify_content": null,
            "justify_items": null,
            "left": null,
            "margin": null,
            "max_height": null,
            "max_width": null,
            "min_height": null,
            "min_width": null,
            "object_fit": null,
            "object_position": null,
            "order": null,
            "overflow": null,
            "overflow_x": null,
            "overflow_y": null,
            "padding": null,
            "right": null,
            "top": null,
            "visibility": null,
            "width": null
          }
        },
        "96fb5152528d4ac99c51864b7bca52ca": {
          "model_module": "@jupyter-widgets/controls",
          "model_name": "ProgressStyleModel",
          "model_module_version": "1.5.0",
          "state": {
            "_model_module": "@jupyter-widgets/controls",
            "_model_module_version": "1.5.0",
            "_model_name": "ProgressStyleModel",
            "_view_count": null,
            "_view_module": "@jupyter-widgets/base",
            "_view_module_version": "1.2.0",
            "_view_name": "StyleView",
            "bar_color": null,
            "description_width": ""
          }
        },
        "ba21ad5b373f45f7b80da886589105b2": {
          "model_module": "@jupyter-widgets/base",
          "model_name": "LayoutModel",
          "model_module_version": "1.2.0",
          "state": {
            "_model_module": "@jupyter-widgets/base",
            "_model_module_version": "1.2.0",
            "_model_name": "LayoutModel",
            "_view_count": null,
            "_view_module": "@jupyter-widgets/base",
            "_view_module_version": "1.2.0",
            "_view_name": "LayoutView",
            "align_content": null,
            "align_items": null,
            "align_self": null,
            "border": null,
            "bottom": null,
            "display": null,
            "flex": null,
            "flex_flow": null,
            "grid_area": null,
            "grid_auto_columns": null,
            "grid_auto_flow": null,
            "grid_auto_rows": null,
            "grid_column": null,
            "grid_gap": null,
            "grid_row": null,
            "grid_template_areas": null,
            "grid_template_columns": null,
            "grid_template_rows": null,
            "height": null,
            "justify_content": null,
            "justify_items": null,
            "left": null,
            "margin": null,
            "max_height": null,
            "max_width": null,
            "min_height": null,
            "min_width": null,
            "object_fit": null,
            "object_position": null,
            "order": null,
            "overflow": null,
            "overflow_x": null,
            "overflow_y": null,
            "padding": null,
            "right": null,
            "top": null,
            "visibility": null,
            "width": null
          }
        },
        "66e2a6a1bade42a18be3adb411dd66ad": {
          "model_module": "@jupyter-widgets/controls",
          "model_name": "DescriptionStyleModel",
          "model_module_version": "1.5.0",
          "state": {
            "_model_module": "@jupyter-widgets/controls",
            "_model_module_version": "1.5.0",
            "_model_name": "DescriptionStyleModel",
            "_view_count": null,
            "_view_module": "@jupyter-widgets/base",
            "_view_module_version": "1.2.0",
            "_view_name": "StyleView",
            "description_width": ""
          }
        }
      }
    }
  },
  "cells": [
    {
      "cell_type": "markdown",
      "metadata": {
        "id": "2K7gWTWYLd4i"
      },
      "source": [
        "\n",
        "# Loading and normalizing CIFAR10\n"
      ]
    },
    {
      "cell_type": "code",
      "metadata": {
        "colab": {
          "base_uri": "https://localhost:8080/"
        },
        "id": "yrACTK9GvN8I",
        "outputId": "4f83cd4b-881b-47d6-97ae-dbd4fb97d8d2"
      },
      "source": [
        "!pip install albumentations==0.5.2"
      ],
      "execution_count": null,
      "outputs": [
        {
          "output_type": "stream",
          "name": "stdout",
          "text": [
            "Looking in indexes: https://pypi.org/simple, https://us-python.pkg.dev/colab-wheels/public/simple/\n",
            "Collecting albumentations==0.5.2\n",
            "  Downloading albumentations-0.5.2-py3-none-any.whl (72 kB)\n",
            "\u001b[2K     \u001b[90m━━━━━━━━━━━━━━━━━━━━━━━━━━━━━━━━━━━━━━━━\u001b[0m \u001b[32m72.2/72.2 KB\u001b[0m \u001b[31m5.1 MB/s\u001b[0m eta \u001b[36m0:00:00\u001b[0m\n",
            "\u001b[?25hRequirement already satisfied: scikit-image>=0.16.1 in /usr/local/lib/python3.8/dist-packages (from albumentations==0.5.2) (0.18.3)\n",
            "Requirement already satisfied: scipy in /usr/local/lib/python3.8/dist-packages (from albumentations==0.5.2) (1.7.3)\n",
            "Requirement already satisfied: numpy>=1.11.1 in /usr/local/lib/python3.8/dist-packages (from albumentations==0.5.2) (1.21.6)\n",
            "Requirement already satisfied: opencv-python-headless>=4.1.1 in /usr/local/lib/python3.8/dist-packages (from albumentations==0.5.2) (4.7.0.68)\n",
            "Requirement already satisfied: imgaug>=0.4.0 in /usr/local/lib/python3.8/dist-packages (from albumentations==0.5.2) (0.4.0)\n",
            "Requirement already satisfied: PyYAML in /usr/local/lib/python3.8/dist-packages (from albumentations==0.5.2) (6.0)\n",
            "Requirement already satisfied: six in /usr/local/lib/python3.8/dist-packages (from imgaug>=0.4.0->albumentations==0.5.2) (1.15.0)\n",
            "Requirement already satisfied: imageio in /usr/local/lib/python3.8/dist-packages (from imgaug>=0.4.0->albumentations==0.5.2) (2.9.0)\n",
            "Requirement already satisfied: matplotlib in /usr/local/lib/python3.8/dist-packages (from imgaug>=0.4.0->albumentations==0.5.2) (3.2.2)\n",
            "Requirement already satisfied: opencv-python in /usr/local/lib/python3.8/dist-packages (from imgaug>=0.4.0->albumentations==0.5.2) (4.6.0.66)\n",
            "Requirement already satisfied: Pillow in /usr/local/lib/python3.8/dist-packages (from imgaug>=0.4.0->albumentations==0.5.2) (7.1.2)\n",
            "Requirement already satisfied: Shapely in /usr/local/lib/python3.8/dist-packages (from imgaug>=0.4.0->albumentations==0.5.2) (2.0.1)\n",
            "Requirement already satisfied: tifffile>=2019.7.26 in /usr/local/lib/python3.8/dist-packages (from scikit-image>=0.16.1->albumentations==0.5.2) (2023.1.23.1)\n",
            "Requirement already satisfied: networkx>=2.0 in /usr/local/lib/python3.8/dist-packages (from scikit-image>=0.16.1->albumentations==0.5.2) (3.0)\n",
            "Requirement already satisfied: PyWavelets>=1.1.1 in /usr/local/lib/python3.8/dist-packages (from scikit-image>=0.16.1->albumentations==0.5.2) (1.4.1)\n",
            "Requirement already satisfied: cycler>=0.10 in /usr/local/lib/python3.8/dist-packages (from matplotlib->imgaug>=0.4.0->albumentations==0.5.2) (0.11.0)\n",
            "Requirement already satisfied: kiwisolver>=1.0.1 in /usr/local/lib/python3.8/dist-packages (from matplotlib->imgaug>=0.4.0->albumentations==0.5.2) (1.4.4)\n",
            "Requirement already satisfied: pyparsing!=2.0.4,!=2.1.2,!=2.1.6,>=2.0.1 in /usr/local/lib/python3.8/dist-packages (from matplotlib->imgaug>=0.4.0->albumentations==0.5.2) (3.0.9)\n",
            "Requirement already satisfied: python-dateutil>=2.1 in /usr/local/lib/python3.8/dist-packages (from matplotlib->imgaug>=0.4.0->albumentations==0.5.2) (2.8.2)\n",
            "Installing collected packages: albumentations\n",
            "  Attempting uninstall: albumentations\n",
            "    Found existing installation: albumentations 1.2.1\n",
            "    Uninstalling albumentations-1.2.1:\n",
            "      Successfully uninstalled albumentations-1.2.1\n",
            "Successfully installed albumentations-0.5.2\n"
          ]
        }
      ]
    },
    {
      "cell_type": "code",
      "metadata": {
        "id": "-yVpodAMpoCi"
      },
      "source": [
        "import torch\n",
        "import torchvision\n",
        "import numpy as np\n",
        "import torchvision.transforms as transforms\n",
        "import torch.nn as nn\n",
        "import torch.nn.functional as F\n",
        "from torchsummary import summary\n",
        "import torch.optim as optim\n",
        "from tqdm import tqdm\n",
        "from torch.optim.lr_scheduler import StepLR\n",
        "from functools import partial\n",
        "%matplotlib inline\n",
        "\n",
        "cv = partial(nn.Conv2d, bias=False)\n",
        "bn = nn.BatchNorm2d\n",
        "relu = nn.ReLU\n",
        "\n",
        "classes = ('plane', 'car', 'bird', 'cat', 'deer', 'dog', 'frog', 'horse', 'ship', 'truck')"
      ],
      "execution_count": null,
      "outputs": []
    },
    {
      "cell_type": "code",
      "metadata": {
        "id": "oH4IWUA1SNGa"
      },
      "source": [
        "import albumentations as A\n",
        "from albumentations.pytorch.transforms import ToTensor"
      ],
      "execution_count": null,
      "outputs": []
    },
    {
      "cell_type": "code",
      "metadata": {
        "id": "D8Tjigo2poCl",
        "colab": {
          "base_uri": "https://localhost:8080/",
          "height": 102,
          "referenced_widgets": [
            "9fe44484895942f2b88b9fec27f0f991",
            "c4611c26f82649d69e631e7509148dfc",
            "c8f98650690042aaab5ba9f5708a8d97",
            "e93a765e7e9d47c288df7cc9592167b3",
            "8c8311a7bf03452c8a462faa916a1e40",
            "d4b9819caf1242ddb8bfec78eebe9f0f",
            "47f0b9f20488452eb95237632fcdee34",
            "eb5e878145804b94968cacda88e34c4c",
            "1c03afc055b74e2f95ed84cb9b5ed657",
            "ed0006aa7ab4459d86b7949c579d9005",
            "8a50ebcc039a45fcbca282d386fec3c8"
          ]
        },
        "outputId": "db32d4b3-71a2-4827-9dc3-8c8434fb31c9"
      },
      "source": [
        "transform = transforms.Compose([transforms.ToTensor()]) # simple ToTensor for now\n",
        "\n",
        "train_set = torchvision.datasets.CIFAR10(root='./cifar10', download=True, train=True, transform=transform)\n"
      ],
      "execution_count": null,
      "outputs": [
        {
          "output_type": "stream",
          "name": "stdout",
          "text": [
            "Downloading https://www.cs.toronto.edu/~kriz/cifar-10-python.tar.gz to ./cifar10/cifar-10-python.tar.gz\n"
          ]
        },
        {
          "output_type": "display_data",
          "data": {
            "text/plain": [
              "  0%|          | 0/170498071 [00:00<?, ?it/s]"
            ],
            "application/vnd.jupyter.widget-view+json": {
              "version_major": 2,
              "version_minor": 0,
              "model_id": "9fe44484895942f2b88b9fec27f0f991"
            }
          },
          "metadata": {}
        },
        {
          "output_type": "stream",
          "name": "stdout",
          "text": [
            "Extracting ./cifar10/cifar-10-python.tar.gz to ./cifar10\n"
          ]
        }
      ]
    },
    {
      "cell_type": "code",
      "metadata": {
        "id": "Pcq0CLIKTX-o",
        "colab": {
          "base_uri": "https://localhost:8080/"
        },
        "outputId": "a6e821ff-7528-4484-ebfe-b583aa78d67e"
      },
      "source": [
        "train_set.data.shape # train data shape"
      ],
      "execution_count": null,
      "outputs": [
        {
          "output_type": "execute_result",
          "data": {
            "text/plain": [
              "(50000, 32, 32, 3)"
            ]
          },
          "metadata": {},
          "execution_count": 11
        }
      ]
    },
    {
      "cell_type": "code",
      "metadata": {
        "id": "ldxJ0FQ-Wuum",
        "colab": {
          "base_uri": "https://localhost:8080/"
        },
        "outputId": "36bbe1d0-ff1d-4e68-9445-ebe874d66325"
      },
      "source": [
        "# calculate mean and standard deviation\n",
        "\n",
        "m = np.mean(train_set.data, axis=(0,1,2))\n",
        "print(m/255)\n",
        "\n",
        "s = np.std(train_set.data, axis=(0, 1, 2))\n",
        "print(s/255)"
      ],
      "execution_count": null,
      "outputs": [
        {
          "output_type": "stream",
          "name": "stdout",
          "text": [
            "[0.49139968 0.48215841 0.44653091]\n",
            "[0.24703223 0.24348513 0.26158784]\n"
          ]
        }
      ]
    },
    {
      "cell_type": "code",
      "metadata": {
        "id": "c05SafsfuY58"
      },
      "source": [
        "mean = m/255\n",
        "sdev = s/255"
      ],
      "execution_count": null,
      "outputs": []
    },
    {
      "cell_type": "code",
      "metadata": {
        "id": "1NrvhVCrvIBS",
        "colab": {
          "base_uri": "https://localhost:8080/"
        },
        "outputId": "d72c22cb-a583-45b7-cb8e-e508ce442f5b"
      },
      "source": [
        "SEED = 101\n",
        "BATCH = 32\n",
        "\n",
        "cuda = torch.cuda.is_available()\n",
        "print(\"CUDA Available?\", cuda)\n",
        "\n",
        "if cuda:\n",
        "    torch.cuda.manual_seed(SEED)\n",
        "\n",
        "device = torch.device(\"cuda\" if cuda else \"cpu\")\n",
        "\n",
        "# dataloader arguments\n",
        "dataloader_args = dict(shuffle=True, batch_size=BATCH, num_workers=2, pin_memory=True)\\\n",
        "    if cuda else dict(shuffle=True, batch_size=32)\n"
      ],
      "execution_count": null,
      "outputs": [
        {
          "output_type": "stream",
          "name": "stdout",
          "text": [
            "CUDA Available? False\n"
          ]
        }
      ]
    },
    {
      "cell_type": "code",
      "metadata": {
        "id": "kkuRfo1IpoC3"
      },
      "source": [
        "def train_eval_model(model, train_loader, optimizer, device, epochs=1, test=False, test_loader=None, scheduler=None):\n",
        "          \n",
        "    model.train() # set the train mode\n",
        "    \n",
        "    # iterate over for `epochs` epochs and keep storing valuable info\n",
        "\n",
        "    for epoch in range(epochs):\n",
        "      correct = processed = train_loss = 0\n",
        "    #   if scheduler:\n",
        "    #     scheduler.step()\n",
        "\n",
        "      print(f\"\\n epoch num ================================= {epoch+1}\")\n",
        "      \n",
        "      pbar = tqdm(train_loader)\n",
        "      \n",
        "      for batch_idx, (data, target) in enumerate(pbar):\n",
        "          data, target = data.to(device), target.to(device) # move data to `device`\n",
        "\n",
        "          optimizer.zero_grad() # zero out the gradients to avoid accumulating them over loops\n",
        "\n",
        "          output = model(data) # get the model's predictions\n",
        "\n",
        "          loss = F.nll_loss(output, target) # calculate Negative Log Likelihood loss using ground truth labels and the model's predictions\n",
        "\n",
        "          train_loss += loss.item() # add up the train loss\n",
        "\n",
        "          loss.backward() # The magic function to perform backpropagation and calculate the gradients\n",
        "\n",
        "          optimizer.step() # take 1 step for the optimizer and update the weights\n",
        "\n",
        "          pred = output.argmax(dim=1, keepdim=True)  # get the index of the max log-probability\n",
        "\n",
        "          correct += pred.eq(target.view_as(pred)).sum().item() #  compare and see how many predictions are coorect and then add up the count\n",
        "\n",
        "          processed += len(data) # total processed data size\n",
        "\n",
        "      acc = 100 * correct/processed\n",
        "\n",
        "      train_losses.append(train_loss)\n",
        "\n",
        "      train_accuracy.append(acc)\n",
        "\n",
        "      if scheduler:\n",
        "        print(\"\\n\\n\\t\\t\\tLast LR -->\", scheduler.get_last_lr())\n",
        "        scheduler.step()\n",
        "\n",
        "      pbar.set_description(desc= f'loss={loss.item()} batch_id={batch_idx}')\n",
        "      \n",
        "      \n",
        "      train_loss /= len(train_loader.dataset)\n",
        "      \n",
        "      print('\\n\\t\\t\\tTrain metrics: accuracy: {}/{} ({:.4f}%)'.format(correct,\n",
        "                                                              len(train_loader.dataset),\n",
        "                                                              correct * 100 / len(train_loader.dataset)))\n",
        "\n",
        "      if test: # moving to evaluation\n",
        "          model.eval() # set the correct mode\n",
        "          \n",
        "          correct = test_loss = 0\n",
        "\n",
        "          with torch.no_grad(): # to disable gradient calculation with no_grad context\n",
        "              \n",
        "              for data, target in test_loader:\n",
        "\n",
        "                  data, target = data.to(device), target.to(device)\n",
        "                  \n",
        "                  output = model(data)\n",
        "                  \n",
        "                  test_loss += F.nll_loss(output, target, reduction='sum').item()  # sum up batch loss\n",
        "                  \n",
        "                  pred = output.argmax(dim=1, keepdim=True)  # get the index of the max log-probability\n",
        "                  \n",
        "                  correct += pred.eq(target.view_as(pred)).sum().item()\n",
        "\n",
        "          test_loss /= len(test_loader.dataset)\n",
        "          test_losses.append(test_loss)\n",
        "          test_accuracy.append(100. * correct / len(test_loader.dataset))\n",
        "\n",
        "          print('\\n\\tTest metrics: average loss: {:.4f}, accuracy: {}/{} ({:.5f}%)\\n'.format(\n",
        "              test_loss, correct, len(test_loader.dataset),\n",
        "              100. * correct / len(test_loader.dataset)))"
      ],
      "execution_count": null,
      "outputs": []
    },
    {
      "cell_type": "code",
      "metadata": {
        "id": "GifNf68LwCav"
      },
      "source": [
        "def plot_graphs(*, train_losses, train_accuracy, test_losses, test_accuracy):\n",
        "    fig, axs = plt.subplots(2,2,figsize=(20,10))\n",
        "    axs[0, 0].plot(train_losses)\n",
        "    axs[0, 0].set_title(\"Training Loss\")\n",
        "    axs[1, 0].plot(train_accuracy)\n",
        "    axs[1, 0].set_title(\"Training Accuracy\")\n",
        "    axs[0, 1].plot(test_losses)\n",
        "    axs[0, 1].set_title(\"Test Loss\")\n",
        "    axs[1, 1].plot(test_accuracy)\n",
        "    axs[1, 1].set_title(\"Test Accuracy\")"
      ],
      "execution_count": null,
      "outputs": []
    },
    {
      "cell_type": "code",
      "metadata": {
        "id": "w_hwQGwmzahO"
      },
      "source": [
        "class Cifar10SearchDataset(torchvision.datasets.CIFAR10):\n",
        "    def __init__(self, root=\"./data/cifar10\", train=True, download=True, transform=None):\n",
        "        super().__init__(root=root, train=train, download=download, transform=transform)\n",
        "\n",
        "    def __getitem__(self, index):\n",
        "        image, label = self.data[index], self.targets[index]\n",
        "\n",
        "        if self.transform is not None:\n",
        "            transformed = self.transform(image=image)\n",
        "            image = transformed[\"image\"]\n",
        "\n",
        "        return image, label"
      ],
      "execution_count": null,
      "outputs": []
    },
    {
      "cell_type": "code",
      "metadata": {
        "id": "trNiivNwhn13"
      },
      "source": [
        "# transforms\n",
        "\n",
        "# here changed CoarseDropout's p to 0.25 from default 0.5\n",
        "train_transforms = A.Compose([\n",
        "                                A.HorizontalFlip(p=0.2),\n",
        "                                A.ShiftScaleRotate(shift_limit=0.1,scale_limit=0.15,rotate_limit=30,p=0.20),\n",
        "                                A.CoarseDropout(max_holes=1, p=0.15, max_height=16,\n",
        "                                                max_width=16, min_holes=1, min_height=16,\n",
        "                                                min_width=16, fill_value=mean),\n",
        "                                # A.MedianBlur(blur_limit=3, p=0.1),\n",
        "                                A.HueSaturationValue(p=0.1),\n",
        "                            #   A.GaussianBlur(blur_limit=3, p=0.12),\n",
        "                                # A.RandomBrightnessContrast(brightness_limit=0.09,contrast_limit=0.1, p=0.15),   \n",
        "                                A.Normalize(mean=mean, std=sdev),\n",
        "                                ToTensor()\n",
        "                                       ])\n",
        "\n",
        "test_transforms = A.Compose([\n",
        "                            A.Normalize(mean=mean, std=sdev),\n",
        "                            ToTensor()\n",
        "                                    ])\n"
      ],
      "execution_count": null,
      "outputs": []
    },
    {
      "cell_type": "code",
      "metadata": {
        "id": "4HAK6Y1Uhn14",
        "colab": {
          "base_uri": "https://localhost:8080/",
          "height": 119,
          "referenced_widgets": [
            "6cd107b92c754dad840a218c0df931c4",
            "7c952403e1a741ccb8abbdf3f86c8d3a",
            "cf3659aac7514abe8876552d27d93d52",
            "f5a5bbfa5dd84c7e8b451bf01eb1fcc0",
            "3cebcb9e3d9a42398bc15235a8cf6203",
            "6b8d0db09a8d480f9ffa8c81577b32d6",
            "a84cd5d419c3498f92adce9fb940dcca",
            "c91704e6b079403b9b0d96933ea408bf",
            "96fb5152528d4ac99c51864b7bca52ca",
            "ba21ad5b373f45f7b80da886589105b2",
            "66e2a6a1bade42a18be3adb411dd66ad"
          ]
        },
        "outputId": "e4ac5ea9-c00e-4acf-c77b-95859702abb9"
      },
      "source": [
        "\n",
        "# data sets with transforms\n",
        "train_set = Cifar10SearchDataset(train=True, download=True, transform=train_transforms)\n",
        "\n",
        "test_set = Cifar10SearchDataset(train=False, download=True, transform=test_transforms)\n",
        "\n",
        "\n",
        "# data loaders on data sets\n",
        "train_loader = torch.utils.data.DataLoader(dataset=train_set, **dataloader_args)\n",
        "\n",
        "test_loader = torch.utils.data.DataLoader(test_set, **dataloader_args)"
      ],
      "execution_count": null,
      "outputs": [
        {
          "output_type": "stream",
          "name": "stdout",
          "text": [
            "Downloading https://www.cs.toronto.edu/~kriz/cifar-10-python.tar.gz to ./data/cifar10/cifar-10-python.tar.gz\n"
          ]
        },
        {
          "output_type": "display_data",
          "data": {
            "text/plain": [
              "  0%|          | 0/170498071 [00:00<?, ?it/s]"
            ],
            "application/vnd.jupyter.widget-view+json": {
              "version_major": 2,
              "version_minor": 0,
              "model_id": "6cd107b92c754dad840a218c0df931c4"
            }
          },
          "metadata": {}
        },
        {
          "output_type": "stream",
          "name": "stdout",
          "text": [
            "Extracting ./data/cifar10/cifar-10-python.tar.gz to ./data/cifar10\n",
            "Files already downloaded and verified\n"
          ]
        }
      ]
    },
    {
      "cell_type": "code",
      "metadata": {
        "id": "3DkWGTxGhn15",
        "colab": {
          "base_uri": "https://localhost:8080/",
          "height": 248
        },
        "outputId": "2fa646c1-f013-4d46-ca34-1a6515a1f7c3"
      },
      "source": [
        "from __future__ import print_function\n",
        "# channel_means = (0.49196659, 0.48229005, 0.4461573)\n",
        "# channel_stdevs = (0.24703223, 0.24348513, 0.26158784)\n",
        "def unnormalize(img):\n",
        "  img = img.numpy().astype(dtype=np.float32)\n",
        "  \n",
        "  for i in range(img.shape[0]):\n",
        "    img[i] = (img[i]*sdev[i])+mean[i]\n",
        "  \n",
        "  return np.transpose(img, (1,2,0))\n",
        "\n",
        "%matplotlib inline\n",
        "import matplotlib.pyplot as plt\n",
        "dataiter = iter(train_loader)\n",
        "images, labels = dataiter.next()\n",
        "\n",
        "print(images.shape)\n",
        "print(labels.shape)\n",
        "\n",
        "num_classes = 10\n",
        "# display 10 images from each category. \n",
        "class_names = ['airplane','automobile','bird','cat','deer',\n",
        "               'dog','frog','horse','ship','truck']\n",
        "r, c = 10, 11\n",
        "n = 5\n",
        "fig = plt.figure(figsize=(15,15))\n",
        "fig.subplots_adjust(hspace=0.2, wspace=0.2)\n",
        "for i in range(num_classes):\n",
        "    idx = np.random.choice(np.where(labels[:]==i)[0], n)\n",
        "    ax = plt.subplot(r, c, i*c+1)\n",
        "    ax.text(-1.5, 0.5, class_names[i], fontsize=14)\n",
        "    plt.axis('off')\n",
        "    for j in range(1, n+1):\n",
        "      plt.subplot(r, c, i*c+j+1)\n",
        "      plt.imshow(unnormalize(images[idx[j-1]]), interpolation='none')\n",
        "      plt.axis('off')\n",
        "plt.show()"
      ],
      "execution_count": null,
      "outputs": [
        {
          "output_type": "error",
          "ename": "AttributeError",
          "evalue": "ignored",
          "traceback": [
            "\u001b[0;31m---------------------------------------------------------------------------\u001b[0m",
            "\u001b[0;31mAttributeError\u001b[0m                            Traceback (most recent call last)",
            "\u001b[0;32m<ipython-input-15-e725ca6f44e2>\u001b[0m in \u001b[0;36m<module>\u001b[0;34m\u001b[0m\n\u001b[1;32m     13\u001b[0m \u001b[0;32mimport\u001b[0m \u001b[0mmatplotlib\u001b[0m\u001b[0;34m.\u001b[0m\u001b[0mpyplot\u001b[0m \u001b[0;32mas\u001b[0m \u001b[0mplt\u001b[0m\u001b[0;34m\u001b[0m\u001b[0;34m\u001b[0m\u001b[0m\n\u001b[1;32m     14\u001b[0m \u001b[0mdataiter\u001b[0m \u001b[0;34m=\u001b[0m \u001b[0miter\u001b[0m\u001b[0;34m(\u001b[0m\u001b[0mtrain_loader\u001b[0m\u001b[0;34m)\u001b[0m\u001b[0;34m\u001b[0m\u001b[0;34m\u001b[0m\u001b[0m\n\u001b[0;32m---> 15\u001b[0;31m \u001b[0mimages\u001b[0m\u001b[0;34m,\u001b[0m \u001b[0mlabels\u001b[0m \u001b[0;34m=\u001b[0m \u001b[0mdataiter\u001b[0m\u001b[0;34m.\u001b[0m\u001b[0mnext\u001b[0m\u001b[0;34m(\u001b[0m\u001b[0;34m)\u001b[0m\u001b[0;34m\u001b[0m\u001b[0;34m\u001b[0m\u001b[0m\n\u001b[0m\u001b[1;32m     16\u001b[0m \u001b[0;34m\u001b[0m\u001b[0m\n\u001b[1;32m     17\u001b[0m \u001b[0mprint\u001b[0m\u001b[0;34m(\u001b[0m\u001b[0mimages\u001b[0m\u001b[0;34m.\u001b[0m\u001b[0mshape\u001b[0m\u001b[0;34m)\u001b[0m\u001b[0;34m\u001b[0m\u001b[0;34m\u001b[0m\u001b[0m\n",
            "\u001b[0;31mAttributeError\u001b[0m: '_MultiProcessingDataLoaderIter' object has no attribute 'next'"
          ]
        }
      ]
    },
    {
      "cell_type": "markdown",
      "metadata": {
        "id": "Z73f8IF2TRNd"
      },
      "source": [
        "# Code 10"
      ]
    },
    {
      "cell_type": "code",
      "metadata": {
        "id": "bMlz5p6GnqXY",
        "colab": {
          "base_uri": "https://localhost:8080/"
        },
        "outputId": "7b00cc4b-b7de-4196-ac91-af70f38041dd"
      },
      "source": [
        "class Net10(nn.Module):\n",
        "    def __init__(self):\n",
        "        super().__init__()\n",
        "\n",
        "        self.block1 = nn.Sequential(\n",
        "            cv(3, 16, 3, padding=1),\n",
        "            relu(),\n",
        "            bn(16),\n",
        "            cv(16, 16, 1),\n",
        "            relu(),\n",
        "            bn(16),\n",
        "            cv(16, 32, 3, dilation=1, groups=1, padding=1),\n",
        "            relu(),\n",
        "            bn(32),\n",
        "            cv(32, 32, 1),\n",
        "            relu(),\n",
        "            bn(32),\n",
        "            nn.Dropout2d(0.05)\n",
        "        )\n",
        "\n",
        "        self.block2 = nn.Sequential(\n",
        "            cv(32, 64, 3, padding=1, dilation=1, groups=32),\n",
        "            relu(),\n",
        "            bn(64),\n",
        "            cv(64, 32, 1),\n",
        "            relu(),\n",
        "            bn(32),\n",
        "            cv(32, 64, 3, dilation=1, padding=1, groups=16),\n",
        "            relu(),\n",
        "            bn(64),\n",
        "            cv(64, 48, 1),\n",
        "            relu(),\n",
        "            bn(48),\n",
        "            cv(48, 64, 3, padding=1, dilation=2, groups=8),\n",
        "            relu(),\n",
        "            bn(64),\n",
        "            cv(64, 32, 1),\n",
        "            relu(),\n",
        "            bn(32),\n",
        "            nn.Dropout2d(0.08)\n",
        "        )\n",
        "\n",
        "        self.block3 = nn.Sequential(\n",
        "            cv(32, 64, 3, dilation=1, padding=1, groups=32, stride=1),\n",
        "            relu(),\n",
        "            bn(64),\n",
        "            cv(64, 128, 3, groups=16, dilation=1, padding=1),\n",
        "            relu(),\n",
        "            bn(128),\n",
        "            cv(128, 64, 1),\n",
        "            relu(),\n",
        "            bn(64),\n",
        "            cv(64, 96, 3, padding=1, groups=32),\n",
        "            relu(),\n",
        "            bn(96),\n",
        "            cv(96, 64, 1),\n",
        "            relu(),\n",
        "            bn(64),\n",
        "            cv(64, 64, 3, padding=2, dilation=2, stride=2),\n",
        "            relu(),\n",
        "            bn(64),\n",
        "            cv(64, 64, 1),\n",
        "            relu(),\n",
        "            bn(64),\n",
        "            nn.Dropout2d(0.09)\n",
        "            )\n",
        "\n",
        "        self.block4 = nn.Sequential(\n",
        "            cv(64, 96, 3, padding=0, groups=32, stride=1, dilation=2),\n",
        "            bn(96),\n",
        "            relu(),\n",
        "            cv(96, 64, 1),\n",
        "            bn(64),\n",
        "            relu(),\n",
        "            nn.Dropout2d(0.05),\n",
        "            cv(64, 64, 3, groups=64, padding=0, dilation=2), # depthwise (a)\n",
        "            cv(64, 32, 1), # pointwise for preceding depthwise (b)\n",
        "            bn(32),\n",
        "            relu(),\n",
        "            cv(32, 48, 3, dilation=2, groups=8),\n",
        "            relu(),\n",
        "            bn(48),\n",
        "            cv(48, 10, 1, stride=1),\n",
        "            relu(),\n",
        "            bn(10),\n",
        "            nn.AdaptiveAvgPool2d(1)\n",
        "            # cv(10, 10, 1)\n",
        "        )\n",
        "    \n",
        "        \n",
        "    def forward(self, x):\n",
        "        x = self.block1(x)\n",
        "        x = self.block2(x)\n",
        "        x = self.block3(x)\n",
        "        x = self.block4(x)\n",
        "        \n",
        "        x = x.view(-1, 10)\n",
        "        return F.log_softmax(x, dim=-1)\n",
        "\n",
        "\n",
        "model = Net10().to(device)\n",
        "summary(model, (3, 32, 32))"
      ],
      "execution_count": null,
      "outputs": [
        {
          "output_type": "stream",
          "name": "stdout",
          "text": [
            "----------------------------------------------------------------\n",
            "        Layer (type)               Output Shape         Param #\n",
            "================================================================\n",
            "            Conv2d-1           [-1, 16, 32, 32]             432\n",
            "              ReLU-2           [-1, 16, 32, 32]               0\n",
            "       BatchNorm2d-3           [-1, 16, 32, 32]              32\n",
            "            Conv2d-4           [-1, 16, 32, 32]             256\n",
            "              ReLU-5           [-1, 16, 32, 32]               0\n",
            "       BatchNorm2d-6           [-1, 16, 32, 32]              32\n",
            "            Conv2d-7           [-1, 32, 32, 32]           4,608\n",
            "              ReLU-8           [-1, 32, 32, 32]               0\n",
            "       BatchNorm2d-9           [-1, 32, 32, 32]              64\n",
            "           Conv2d-10           [-1, 32, 32, 32]           1,024\n",
            "             ReLU-11           [-1, 32, 32, 32]               0\n",
            "      BatchNorm2d-12           [-1, 32, 32, 32]              64\n",
            "        Dropout2d-13           [-1, 32, 32, 32]               0\n",
            "           Conv2d-14           [-1, 64, 32, 32]             576\n",
            "             ReLU-15           [-1, 64, 32, 32]               0\n",
            "      BatchNorm2d-16           [-1, 64, 32, 32]             128\n",
            "           Conv2d-17           [-1, 32, 32, 32]           2,048\n",
            "             ReLU-18           [-1, 32, 32, 32]               0\n",
            "      BatchNorm2d-19           [-1, 32, 32, 32]              64\n",
            "           Conv2d-20           [-1, 64, 32, 32]           1,152\n",
            "             ReLU-21           [-1, 64, 32, 32]               0\n",
            "      BatchNorm2d-22           [-1, 64, 32, 32]             128\n",
            "           Conv2d-23           [-1, 48, 32, 32]           3,072\n",
            "             ReLU-24           [-1, 48, 32, 32]               0\n",
            "      BatchNorm2d-25           [-1, 48, 32, 32]              96\n",
            "           Conv2d-26           [-1, 64, 30, 30]           3,456\n",
            "             ReLU-27           [-1, 64, 30, 30]               0\n",
            "      BatchNorm2d-28           [-1, 64, 30, 30]             128\n",
            "           Conv2d-29           [-1, 32, 30, 30]           2,048\n",
            "             ReLU-30           [-1, 32, 30, 30]               0\n",
            "      BatchNorm2d-31           [-1, 32, 30, 30]              64\n",
            "        Dropout2d-32           [-1, 32, 30, 30]               0\n",
            "           Conv2d-33           [-1, 64, 30, 30]             576\n",
            "             ReLU-34           [-1, 64, 30, 30]               0\n",
            "      BatchNorm2d-35           [-1, 64, 30, 30]             128\n",
            "           Conv2d-36          [-1, 128, 30, 30]           4,608\n",
            "             ReLU-37          [-1, 128, 30, 30]               0\n",
            "      BatchNorm2d-38          [-1, 128, 30, 30]             256\n",
            "           Conv2d-39           [-1, 64, 30, 30]           8,192\n",
            "             ReLU-40           [-1, 64, 30, 30]               0\n",
            "      BatchNorm2d-41           [-1, 64, 30, 30]             128\n",
            "           Conv2d-42           [-1, 96, 30, 30]           1,728\n",
            "             ReLU-43           [-1, 96, 30, 30]               0\n",
            "      BatchNorm2d-44           [-1, 96, 30, 30]             192\n",
            "           Conv2d-45           [-1, 64, 30, 30]           6,144\n",
            "             ReLU-46           [-1, 64, 30, 30]               0\n",
            "      BatchNorm2d-47           [-1, 64, 30, 30]             128\n",
            "           Conv2d-48           [-1, 64, 15, 15]          36,864\n",
            "             ReLU-49           [-1, 64, 15, 15]               0\n",
            "      BatchNorm2d-50           [-1, 64, 15, 15]             128\n",
            "           Conv2d-51           [-1, 64, 15, 15]           4,096\n",
            "             ReLU-52           [-1, 64, 15, 15]               0\n",
            "      BatchNorm2d-53           [-1, 64, 15, 15]             128\n",
            "        Dropout2d-54           [-1, 64, 15, 15]               0\n",
            "           Conv2d-55           [-1, 96, 11, 11]           1,728\n",
            "      BatchNorm2d-56           [-1, 96, 11, 11]             192\n",
            "             ReLU-57           [-1, 96, 11, 11]               0\n",
            "           Conv2d-58           [-1, 64, 11, 11]           6,144\n",
            "      BatchNorm2d-59           [-1, 64, 11, 11]             128\n",
            "             ReLU-60           [-1, 64, 11, 11]               0\n",
            "        Dropout2d-61           [-1, 64, 11, 11]               0\n",
            "           Conv2d-62             [-1, 64, 7, 7]             576\n",
            "           Conv2d-63             [-1, 32, 7, 7]           2,048\n",
            "      BatchNorm2d-64             [-1, 32, 7, 7]              64\n",
            "             ReLU-65             [-1, 32, 7, 7]               0\n",
            "           Conv2d-66             [-1, 48, 3, 3]           1,728\n",
            "             ReLU-67             [-1, 48, 3, 3]               0\n",
            "      BatchNorm2d-68             [-1, 48, 3, 3]              96\n",
            "           Conv2d-69             [-1, 10, 3, 3]             480\n",
            "             ReLU-70             [-1, 10, 3, 3]               0\n",
            "      BatchNorm2d-71             [-1, 10, 3, 3]              20\n",
            "AdaptiveAvgPool2d-72             [-1, 10, 1, 1]               0\n",
            "================================================================\n",
            "Total params: 95,972\n",
            "Trainable params: 95,972\n",
            "Non-trainable params: 0\n",
            "----------------------------------------------------------------\n",
            "Input size (MB): 0.01\n",
            "Forward/backward pass size (MB): 19.48\n",
            "Params size (MB): 0.37\n",
            "Estimated Total Size (MB): 19.86\n",
            "----------------------------------------------------------------\n"
          ]
        }
      ]
    },
    {
      "cell_type": "code",
      "metadata": {
        "id": "T8TbhdUsnp-p",
        "colab": {
          "base_uri": "https://localhost:8080/"
        },
        "outputId": "38aed929-955b-4199-e700-f95508b7404e"
      },
      "source": [
        "optimizer = optim.SGD(model.parameters(), lr=0.0001, momentum=0.9, nesterov=True)\n",
        "# step_lr = StepLR(optimizer=optimizer, step_size=1, gamma=0.87)\n",
        "\n",
        "train_losses = []\n",
        "train_accuracy = []\n",
        "test_losses = []\n",
        "test_accuracy = []\n",
        "\n",
        "train_eval_model(model, train_loader, optimizer, device, epochs=50, test=True, test_loader=test_loader,scheduler=None)\n",
        "torch.save(model, \"./eva8_s6_exp_2.pth\")"
      ],
      "execution_count": null,
      "outputs": [
        {
          "output_type": "stream",
          "name": "stdout",
          "text": [
            "\n",
            " epoch num ================================= 1\n"
          ]
        },
        {
          "output_type": "stream",
          "name": "stderr",
          "text": [
            "100%|██████████| 1563/1563 [01:05<00:00, 23.73it/s]"
          ]
        },
        {
          "output_type": "stream",
          "name": "stdout",
          "text": [
            "\n",
            "\t\t\tTrain metrics: accuracy: 6949/50000 (13.8980%)\n"
          ]
        },
        {
          "output_type": "stream",
          "name": "stderr",
          "text": [
            "\n"
          ]
        },
        {
          "output_type": "stream",
          "name": "stdout",
          "text": [
            "\n",
            "\tTest metrics: average loss: 2.1395, accuracy: 2017/10000 (20.17000%)\n",
            "\n",
            "\n",
            " epoch num ================================= 2\n"
          ]
        },
        {
          "output_type": "stream",
          "name": "stderr",
          "text": [
            "100%|██████████| 1563/1563 [01:06<00:00, 23.42it/s]\n"
          ]
        },
        {
          "output_type": "stream",
          "name": "stdout",
          "text": [
            "\n",
            "\t\t\tTrain metrics: accuracy: 12051/50000 (24.1020%)\n",
            "\n",
            "\tTest metrics: average loss: 1.8779, accuracy: 3012/10000 (30.12000%)\n",
            "\n",
            "\n",
            " epoch num ================================= 3\n"
          ]
        },
        {
          "output_type": "stream",
          "name": "stderr",
          "text": [
            "100%|██████████| 1563/1563 [01:03<00:00, 24.76it/s]"
          ]
        },
        {
          "output_type": "stream",
          "name": "stdout",
          "text": [
            "\n",
            "\t\t\tTrain metrics: accuracy: 15877/50000 (31.7540%)\n"
          ]
        },
        {
          "output_type": "stream",
          "name": "stderr",
          "text": [
            "\n"
          ]
        },
        {
          "output_type": "stream",
          "name": "stdout",
          "text": [
            "\n",
            "\tTest metrics: average loss: 1.6533, accuracy: 3791/10000 (37.91000%)\n",
            "\n",
            "\n",
            " epoch num ================================= 4\n"
          ]
        },
        {
          "output_type": "stream",
          "name": "stderr",
          "text": [
            "100%|██████████| 1563/1563 [01:02<00:00, 25.02it/s]"
          ]
        },
        {
          "output_type": "stream",
          "name": "stdout",
          "text": [
            "\n",
            "\t\t\tTrain metrics: accuracy: 18415/50000 (36.8300%)\n"
          ]
        },
        {
          "output_type": "stream",
          "name": "stderr",
          "text": [
            "\n"
          ]
        },
        {
          "output_type": "stream",
          "name": "stdout",
          "text": [
            "\n",
            "\tTest metrics: average loss: 1.5874, accuracy: 4169/10000 (41.69000%)\n",
            "\n",
            "\n",
            " epoch num ================================= 5\n"
          ]
        },
        {
          "output_type": "stream",
          "name": "stderr",
          "text": [
            "100%|██████████| 1563/1563 [01:02<00:00, 25.13it/s]"
          ]
        },
        {
          "output_type": "stream",
          "name": "stdout",
          "text": [
            "\n",
            "\t\t\tTrain metrics: accuracy: 19689/50000 (39.3780%)\n"
          ]
        },
        {
          "output_type": "stream",
          "name": "stderr",
          "text": [
            "\n"
          ]
        },
        {
          "output_type": "stream",
          "name": "stdout",
          "text": [
            "\n",
            "\tTest metrics: average loss: 1.5386, accuracy: 4312/10000 (43.12000%)\n",
            "\n",
            "\n",
            " epoch num ================================= 6\n"
          ]
        },
        {
          "output_type": "stream",
          "name": "stderr",
          "text": [
            "100%|██████████| 1563/1563 [01:02<00:00, 25.00it/s]"
          ]
        },
        {
          "output_type": "stream",
          "name": "stdout",
          "text": [
            "\n",
            "\t\t\tTrain metrics: accuracy: 20783/50000 (41.5660%)\n"
          ]
        },
        {
          "output_type": "stream",
          "name": "stderr",
          "text": [
            "\n"
          ]
        },
        {
          "output_type": "stream",
          "name": "stdout",
          "text": [
            "\n",
            "\tTest metrics: average loss: 1.4839, accuracy: 4562/10000 (45.62000%)\n",
            "\n",
            "\n",
            " epoch num ================================= 7\n"
          ]
        },
        {
          "output_type": "stream",
          "name": "stderr",
          "text": [
            "100%|██████████| 1563/1563 [01:02<00:00, 25.10it/s]"
          ]
        },
        {
          "output_type": "stream",
          "name": "stdout",
          "text": [
            "\n",
            "\t\t\tTrain metrics: accuracy: 21863/50000 (43.7260%)\n"
          ]
        },
        {
          "output_type": "stream",
          "name": "stderr",
          "text": [
            "\n"
          ]
        },
        {
          "output_type": "stream",
          "name": "stdout",
          "text": [
            "\n",
            "\tTest metrics: average loss: 1.4351, accuracy: 4658/10000 (46.58000%)\n",
            "\n",
            "\n",
            " epoch num ================================= 8\n"
          ]
        },
        {
          "output_type": "stream",
          "name": "stderr",
          "text": [
            "100%|██████████| 1563/1563 [01:02<00:00, 24.86it/s]"
          ]
        },
        {
          "output_type": "stream",
          "name": "stdout",
          "text": [
            "\n",
            "\t\t\tTrain metrics: accuracy: 22555/50000 (45.1100%)\n"
          ]
        },
        {
          "output_type": "stream",
          "name": "stderr",
          "text": [
            "\n"
          ]
        },
        {
          "output_type": "stream",
          "name": "stdout",
          "text": [
            "\n",
            "\tTest metrics: average loss: 1.4170, accuracy: 4841/10000 (48.41000%)\n",
            "\n",
            "\n",
            " epoch num ================================= 9\n"
          ]
        },
        {
          "output_type": "stream",
          "name": "stderr",
          "text": [
            "100%|██████████| 1563/1563 [01:02<00:00, 24.99it/s]"
          ]
        },
        {
          "output_type": "stream",
          "name": "stdout",
          "text": [
            "\n",
            "\t\t\tTrain metrics: accuracy: 23149/50000 (46.2980%)\n"
          ]
        },
        {
          "output_type": "stream",
          "name": "stderr",
          "text": [
            "\n"
          ]
        },
        {
          "output_type": "stream",
          "name": "stdout",
          "text": [
            "\n",
            "\tTest metrics: average loss: 1.3795, accuracy: 4985/10000 (49.85000%)\n",
            "\n",
            "\n",
            " epoch num ================================= 10\n"
          ]
        },
        {
          "output_type": "stream",
          "name": "stderr",
          "text": [
            "100%|██████████| 1563/1563 [01:02<00:00, 24.98it/s]"
          ]
        },
        {
          "output_type": "stream",
          "name": "stdout",
          "text": [
            "\n",
            "\t\t\tTrain metrics: accuracy: 23740/50000 (47.4800%)\n"
          ]
        },
        {
          "output_type": "stream",
          "name": "stderr",
          "text": [
            "\n"
          ]
        },
        {
          "output_type": "stream",
          "name": "stdout",
          "text": [
            "\n",
            "\tTest metrics: average loss: 1.3433, accuracy: 5137/10000 (51.37000%)\n",
            "\n",
            "\n",
            " epoch num ================================= 11\n"
          ]
        },
        {
          "output_type": "stream",
          "name": "stderr",
          "text": [
            "100%|██████████| 1563/1563 [01:02<00:00, 25.01it/s]"
          ]
        },
        {
          "output_type": "stream",
          "name": "stdout",
          "text": [
            "\n",
            "\t\t\tTrain metrics: accuracy: 24154/50000 (48.3080%)\n"
          ]
        },
        {
          "output_type": "stream",
          "name": "stderr",
          "text": [
            "\n"
          ]
        },
        {
          "output_type": "stream",
          "name": "stdout",
          "text": [
            "\n",
            "\tTest metrics: average loss: 1.3150, accuracy: 5200/10000 (52.00000%)\n",
            "\n",
            "\n",
            " epoch num ================================= 12\n"
          ]
        },
        {
          "output_type": "stream",
          "name": "stderr",
          "text": [
            "100%|██████████| 1563/1563 [01:02<00:00, 25.02it/s]"
          ]
        },
        {
          "output_type": "stream",
          "name": "stdout",
          "text": [
            "\n",
            "\t\t\tTrain metrics: accuracy: 24816/50000 (49.6320%)\n"
          ]
        },
        {
          "output_type": "stream",
          "name": "stderr",
          "text": [
            "\n"
          ]
        },
        {
          "output_type": "stream",
          "name": "stdout",
          "text": [
            "\n",
            "\tTest metrics: average loss: 1.2852, accuracy: 5324/10000 (53.24000%)\n",
            "\n",
            "\n",
            " epoch num ================================= 13\n"
          ]
        },
        {
          "output_type": "stream",
          "name": "stderr",
          "text": [
            "100%|██████████| 1563/1563 [01:03<00:00, 24.69it/s]"
          ]
        },
        {
          "output_type": "stream",
          "name": "stdout",
          "text": [
            "\n",
            "\t\t\tTrain metrics: accuracy: 25258/50000 (50.5160%)\n"
          ]
        },
        {
          "output_type": "stream",
          "name": "stderr",
          "text": [
            "\n"
          ]
        },
        {
          "output_type": "stream",
          "name": "stdout",
          "text": [
            "\n",
            "\tTest metrics: average loss: 1.2851, accuracy: 5389/10000 (53.89000%)\n",
            "\n",
            "\n",
            " epoch num ================================= 14\n"
          ]
        },
        {
          "output_type": "stream",
          "name": "stderr",
          "text": [
            "100%|██████████| 1563/1563 [01:02<00:00, 24.88it/s]"
          ]
        },
        {
          "output_type": "stream",
          "name": "stdout",
          "text": [
            "\n",
            "\t\t\tTrain metrics: accuracy: 25753/50000 (51.5060%)\n"
          ]
        },
        {
          "output_type": "stream",
          "name": "stderr",
          "text": [
            "\n"
          ]
        },
        {
          "output_type": "stream",
          "name": "stdout",
          "text": [
            "\n",
            "\tTest metrics: average loss: 1.2580, accuracy: 5443/10000 (54.43000%)\n",
            "\n",
            "\n",
            " epoch num ================================= 15\n"
          ]
        },
        {
          "output_type": "stream",
          "name": "stderr",
          "text": [
            "100%|██████████| 1563/1563 [01:02<00:00, 24.89it/s]"
          ]
        },
        {
          "output_type": "stream",
          "name": "stdout",
          "text": [
            "\n",
            "\t\t\tTrain metrics: accuracy: 26031/50000 (52.0620%)\n"
          ]
        },
        {
          "output_type": "stream",
          "name": "stderr",
          "text": [
            "\n"
          ]
        },
        {
          "output_type": "stream",
          "name": "stdout",
          "text": [
            "\n",
            "\tTest metrics: average loss: 1.2386, accuracy: 5531/10000 (55.31000%)\n",
            "\n",
            "\n",
            " epoch num ================================= 16\n"
          ]
        },
        {
          "output_type": "stream",
          "name": "stderr",
          "text": [
            "100%|██████████| 1563/1563 [01:02<00:00, 24.88it/s]"
          ]
        },
        {
          "output_type": "stream",
          "name": "stdout",
          "text": [
            "\n",
            "\t\t\tTrain metrics: accuracy: 26552/50000 (53.1040%)\n"
          ]
        },
        {
          "output_type": "stream",
          "name": "stderr",
          "text": [
            "\n"
          ]
        },
        {
          "output_type": "stream",
          "name": "stdout",
          "text": [
            "\n",
            "\tTest metrics: average loss: 1.2105, accuracy: 5590/10000 (55.90000%)\n",
            "\n",
            "\n",
            " epoch num ================================= 17\n"
          ]
        },
        {
          "output_type": "stream",
          "name": "stderr",
          "text": [
            "100%|██████████| 1563/1563 [01:03<00:00, 24.75it/s]"
          ]
        },
        {
          "output_type": "stream",
          "name": "stdout",
          "text": [
            "\n",
            "\t\t\tTrain metrics: accuracy: 26772/50000 (53.5440%)\n"
          ]
        },
        {
          "output_type": "stream",
          "name": "stderr",
          "text": [
            "\n"
          ]
        },
        {
          "output_type": "stream",
          "name": "stdout",
          "text": [
            "\n",
            "\tTest metrics: average loss: 1.1743, accuracy: 5758/10000 (57.58000%)\n",
            "\n",
            "\n",
            " epoch num ================================= 18\n"
          ]
        },
        {
          "output_type": "stream",
          "name": "stderr",
          "text": [
            "100%|██████████| 1563/1563 [01:02<00:00, 24.93it/s]"
          ]
        },
        {
          "output_type": "stream",
          "name": "stdout",
          "text": [
            "\n",
            "\t\t\tTrain metrics: accuracy: 27381/50000 (54.7620%)\n"
          ]
        },
        {
          "output_type": "stream",
          "name": "stderr",
          "text": [
            "\n"
          ]
        },
        {
          "output_type": "stream",
          "name": "stdout",
          "text": [
            "\n",
            "\tTest metrics: average loss: 1.1658, accuracy: 5757/10000 (57.57000%)\n",
            "\n",
            "\n",
            " epoch num ================================= 19\n"
          ]
        },
        {
          "output_type": "stream",
          "name": "stderr",
          "text": [
            "100%|██████████| 1563/1563 [01:02<00:00, 24.84it/s]"
          ]
        },
        {
          "output_type": "stream",
          "name": "stdout",
          "text": [
            "\n",
            "\t\t\tTrain metrics: accuracy: 27672/50000 (55.3440%)\n"
          ]
        },
        {
          "output_type": "stream",
          "name": "stderr",
          "text": [
            "\n"
          ]
        },
        {
          "output_type": "stream",
          "name": "stdout",
          "text": [
            "\n",
            "\tTest metrics: average loss: 1.1497, accuracy: 5913/10000 (59.13000%)\n",
            "\n",
            "\n",
            " epoch num ================================= 20\n"
          ]
        },
        {
          "output_type": "stream",
          "name": "stderr",
          "text": [
            "100%|██████████| 1563/1563 [01:03<00:00, 24.80it/s]"
          ]
        },
        {
          "output_type": "stream",
          "name": "stdout",
          "text": [
            "\n",
            "\t\t\tTrain metrics: accuracy: 28252/50000 (56.5040%)\n"
          ]
        },
        {
          "output_type": "stream",
          "name": "stderr",
          "text": [
            "\n"
          ]
        },
        {
          "output_type": "stream",
          "name": "stdout",
          "text": [
            "\n",
            "\tTest metrics: average loss: 1.1220, accuracy: 6023/10000 (60.23000%)\n",
            "\n",
            "\n",
            " epoch num ================================= 21\n"
          ]
        },
        {
          "output_type": "stream",
          "name": "stderr",
          "text": [
            "100%|██████████| 1563/1563 [01:02<00:00, 24.93it/s]"
          ]
        },
        {
          "output_type": "stream",
          "name": "stdout",
          "text": [
            "\n",
            "\t\t\tTrain metrics: accuracy: 28565/50000 (57.1300%)\n"
          ]
        },
        {
          "output_type": "stream",
          "name": "stderr",
          "text": [
            "\n"
          ]
        },
        {
          "output_type": "stream",
          "name": "stdout",
          "text": [
            "\n",
            "\tTest metrics: average loss: 1.1074, accuracy: 6027/10000 (60.27000%)\n",
            "\n",
            "\n",
            " epoch num ================================= 22\n"
          ]
        },
        {
          "output_type": "stream",
          "name": "stderr",
          "text": [
            "100%|██████████| 1563/1563 [01:02<00:00, 24.85it/s]"
          ]
        },
        {
          "output_type": "stream",
          "name": "stdout",
          "text": [
            "\n",
            "\t\t\tTrain metrics: accuracy: 29004/50000 (58.0080%)\n"
          ]
        },
        {
          "output_type": "stream",
          "name": "stderr",
          "text": [
            "\n"
          ]
        },
        {
          "output_type": "stream",
          "name": "stdout",
          "text": [
            "\n",
            "\tTest metrics: average loss: 1.0979, accuracy: 6050/10000 (60.50000%)\n",
            "\n",
            "\n",
            " epoch num ================================= 23\n"
          ]
        },
        {
          "output_type": "stream",
          "name": "stderr",
          "text": [
            "100%|██████████| 1563/1563 [01:03<00:00, 24.71it/s]"
          ]
        },
        {
          "output_type": "stream",
          "name": "stdout",
          "text": [
            "\n",
            "\t\t\tTrain metrics: accuracy: 29378/50000 (58.7560%)\n"
          ]
        },
        {
          "output_type": "stream",
          "name": "stderr",
          "text": [
            "\n"
          ]
        },
        {
          "output_type": "stream",
          "name": "stdout",
          "text": [
            "\n",
            "\tTest metrics: average loss: 1.0582, accuracy: 6230/10000 (62.30000%)\n",
            "\n",
            "\n",
            " epoch num ================================= 24\n"
          ]
        },
        {
          "output_type": "stream",
          "name": "stderr",
          "text": [
            "100%|██████████| 1563/1563 [01:02<00:00, 24.95it/s]"
          ]
        },
        {
          "output_type": "stream",
          "name": "stdout",
          "text": [
            "\n",
            "\t\t\tTrain metrics: accuracy: 29775/50000 (59.5500%)\n"
          ]
        },
        {
          "output_type": "stream",
          "name": "stderr",
          "text": [
            "\n"
          ]
        },
        {
          "output_type": "stream",
          "name": "stdout",
          "text": [
            "\n",
            "\tTest metrics: average loss: 1.0701, accuracy: 6190/10000 (61.90000%)\n",
            "\n",
            "\n",
            " epoch num ================================= 25\n"
          ]
        },
        {
          "output_type": "stream",
          "name": "stderr",
          "text": [
            "100%|██████████| 1563/1563 [01:02<00:00, 24.88it/s]"
          ]
        },
        {
          "output_type": "stream",
          "name": "stdout",
          "text": [
            "\n",
            "\t\t\tTrain metrics: accuracy: 30090/50000 (60.1800%)\n"
          ]
        },
        {
          "output_type": "stream",
          "name": "stderr",
          "text": [
            "\n"
          ]
        },
        {
          "output_type": "stream",
          "name": "stdout",
          "text": [
            "\n",
            "\tTest metrics: average loss: 1.0458, accuracy: 6276/10000 (62.76000%)\n",
            "\n",
            "\n",
            " epoch num ================================= 26\n"
          ]
        },
        {
          "output_type": "stream",
          "name": "stderr",
          "text": [
            "100%|██████████| 1563/1563 [01:03<00:00, 24.59it/s]"
          ]
        },
        {
          "output_type": "stream",
          "name": "stdout",
          "text": [
            "\n",
            "\t\t\tTrain metrics: accuracy: 30219/50000 (60.4380%)\n"
          ]
        },
        {
          "output_type": "stream",
          "name": "stderr",
          "text": [
            "\n"
          ]
        },
        {
          "output_type": "stream",
          "name": "stdout",
          "text": [
            "\n",
            "\tTest metrics: average loss: 1.0488, accuracy: 6313/10000 (63.13000%)\n",
            "\n",
            "\n",
            " epoch num ================================= 27\n"
          ]
        },
        {
          "output_type": "stream",
          "name": "stderr",
          "text": [
            "100%|██████████| 1563/1563 [01:03<00:00, 24.71it/s]"
          ]
        },
        {
          "output_type": "stream",
          "name": "stdout",
          "text": [
            "\n",
            "\t\t\tTrain metrics: accuracy: 30597/50000 (61.1940%)\n"
          ]
        },
        {
          "output_type": "stream",
          "name": "stderr",
          "text": [
            "\n"
          ]
        },
        {
          "output_type": "stream",
          "name": "stdout",
          "text": [
            "\n",
            "\tTest metrics: average loss: 1.0118, accuracy: 6375/10000 (63.75000%)\n",
            "\n",
            "\n",
            " epoch num ================================= 28\n"
          ]
        },
        {
          "output_type": "stream",
          "name": "stderr",
          "text": [
            "100%|██████████| 1563/1563 [01:02<00:00, 24.87it/s]"
          ]
        },
        {
          "output_type": "stream",
          "name": "stdout",
          "text": [
            "\n",
            "\t\t\tTrain metrics: accuracy: 30927/50000 (61.8540%)\n"
          ]
        },
        {
          "output_type": "stream",
          "name": "stderr",
          "text": [
            "\n"
          ]
        },
        {
          "output_type": "stream",
          "name": "stdout",
          "text": [
            "\n",
            "\tTest metrics: average loss: 0.9949, accuracy: 6435/10000 (64.35000%)\n",
            "\n",
            "\n",
            " epoch num ================================= 29\n"
          ]
        },
        {
          "output_type": "stream",
          "name": "stderr",
          "text": [
            "100%|██████████| 1563/1563 [01:02<00:00, 24.94it/s]"
          ]
        },
        {
          "output_type": "stream",
          "name": "stdout",
          "text": [
            "\n",
            "\t\t\tTrain metrics: accuracy: 31067/50000 (62.1340%)\n"
          ]
        },
        {
          "output_type": "stream",
          "name": "stderr",
          "text": [
            "\n"
          ]
        },
        {
          "output_type": "stream",
          "name": "stdout",
          "text": [
            "\n",
            "\tTest metrics: average loss: 0.9859, accuracy: 6485/10000 (64.85000%)\n",
            "\n",
            "\n",
            " epoch num ================================= 30\n"
          ]
        },
        {
          "output_type": "stream",
          "name": "stderr",
          "text": [
            "100%|██████████| 1563/1563 [01:02<00:00, 24.87it/s]"
          ]
        },
        {
          "output_type": "stream",
          "name": "stdout",
          "text": [
            "\n",
            "\t\t\tTrain metrics: accuracy: 31403/50000 (62.8060%)\n"
          ]
        },
        {
          "output_type": "stream",
          "name": "stderr",
          "text": [
            "\n"
          ]
        },
        {
          "output_type": "stream",
          "name": "stdout",
          "text": [
            "\n",
            "\tTest metrics: average loss: 0.9590, accuracy: 6591/10000 (65.91000%)\n",
            "\n",
            "\n",
            " epoch num ================================= 31\n"
          ]
        },
        {
          "output_type": "stream",
          "name": "stderr",
          "text": [
            "100%|██████████| 1563/1563 [01:03<00:00, 24.79it/s]"
          ]
        },
        {
          "output_type": "stream",
          "name": "stdout",
          "text": [
            "\n",
            "\t\t\tTrain metrics: accuracy: 31658/50000 (63.3160%)\n"
          ]
        },
        {
          "output_type": "stream",
          "name": "stderr",
          "text": [
            "\n"
          ]
        },
        {
          "output_type": "stream",
          "name": "stdout",
          "text": [
            "\n",
            "\tTest metrics: average loss: 0.9477, accuracy: 6635/10000 (66.35000%)\n",
            "\n",
            "\n",
            " epoch num ================================= 32\n"
          ]
        },
        {
          "output_type": "stream",
          "name": "stderr",
          "text": [
            "100%|██████████| 1563/1563 [01:02<00:00, 24.89it/s]"
          ]
        },
        {
          "output_type": "stream",
          "name": "stdout",
          "text": [
            "\n",
            "\t\t\tTrain metrics: accuracy: 31912/50000 (63.8240%)\n"
          ]
        },
        {
          "output_type": "stream",
          "name": "stderr",
          "text": [
            "\n"
          ]
        },
        {
          "output_type": "stream",
          "name": "stdout",
          "text": [
            "\n",
            "\tTest metrics: average loss: 0.9480, accuracy: 6600/10000 (66.00000%)\n",
            "\n",
            "\n",
            " epoch num ================================= 33\n"
          ]
        },
        {
          "output_type": "stream",
          "name": "stderr",
          "text": [
            "100%|██████████| 1563/1563 [01:02<00:00, 24.95it/s]"
          ]
        },
        {
          "output_type": "stream",
          "name": "stdout",
          "text": [
            "\n",
            "\t\t\tTrain metrics: accuracy: 32216/50000 (64.4320%)\n"
          ]
        },
        {
          "output_type": "stream",
          "name": "stderr",
          "text": [
            "\n"
          ]
        },
        {
          "output_type": "stream",
          "name": "stdout",
          "text": [
            "\n",
            "\tTest metrics: average loss: 0.9363, accuracy: 6633/10000 (66.33000%)\n",
            "\n",
            "\n",
            " epoch num ================================= 34\n"
          ]
        },
        {
          "output_type": "stream",
          "name": "stderr",
          "text": [
            "100%|██████████| 1563/1563 [01:02<00:00, 24.90it/s]"
          ]
        },
        {
          "output_type": "stream",
          "name": "stdout",
          "text": [
            "\n",
            "\t\t\tTrain metrics: accuracy: 32332/50000 (64.6640%)\n"
          ]
        },
        {
          "output_type": "stream",
          "name": "stderr",
          "text": [
            "\n"
          ]
        },
        {
          "output_type": "stream",
          "name": "stdout",
          "text": [
            "\n",
            "\tTest metrics: average loss: 0.9212, accuracy: 6723/10000 (67.23000%)\n",
            "\n",
            "\n",
            " epoch num ================================= 35\n"
          ]
        },
        {
          "output_type": "stream",
          "name": "stderr",
          "text": [
            "100%|██████████| 1563/1563 [01:02<00:00, 25.02it/s]"
          ]
        },
        {
          "output_type": "stream",
          "name": "stdout",
          "text": [
            "\n",
            "\t\t\tTrain metrics: accuracy: 32752/50000 (65.5040%)\n"
          ]
        },
        {
          "output_type": "stream",
          "name": "stderr",
          "text": [
            "\n"
          ]
        },
        {
          "output_type": "stream",
          "name": "stdout",
          "text": [
            "\n",
            "\tTest metrics: average loss: 0.9338, accuracy: 6717/10000 (67.17000%)\n",
            "\n",
            "\n",
            " epoch num ================================= 36\n"
          ]
        },
        {
          "output_type": "stream",
          "name": "stderr",
          "text": [
            "100%|██████████| 1563/1563 [01:02<00:00, 25.02it/s]"
          ]
        },
        {
          "output_type": "stream",
          "name": "stdout",
          "text": [
            "\n",
            "\t\t\tTrain metrics: accuracy: 32852/50000 (65.7040%)\n"
          ]
        },
        {
          "output_type": "stream",
          "name": "stderr",
          "text": [
            "\n"
          ]
        },
        {
          "output_type": "stream",
          "name": "stdout",
          "text": [
            "\n",
            "\tTest metrics: average loss: 0.9013, accuracy: 6844/10000 (68.44000%)\n",
            "\n",
            "\n",
            " epoch num ================================= 37\n"
          ]
        },
        {
          "output_type": "stream",
          "name": "stderr",
          "text": [
            "100%|██████████| 1563/1563 [01:02<00:00, 24.90it/s]"
          ]
        },
        {
          "output_type": "stream",
          "name": "stdout",
          "text": [
            "\n",
            "\t\t\tTrain metrics: accuracy: 32993/50000 (65.9860%)\n"
          ]
        },
        {
          "output_type": "stream",
          "name": "stderr",
          "text": [
            "\n"
          ]
        },
        {
          "output_type": "stream",
          "name": "stdout",
          "text": [
            "\n",
            "\tTest metrics: average loss: 0.8840, accuracy: 6903/10000 (69.03000%)\n",
            "\n",
            "\n",
            " epoch num ================================= 38\n"
          ]
        },
        {
          "output_type": "stream",
          "name": "stderr",
          "text": [
            "100%|██████████| 1563/1563 [01:02<00:00, 24.87it/s]"
          ]
        },
        {
          "output_type": "stream",
          "name": "stdout",
          "text": [
            "\n",
            "\t\t\tTrain metrics: accuracy: 33304/50000 (66.6080%)\n"
          ]
        },
        {
          "output_type": "stream",
          "name": "stderr",
          "text": [
            "\n"
          ]
        },
        {
          "output_type": "stream",
          "name": "stdout",
          "text": [
            "\n",
            "\tTest metrics: average loss: 0.8791, accuracy: 6880/10000 (68.80000%)\n",
            "\n",
            "\n",
            " epoch num ================================= 39\n"
          ]
        },
        {
          "output_type": "stream",
          "name": "stderr",
          "text": [
            "100%|██████████| 1563/1563 [01:02<00:00, 24.82it/s]"
          ]
        },
        {
          "output_type": "stream",
          "name": "stdout",
          "text": [
            "\n",
            "\t\t\tTrain metrics: accuracy: 33422/50000 (66.8440%)\n"
          ]
        },
        {
          "output_type": "stream",
          "name": "stderr",
          "text": [
            "\n"
          ]
        },
        {
          "output_type": "stream",
          "name": "stdout",
          "text": [
            "\n",
            "\tTest metrics: average loss: 0.8705, accuracy: 6897/10000 (68.97000%)\n",
            "\n",
            "\n",
            " epoch num ================================= 40\n"
          ]
        },
        {
          "output_type": "stream",
          "name": "stderr",
          "text": [
            "100%|██████████| 1563/1563 [01:02<00:00, 24.90it/s]"
          ]
        },
        {
          "output_type": "stream",
          "name": "stdout",
          "text": [
            "\n",
            "\t\t\tTrain metrics: accuracy: 33888/50000 (67.7760%)\n"
          ]
        },
        {
          "output_type": "stream",
          "name": "stderr",
          "text": [
            "\n"
          ]
        },
        {
          "output_type": "stream",
          "name": "stdout",
          "text": [
            "\n",
            "\tTest metrics: average loss: 0.8575, accuracy: 6958/10000 (69.58000%)\n",
            "\n",
            "\n",
            " epoch num ================================= 41\n"
          ]
        },
        {
          "output_type": "stream",
          "name": "stderr",
          "text": [
            "100%|██████████| 1563/1563 [01:03<00:00, 24.74it/s]"
          ]
        },
        {
          "output_type": "stream",
          "name": "stdout",
          "text": [
            "\n",
            "\t\t\tTrain metrics: accuracy: 33776/50000 (67.5520%)\n"
          ]
        },
        {
          "output_type": "stream",
          "name": "stderr",
          "text": [
            "\n"
          ]
        },
        {
          "output_type": "stream",
          "name": "stdout",
          "text": [
            "\n",
            "\tTest metrics: average loss: 0.8519, accuracy: 7043/10000 (70.43000%)\n",
            "\n",
            "\n",
            " epoch num ================================= 42\n"
          ]
        },
        {
          "output_type": "stream",
          "name": "stderr",
          "text": [
            "100%|██████████| 1563/1563 [01:04<00:00, 24.11it/s]"
          ]
        },
        {
          "output_type": "stream",
          "name": "stdout",
          "text": [
            "\n",
            "\t\t\tTrain metrics: accuracy: 34032/50000 (68.0640%)\n"
          ]
        },
        {
          "output_type": "stream",
          "name": "stderr",
          "text": [
            "\n"
          ]
        },
        {
          "output_type": "stream",
          "name": "stdout",
          "text": [
            "\n",
            "\tTest metrics: average loss: 0.8541, accuracy: 6968/10000 (69.68000%)\n",
            "\n",
            "\n",
            " epoch num ================================= 43\n"
          ]
        },
        {
          "output_type": "stream",
          "name": "stderr",
          "text": [
            "100%|██████████| 1563/1563 [01:02<00:00, 24.88it/s]"
          ]
        },
        {
          "output_type": "stream",
          "name": "stdout",
          "text": [
            "\n",
            "\t\t\tTrain metrics: accuracy: 34086/50000 (68.1720%)\n"
          ]
        },
        {
          "output_type": "stream",
          "name": "stderr",
          "text": [
            "\n"
          ]
        },
        {
          "output_type": "stream",
          "name": "stdout",
          "text": [
            "\n",
            "\tTest metrics: average loss: 0.8403, accuracy: 7034/10000 (70.34000%)\n",
            "\n",
            "\n",
            " epoch num ================================= 44\n"
          ]
        },
        {
          "output_type": "stream",
          "name": "stderr",
          "text": [
            "100%|██████████| 1563/1563 [01:02<00:00, 24.92it/s]"
          ]
        },
        {
          "output_type": "stream",
          "name": "stdout",
          "text": [
            "\n",
            "\t\t\tTrain metrics: accuracy: 34320/50000 (68.6400%)\n"
          ]
        },
        {
          "output_type": "stream",
          "name": "stderr",
          "text": [
            "\n"
          ]
        },
        {
          "output_type": "stream",
          "name": "stdout",
          "text": [
            "\n",
            "\tTest metrics: average loss: 0.8278, accuracy: 7102/10000 (71.02000%)\n",
            "\n",
            "\n",
            " epoch num ================================= 45\n"
          ]
        },
        {
          "output_type": "stream",
          "name": "stderr",
          "text": [
            "100%|██████████| 1563/1563 [01:02<00:00, 25.10it/s]"
          ]
        },
        {
          "output_type": "stream",
          "name": "stdout",
          "text": [
            "\n",
            "\t\t\tTrain metrics: accuracy: 34560/50000 (69.1200%)\n"
          ]
        },
        {
          "output_type": "stream",
          "name": "stderr",
          "text": [
            "\n"
          ]
        },
        {
          "output_type": "stream",
          "name": "stdout",
          "text": [
            "\n",
            "\tTest metrics: average loss: 0.8315, accuracy: 7092/10000 (70.92000%)\n",
            "\n",
            "\n",
            " epoch num ================================= 46\n"
          ]
        },
        {
          "output_type": "stream",
          "name": "stderr",
          "text": [
            "100%|██████████| 1563/1563 [01:02<00:00, 25.05it/s]"
          ]
        },
        {
          "output_type": "stream",
          "name": "stdout",
          "text": [
            "\n",
            "\t\t\tTrain metrics: accuracy: 34670/50000 (69.3400%)\n"
          ]
        },
        {
          "output_type": "stream",
          "name": "stderr",
          "text": [
            "\n"
          ]
        },
        {
          "output_type": "stream",
          "name": "stdout",
          "text": [
            "\n",
            "\tTest metrics: average loss: 0.8254, accuracy: 7108/10000 (71.08000%)\n",
            "\n",
            "\n",
            " epoch num ================================= 47\n"
          ]
        },
        {
          "output_type": "stream",
          "name": "stderr",
          "text": [
            "100%|██████████| 1563/1563 [01:02<00:00, 24.99it/s]"
          ]
        },
        {
          "output_type": "stream",
          "name": "stdout",
          "text": [
            "\n",
            "\t\t\tTrain metrics: accuracy: 34768/50000 (69.5360%)\n"
          ]
        },
        {
          "output_type": "stream",
          "name": "stderr",
          "text": [
            "\n"
          ]
        },
        {
          "output_type": "stream",
          "name": "stdout",
          "text": [
            "\n",
            "\tTest metrics: average loss: 0.8096, accuracy: 7145/10000 (71.45000%)\n",
            "\n",
            "\n",
            " epoch num ================================= 48\n"
          ]
        },
        {
          "output_type": "stream",
          "name": "stderr",
          "text": [
            "100%|██████████| 1563/1563 [01:02<00:00, 24.88it/s]"
          ]
        },
        {
          "output_type": "stream",
          "name": "stdout",
          "text": [
            "\n",
            "\t\t\tTrain metrics: accuracy: 35099/50000 (70.1980%)\n"
          ]
        },
        {
          "output_type": "stream",
          "name": "stderr",
          "text": [
            "\n"
          ]
        },
        {
          "output_type": "stream",
          "name": "stdout",
          "text": [
            "\n",
            "\tTest metrics: average loss: 0.8484, accuracy: 7095/10000 (70.95000%)\n",
            "\n",
            "\n",
            " epoch num ================================= 49\n"
          ]
        },
        {
          "output_type": "stream",
          "name": "stderr",
          "text": [
            "100%|██████████| 1563/1563 [01:02<00:00, 25.08it/s]"
          ]
        },
        {
          "output_type": "stream",
          "name": "stdout",
          "text": [
            "\n",
            "\t\t\tTrain metrics: accuracy: 35107/50000 (70.2140%)\n"
          ]
        },
        {
          "output_type": "stream",
          "name": "stderr",
          "text": [
            "\n"
          ]
        },
        {
          "output_type": "stream",
          "name": "stdout",
          "text": [
            "\n",
            "\tTest metrics: average loss: 0.8014, accuracy: 7209/10000 (72.09000%)\n",
            "\n",
            "\n",
            " epoch num ================================= 50\n"
          ]
        },
        {
          "output_type": "stream",
          "name": "stderr",
          "text": [
            "100%|██████████| 1563/1563 [01:03<00:00, 24.57it/s]"
          ]
        },
        {
          "output_type": "stream",
          "name": "stdout",
          "text": [
            "\n",
            "\t\t\tTrain metrics: accuracy: 35275/50000 (70.5500%)\n"
          ]
        },
        {
          "output_type": "stream",
          "name": "stderr",
          "text": [
            "\n"
          ]
        },
        {
          "output_type": "stream",
          "name": "stdout",
          "text": [
            "\n",
            "\tTest metrics: average loss: 0.8059, accuracy: 7192/10000 (71.92000%)\n",
            "\n"
          ]
        }
      ]
    },
    {
      "cell_type": "code",
      "metadata": {
        "colab": {
          "base_uri": "https://localhost:8080/"
        },
        "id": "Elns467vLBsy",
        "outputId": "06c7c14d-e423-4657-ff87-f306792a3ffb"
      },
      "source": [
        "optimizer = optim.SGD(model.parameters(), lr=0.01, momentum=0.9, nesterov=True)\n",
        "\n",
        "train_eval_model(model, train_loader, optimizer, device, epochs=10, test=True, test_loader=test_loader,scheduler=None)\n",
        "torch.save(model, \"./eva8_s6_exp_2.pth\")"
      ],
      "execution_count": null,
      "outputs": [
        {
          "output_type": "stream",
          "name": "stdout",
          "text": [
            "\n",
            " epoch num ================================= 1\n"
          ]
        },
        {
          "output_type": "stream",
          "name": "stderr",
          "text": [
            "100%|██████████| 1563/1563 [01:05<00:00, 24.02it/s]"
          ]
        },
        {
          "output_type": "stream",
          "name": "stdout",
          "text": [
            "\n",
            "\t\t\tTrain metrics: accuracy: 20572/50000 (41.1440%)\n"
          ]
        },
        {
          "output_type": "stream",
          "name": "stderr",
          "text": [
            "\n"
          ]
        },
        {
          "output_type": "stream",
          "name": "stdout",
          "text": [
            "\n",
            "\tTest metrics: average loss: 1.2302, accuracy: 5611/10000 (56.11000%)\n",
            "\n",
            "\n",
            " epoch num ================================= 2\n"
          ]
        },
        {
          "output_type": "stream",
          "name": "stderr",
          "text": [
            "100%|██████████| 1563/1563 [01:03<00:00, 24.80it/s]"
          ]
        },
        {
          "output_type": "stream",
          "name": "stdout",
          "text": [
            "\n",
            "\t\t\tTrain metrics: accuracy: 27153/50000 (54.3060%)\n"
          ]
        },
        {
          "output_type": "stream",
          "name": "stderr",
          "text": [
            "\n"
          ]
        },
        {
          "output_type": "stream",
          "name": "stdout",
          "text": [
            "\n",
            "\tTest metrics: average loss: 1.1437, accuracy: 6055/10000 (60.55000%)\n",
            "\n",
            "\n",
            " epoch num ================================= 3\n"
          ]
        },
        {
          "output_type": "stream",
          "name": "stderr",
          "text": [
            "100%|██████████| 1563/1563 [01:02<00:00, 25.05it/s]"
          ]
        },
        {
          "output_type": "stream",
          "name": "stdout",
          "text": [
            "\n",
            "\t\t\tTrain metrics: accuracy: 30254/50000 (60.5080%)\n"
          ]
        },
        {
          "output_type": "stream",
          "name": "stderr",
          "text": [
            "\n"
          ]
        },
        {
          "output_type": "stream",
          "name": "stdout",
          "text": [
            "\n",
            "\tTest metrics: average loss: 0.9730, accuracy: 6599/10000 (65.99000%)\n",
            "\n",
            "\n",
            " epoch num ================================= 4\n"
          ]
        },
        {
          "output_type": "stream",
          "name": "stderr",
          "text": [
            "100%|██████████| 1563/1563 [01:02<00:00, 25.06it/s]"
          ]
        },
        {
          "output_type": "stream",
          "name": "stdout",
          "text": [
            "\n",
            "\t\t\tTrain metrics: accuracy: 31562/50000 (63.1240%)\n"
          ]
        },
        {
          "output_type": "stream",
          "name": "stderr",
          "text": [
            "\n"
          ]
        },
        {
          "output_type": "stream",
          "name": "stdout",
          "text": [
            "\n",
            "\tTest metrics: average loss: 0.8902, accuracy: 6887/10000 (68.87000%)\n",
            "\n",
            "\n",
            " epoch num ================================= 5\n"
          ]
        },
        {
          "output_type": "stream",
          "name": "stderr",
          "text": [
            "100%|██████████| 1563/1563 [01:02<00:00, 24.94it/s]"
          ]
        },
        {
          "output_type": "stream",
          "name": "stdout",
          "text": [
            "\n",
            "\t\t\tTrain metrics: accuracy: 32651/50000 (65.3020%)\n"
          ]
        },
        {
          "output_type": "stream",
          "name": "stderr",
          "text": [
            "\n"
          ]
        },
        {
          "output_type": "stream",
          "name": "stdout",
          "text": [
            "\n",
            "\tTest metrics: average loss: 0.8867, accuracy: 6940/10000 (69.40000%)\n",
            "\n",
            "\n",
            " epoch num ================================= 6\n"
          ]
        },
        {
          "output_type": "stream",
          "name": "stderr",
          "text": [
            "100%|██████████| 1563/1563 [01:02<00:00, 25.05it/s]"
          ]
        },
        {
          "output_type": "stream",
          "name": "stdout",
          "text": [
            "\n",
            "\t\t\tTrain metrics: accuracy: 33499/50000 (66.9980%)\n"
          ]
        },
        {
          "output_type": "stream",
          "name": "stderr",
          "text": [
            "\n"
          ]
        },
        {
          "output_type": "stream",
          "name": "stdout",
          "text": [
            "\n",
            "\tTest metrics: average loss: 0.8353, accuracy: 7077/10000 (70.77000%)\n",
            "\n",
            "\n",
            " epoch num ================================= 7\n"
          ]
        },
        {
          "output_type": "stream",
          "name": "stderr",
          "text": [
            "100%|██████████| 1563/1563 [01:03<00:00, 24.70it/s]"
          ]
        },
        {
          "output_type": "stream",
          "name": "stdout",
          "text": [
            "\n",
            "\t\t\tTrain metrics: accuracy: 34297/50000 (68.5940%)\n"
          ]
        },
        {
          "output_type": "stream",
          "name": "stderr",
          "text": [
            "\n"
          ]
        },
        {
          "output_type": "stream",
          "name": "stdout",
          "text": [
            "\n",
            "\tTest metrics: average loss: 0.8237, accuracy: 7157/10000 (71.57000%)\n",
            "\n",
            "\n",
            " epoch num ================================= 8\n"
          ]
        },
        {
          "output_type": "stream",
          "name": "stderr",
          "text": [
            "100%|██████████| 1563/1563 [01:03<00:00, 24.66it/s]"
          ]
        },
        {
          "output_type": "stream",
          "name": "stdout",
          "text": [
            "\n",
            "\t\t\tTrain metrics: accuracy: 35036/50000 (70.0720%)\n"
          ]
        },
        {
          "output_type": "stream",
          "name": "stderr",
          "text": [
            "\n"
          ]
        },
        {
          "output_type": "stream",
          "name": "stdout",
          "text": [
            "\n",
            "\tTest metrics: average loss: 0.7630, accuracy: 7458/10000 (74.58000%)\n",
            "\n",
            "\n",
            " epoch num ================================= 9\n"
          ]
        },
        {
          "output_type": "stream",
          "name": "stderr",
          "text": [
            "100%|██████████| 1563/1563 [01:02<00:00, 25.07it/s]"
          ]
        },
        {
          "output_type": "stream",
          "name": "stdout",
          "text": [
            "\n",
            "\t\t\tTrain metrics: accuracy: 35567/50000 (71.1340%)\n"
          ]
        },
        {
          "output_type": "stream",
          "name": "stderr",
          "text": [
            "\n"
          ]
        },
        {
          "output_type": "stream",
          "name": "stdout",
          "text": [
            "\n",
            "\tTest metrics: average loss: 0.7374, accuracy: 7469/10000 (74.69000%)\n",
            "\n",
            "\n",
            " epoch num ================================= 10\n"
          ]
        },
        {
          "output_type": "stream",
          "name": "stderr",
          "text": [
            "100%|██████████| 1563/1563 [01:02<00:00, 24.93it/s]"
          ]
        },
        {
          "output_type": "stream",
          "name": "stdout",
          "text": [
            "\n",
            "\t\t\tTrain metrics: accuracy: 36041/50000 (72.0820%)\n"
          ]
        },
        {
          "output_type": "stream",
          "name": "stderr",
          "text": [
            "\n"
          ]
        },
        {
          "output_type": "stream",
          "name": "stdout",
          "text": [
            "\n",
            "\tTest metrics: average loss: 0.6951, accuracy: 7576/10000 (75.76000%)\n",
            "\n"
          ]
        }
      ]
    },
    {
      "cell_type": "code",
      "source": [
        "from google.colab import files\n",
        "\n",
        "files.download( \"./eva8_s6_exp_2.pth\")"
      ],
      "metadata": {
        "colab": {
          "base_uri": "https://localhost:8080/",
          "height": 38
        },
        "id": "8l2J8023xwB9",
        "outputId": "2c08d09e-a8d0-4980-c86c-7e5d3ca418c6"
      },
      "execution_count": null,
      "outputs": [
        {
          "output_type": "display_data",
          "data": {
            "text/plain": [
              "<IPython.core.display.Javascript object>"
            ],
            "application/javascript": [
              "\n",
              "    async function download(id, filename, size) {\n",
              "      if (!google.colab.kernel.accessAllowed) {\n",
              "        return;\n",
              "      }\n",
              "      const div = document.createElement('div');\n",
              "      const label = document.createElement('label');\n",
              "      label.textContent = `Downloading \"${filename}\": `;\n",
              "      div.appendChild(label);\n",
              "      const progress = document.createElement('progress');\n",
              "      progress.max = size;\n",
              "      div.appendChild(progress);\n",
              "      document.body.appendChild(div);\n",
              "\n",
              "      const buffers = [];\n",
              "      let downloaded = 0;\n",
              "\n",
              "      const channel = await google.colab.kernel.comms.open(id);\n",
              "      // Send a message to notify the kernel that we're ready.\n",
              "      channel.send({})\n",
              "\n",
              "      for await (const message of channel.messages) {\n",
              "        // Send a message to notify the kernel that we're ready.\n",
              "        channel.send({})\n",
              "        if (message.buffers) {\n",
              "          for (const buffer of message.buffers) {\n",
              "            buffers.push(buffer);\n",
              "            downloaded += buffer.byteLength;\n",
              "            progress.value = downloaded;\n",
              "          }\n",
              "        }\n",
              "      }\n",
              "      const blob = new Blob(buffers, {type: 'application/binary'});\n",
              "      const a = document.createElement('a');\n",
              "      a.href = window.URL.createObjectURL(blob);\n",
              "      a.download = filename;\n",
              "      div.appendChild(a);\n",
              "      a.click();\n",
              "      div.remove();\n",
              "    }\n",
              "  "
            ]
          },
          "metadata": {}
        },
        {
          "output_type": "display_data",
          "data": {
            "text/plain": [
              "<IPython.core.display.Javascript object>"
            ],
            "application/javascript": [
              "download(\"download_57c765c5-aeae-4045-b95c-e5e7059bb63d\", \"eva8_s6_exp_2.pth\", 448673)"
            ]
          },
          "metadata": {}
        }
      ]
    },
    {
      "cell_type": "code",
      "metadata": {
        "colab": {
          "base_uri": "https://localhost:8080/"
        },
        "id": "rJE-xktOHkzj",
        "outputId": "58126cdf-ec68-4428-a1e3-0a11e7eaba2d"
      },
      "source": [
        "optimizer = optim.SGD(model.parameters(), lr=0.01, momentum=0.9, nesterov=True)\n",
        "\n",
        "train_eval_model(model, train_loader, optimizer, device, epochs=20, test=True, test_loader=test_loader,scheduler=None)\n",
        "torch.save(model, \"./eva8_s6_exp_2.pth\")"
      ],
      "execution_count": null,
      "outputs": [
        {
          "output_type": "stream",
          "name": "stdout",
          "text": [
            "\n",
            " epoch num ================================= 1\n"
          ]
        },
        {
          "output_type": "stream",
          "name": "stderr",
          "text": [
            "100%|██████████| 1563/1563 [01:08<00:00, 22.91it/s]"
          ]
        },
        {
          "output_type": "stream",
          "name": "stdout",
          "text": [
            "\n",
            "\t\t\tTrain metrics: accuracy: 33432/50000 (66.8640%)\n"
          ]
        },
        {
          "output_type": "stream",
          "name": "stderr",
          "text": [
            "\n"
          ]
        },
        {
          "output_type": "stream",
          "name": "stdout",
          "text": [
            "\n",
            "\tTest metrics: average loss: 0.6537, accuracy: 7787/10000 (77.87000%)\n",
            "\n",
            "\n",
            " epoch num ================================= 2\n"
          ]
        },
        {
          "output_type": "stream",
          "name": "stderr",
          "text": [
            "100%|██████████| 1563/1563 [01:04<00:00, 24.06it/s]"
          ]
        },
        {
          "output_type": "stream",
          "name": "stdout",
          "text": [
            "\n",
            "\t\t\tTrain metrics: accuracy: 37023/50000 (74.0460%)\n"
          ]
        },
        {
          "output_type": "stream",
          "name": "stderr",
          "text": [
            "\n"
          ]
        },
        {
          "output_type": "stream",
          "name": "stdout",
          "text": [
            "\n",
            "\tTest metrics: average loss: 0.7102, accuracy: 7569/10000 (75.69000%)\n",
            "\n",
            "\n",
            " epoch num ================================= 3\n"
          ]
        },
        {
          "output_type": "stream",
          "name": "stderr",
          "text": [
            "100%|██████████| 1563/1563 [01:02<00:00, 24.87it/s]"
          ]
        },
        {
          "output_type": "stream",
          "name": "stdout",
          "text": [
            "\n",
            "\t\t\tTrain metrics: accuracy: 37307/50000 (74.6140%)\n"
          ]
        },
        {
          "output_type": "stream",
          "name": "stderr",
          "text": [
            "\n"
          ]
        },
        {
          "output_type": "stream",
          "name": "stdout",
          "text": [
            "\n",
            "\tTest metrics: average loss: 0.6233, accuracy: 7840/10000 (78.40000%)\n",
            "\n",
            "\n",
            " epoch num ================================= 4\n"
          ]
        },
        {
          "output_type": "stream",
          "name": "stderr",
          "text": [
            "100%|██████████| 1563/1563 [01:03<00:00, 24.51it/s]"
          ]
        },
        {
          "output_type": "stream",
          "name": "stdout",
          "text": [
            "\n",
            "\t\t\tTrain metrics: accuracy: 37672/50000 (75.3440%)\n"
          ]
        },
        {
          "output_type": "stream",
          "name": "stderr",
          "text": [
            "\n"
          ]
        },
        {
          "output_type": "stream",
          "name": "stdout",
          "text": [
            "\n",
            "\tTest metrics: average loss: 0.6472, accuracy: 7750/10000 (77.50000%)\n",
            "\n",
            "\n",
            " epoch num ================================= 5\n"
          ]
        },
        {
          "output_type": "stream",
          "name": "stderr",
          "text": [
            "100%|██████████| 1563/1563 [01:03<00:00, 24.59it/s]"
          ]
        },
        {
          "output_type": "stream",
          "name": "stdout",
          "text": [
            "\n",
            "\t\t\tTrain metrics: accuracy: 37928/50000 (75.8560%)\n"
          ]
        },
        {
          "output_type": "stream",
          "name": "stderr",
          "text": [
            "\n"
          ]
        },
        {
          "output_type": "stream",
          "name": "stdout",
          "text": [
            "\n",
            "\tTest metrics: average loss: 0.6194, accuracy: 7866/10000 (78.66000%)\n",
            "\n",
            "\n",
            " epoch num ================================= 6\n"
          ]
        },
        {
          "output_type": "stream",
          "name": "stderr",
          "text": [
            "100%|██████████| 1563/1563 [01:04<00:00, 24.21it/s]"
          ]
        },
        {
          "output_type": "stream",
          "name": "stdout",
          "text": [
            "\n",
            "\t\t\tTrain metrics: accuracy: 37993/50000 (75.9860%)\n"
          ]
        },
        {
          "output_type": "stream",
          "name": "stderr",
          "text": [
            "\n"
          ]
        },
        {
          "output_type": "stream",
          "name": "stdout",
          "text": [
            "\n",
            "\tTest metrics: average loss: 0.6271, accuracy: 7847/10000 (78.47000%)\n",
            "\n",
            "\n",
            " epoch num ================================= 7\n"
          ]
        },
        {
          "output_type": "stream",
          "name": "stderr",
          "text": [
            "100%|██████████| 1563/1563 [01:03<00:00, 24.73it/s]"
          ]
        },
        {
          "output_type": "stream",
          "name": "stdout",
          "text": [
            "\n",
            "\t\t\tTrain metrics: accuracy: 38525/50000 (77.0500%)\n"
          ]
        },
        {
          "output_type": "stream",
          "name": "stderr",
          "text": [
            "\n"
          ]
        },
        {
          "output_type": "stream",
          "name": "stdout",
          "text": [
            "\n",
            "\tTest metrics: average loss: 0.6146, accuracy: 7885/10000 (78.85000%)\n",
            "\n",
            "\n",
            " epoch num ================================= 8\n"
          ]
        },
        {
          "output_type": "stream",
          "name": "stderr",
          "text": [
            "100%|██████████| 1563/1563 [01:03<00:00, 24.74it/s]"
          ]
        },
        {
          "output_type": "stream",
          "name": "stdout",
          "text": [
            "\n",
            "\t\t\tTrain metrics: accuracy: 38369/50000 (76.7380%)\n"
          ]
        },
        {
          "output_type": "stream",
          "name": "stderr",
          "text": [
            "\n"
          ]
        },
        {
          "output_type": "stream",
          "name": "stdout",
          "text": [
            "\n",
            "\tTest metrics: average loss: 0.5968, accuracy: 7934/10000 (79.34000%)\n",
            "\n",
            "\n",
            " epoch num ================================= 9\n"
          ]
        },
        {
          "output_type": "stream",
          "name": "stderr",
          "text": [
            "100%|██████████| 1563/1563 [01:03<00:00, 24.79it/s]"
          ]
        },
        {
          "output_type": "stream",
          "name": "stdout",
          "text": [
            "\n",
            "\t\t\tTrain metrics: accuracy: 38587/50000 (77.1740%)\n"
          ]
        },
        {
          "output_type": "stream",
          "name": "stderr",
          "text": [
            "\n"
          ]
        },
        {
          "output_type": "stream",
          "name": "stdout",
          "text": [
            "\n",
            "\tTest metrics: average loss: 0.6056, accuracy: 7895/10000 (78.95000%)\n",
            "\n",
            "\n",
            " epoch num ================================= 10\n"
          ]
        },
        {
          "output_type": "stream",
          "name": "stderr",
          "text": [
            "100%|██████████| 1563/1563 [01:02<00:00, 24.88it/s]"
          ]
        },
        {
          "output_type": "stream",
          "name": "stdout",
          "text": [
            "\n",
            "\t\t\tTrain metrics: accuracy: 38754/50000 (77.5080%)\n"
          ]
        },
        {
          "output_type": "stream",
          "name": "stderr",
          "text": [
            "\n"
          ]
        },
        {
          "output_type": "stream",
          "name": "stdout",
          "text": [
            "\n",
            "\tTest metrics: average loss: 0.6035, accuracy: 7951/10000 (79.51000%)\n",
            "\n",
            "\n",
            " epoch num ================================= 11\n"
          ]
        },
        {
          "output_type": "stream",
          "name": "stderr",
          "text": [
            "100%|██████████| 1563/1563 [01:03<00:00, 24.75it/s]"
          ]
        },
        {
          "output_type": "stream",
          "name": "stdout",
          "text": [
            "\n",
            "\t\t\tTrain metrics: accuracy: 39011/50000 (78.0220%)\n"
          ]
        },
        {
          "output_type": "stream",
          "name": "stderr",
          "text": [
            "\n"
          ]
        },
        {
          "output_type": "stream",
          "name": "stdout",
          "text": [
            "\n",
            "\tTest metrics: average loss: 0.5900, accuracy: 7967/10000 (79.67000%)\n",
            "\n",
            "\n",
            " epoch num ================================= 12\n"
          ]
        },
        {
          "output_type": "stream",
          "name": "stderr",
          "text": [
            "100%|██████████| 1563/1563 [01:02<00:00, 24.94it/s]"
          ]
        },
        {
          "output_type": "stream",
          "name": "stdout",
          "text": [
            "\n",
            "\t\t\tTrain metrics: accuracy: 39098/50000 (78.1960%)\n"
          ]
        },
        {
          "output_type": "stream",
          "name": "stderr",
          "text": [
            "\n"
          ]
        },
        {
          "output_type": "stream",
          "name": "stdout",
          "text": [
            "\n",
            "\tTest metrics: average loss: 0.5724, accuracy: 8049/10000 (80.49000%)\n",
            "\n",
            "\n",
            " epoch num ================================= 13\n"
          ]
        },
        {
          "output_type": "stream",
          "name": "stderr",
          "text": [
            "100%|██████████| 1563/1563 [01:02<00:00, 25.07it/s]"
          ]
        },
        {
          "output_type": "stream",
          "name": "stdout",
          "text": [
            "\n",
            "\t\t\tTrain metrics: accuracy: 39224/50000 (78.4480%)\n"
          ]
        },
        {
          "output_type": "stream",
          "name": "stderr",
          "text": [
            "\n"
          ]
        },
        {
          "output_type": "stream",
          "name": "stdout",
          "text": [
            "\n",
            "\tTest metrics: average loss: 0.6244, accuracy: 7904/10000 (79.04000%)\n",
            "\n",
            "\n",
            " epoch num ================================= 14\n"
          ]
        },
        {
          "output_type": "stream",
          "name": "stderr",
          "text": [
            "100%|██████████| 1563/1563 [01:02<00:00, 25.08it/s]"
          ]
        },
        {
          "output_type": "stream",
          "name": "stdout",
          "text": [
            "\n",
            "\t\t\tTrain metrics: accuracy: 39417/50000 (78.8340%)\n"
          ]
        },
        {
          "output_type": "stream",
          "name": "stderr",
          "text": [
            "\n"
          ]
        },
        {
          "output_type": "stream",
          "name": "stdout",
          "text": [
            "\n",
            "\tTest metrics: average loss: 0.5883, accuracy: 8027/10000 (80.27000%)\n",
            "\n",
            "\n",
            " epoch num ================================= 15\n"
          ]
        },
        {
          "output_type": "stream",
          "name": "stderr",
          "text": [
            "100%|██████████| 1563/1563 [01:03<00:00, 24.71it/s]"
          ]
        },
        {
          "output_type": "stream",
          "name": "stdout",
          "text": [
            "\n",
            "\t\t\tTrain metrics: accuracy: 39502/50000 (79.0040%)\n"
          ]
        },
        {
          "output_type": "stream",
          "name": "stderr",
          "text": [
            "\n"
          ]
        },
        {
          "output_type": "stream",
          "name": "stdout",
          "text": [
            "\n",
            "\tTest metrics: average loss: 0.5627, accuracy: 8087/10000 (80.87000%)\n",
            "\n",
            "\n",
            " epoch num ================================= 16\n"
          ]
        },
        {
          "output_type": "stream",
          "name": "stderr",
          "text": [
            "100%|██████████| 1563/1563 [01:03<00:00, 24.65it/s]"
          ]
        },
        {
          "output_type": "stream",
          "name": "stdout",
          "text": [
            "\n",
            "\t\t\tTrain metrics: accuracy: 39650/50000 (79.3000%)\n"
          ]
        },
        {
          "output_type": "stream",
          "name": "stderr",
          "text": [
            "\n"
          ]
        },
        {
          "output_type": "stream",
          "name": "stdout",
          "text": [
            "\n",
            "\tTest metrics: average loss: 0.5792, accuracy: 8012/10000 (80.12000%)\n",
            "\n",
            "\n",
            " epoch num ================================= 17\n"
          ]
        },
        {
          "output_type": "stream",
          "name": "stderr",
          "text": [
            "100%|██████████| 1563/1563 [01:05<00:00, 23.71it/s]"
          ]
        },
        {
          "output_type": "stream",
          "name": "stdout",
          "text": [
            "\n",
            "\t\t\tTrain metrics: accuracy: 39781/50000 (79.5620%)\n"
          ]
        },
        {
          "output_type": "stream",
          "name": "stderr",
          "text": [
            "\n"
          ]
        },
        {
          "output_type": "stream",
          "name": "stdout",
          "text": [
            "\n",
            "\tTest metrics: average loss: 0.5864, accuracy: 8017/10000 (80.17000%)\n",
            "\n",
            "\n",
            " epoch num ================================= 18\n"
          ]
        },
        {
          "output_type": "stream",
          "name": "stderr",
          "text": [
            "100%|██████████| 1563/1563 [01:02<00:00, 25.08it/s]"
          ]
        },
        {
          "output_type": "stream",
          "name": "stdout",
          "text": [
            "\n",
            "\t\t\tTrain metrics: accuracy: 39790/50000 (79.5800%)\n"
          ]
        },
        {
          "output_type": "stream",
          "name": "stderr",
          "text": [
            "\n"
          ]
        },
        {
          "output_type": "stream",
          "name": "stdout",
          "text": [
            "\n",
            "\tTest metrics: average loss: 0.5839, accuracy: 8012/10000 (80.12000%)\n",
            "\n",
            "\n",
            " epoch num ================================= 19\n"
          ]
        },
        {
          "output_type": "stream",
          "name": "stderr",
          "text": [
            "100%|██████████| 1563/1563 [01:03<00:00, 24.56it/s]"
          ]
        },
        {
          "output_type": "stream",
          "name": "stdout",
          "text": [
            "\n",
            "\t\t\tTrain metrics: accuracy: 39867/50000 (79.7340%)\n"
          ]
        },
        {
          "output_type": "stream",
          "name": "stderr",
          "text": [
            "\n"
          ]
        },
        {
          "output_type": "stream",
          "name": "stdout",
          "text": [
            "\n",
            "\tTest metrics: average loss: 0.5872, accuracy: 8043/10000 (80.43000%)\n",
            "\n",
            "\n",
            " epoch num ================================= 20\n"
          ]
        },
        {
          "output_type": "stream",
          "name": "stderr",
          "text": [
            "100%|██████████| 1563/1563 [01:02<00:00, 24.90it/s]"
          ]
        },
        {
          "output_type": "stream",
          "name": "stdout",
          "text": [
            "\n",
            "\t\t\tTrain metrics: accuracy: 39820/50000 (79.6400%)\n"
          ]
        },
        {
          "output_type": "stream",
          "name": "stderr",
          "text": [
            "\n"
          ]
        },
        {
          "output_type": "stream",
          "name": "stdout",
          "text": [
            "\n",
            "\tTest metrics: average loss: 0.5456, accuracy: 8125/10000 (81.25000%)\n",
            "\n"
          ]
        }
      ]
    },
    {
      "cell_type": "code",
      "source": [
        "files.download( \"./eva8_s6_exp_2.pth\")"
      ],
      "metadata": {
        "colab": {
          "base_uri": "https://localhost:8080/",
          "height": 38
        },
        "id": "TpS8rcumyNm6",
        "outputId": "9ea0536a-aad7-4f79-bbbb-0f0e105e999f"
      },
      "execution_count": null,
      "outputs": [
        {
          "output_type": "display_data",
          "data": {
            "text/plain": [
              "<IPython.core.display.Javascript object>"
            ],
            "application/javascript": [
              "\n",
              "    async function download(id, filename, size) {\n",
              "      if (!google.colab.kernel.accessAllowed) {\n",
              "        return;\n",
              "      }\n",
              "      const div = document.createElement('div');\n",
              "      const label = document.createElement('label');\n",
              "      label.textContent = `Downloading \"${filename}\": `;\n",
              "      div.appendChild(label);\n",
              "      const progress = document.createElement('progress');\n",
              "      progress.max = size;\n",
              "      div.appendChild(progress);\n",
              "      document.body.appendChild(div);\n",
              "\n",
              "      const buffers = [];\n",
              "      let downloaded = 0;\n",
              "\n",
              "      const channel = await google.colab.kernel.comms.open(id);\n",
              "      // Send a message to notify the kernel that we're ready.\n",
              "      channel.send({})\n",
              "\n",
              "      for await (const message of channel.messages) {\n",
              "        // Send a message to notify the kernel that we're ready.\n",
              "        channel.send({})\n",
              "        if (message.buffers) {\n",
              "          for (const buffer of message.buffers) {\n",
              "            buffers.push(buffer);\n",
              "            downloaded += buffer.byteLength;\n",
              "            progress.value = downloaded;\n",
              "          }\n",
              "        }\n",
              "      }\n",
              "      const blob = new Blob(buffers, {type: 'application/binary'});\n",
              "      const a = document.createElement('a');\n",
              "      a.href = window.URL.createObjectURL(blob);\n",
              "      a.download = filename;\n",
              "      div.appendChild(a);\n",
              "      a.click();\n",
              "      div.remove();\n",
              "    }\n",
              "  "
            ]
          },
          "metadata": {}
        },
        {
          "output_type": "display_data",
          "data": {
            "text/plain": [
              "<IPython.core.display.Javascript object>"
            ],
            "application/javascript": [
              "download(\"download_7a519a08-f107-4c1e-a7ec-486c9ad23429\", \"eva8_s6_exp_2.pth\", 448673)"
            ]
          },
          "metadata": {}
        }
      ]
    },
    {
      "cell_type": "code",
      "metadata": {
        "colab": {
          "base_uri": "https://localhost:8080/",
          "height": 1000
        },
        "id": "GBogZxh3NNpP",
        "outputId": "d659249c-c096-49a4-d21b-0c552edb4268"
      },
      "source": [
        "optimizer = optim.SGD(model.parameters(), lr=0.0003, momentum=0.9, nesterov=True)\n",
        "\n",
        "train_eval_model(model, train_loader, optimizer, device, epochs=50, test=True, test_loader=test_loader,scheduler=None)\n",
        "\n",
        "torch.save(model, \"./eva8_s6_exp_2_lr0003_epochs40.pth\")\n",
        "files.download(\"./eva8_s6_exp_2_lr0003_epochs40.pth\")"
      ],
      "execution_count": null,
      "outputs": [
        {
          "output_type": "stream",
          "name": "stdout",
          "text": [
            "\n",
            " epoch num ================================= 1\n"
          ]
        },
        {
          "output_type": "stream",
          "name": "stderr",
          "text": [
            "100%|██████████| 1563/1563 [01:04<00:00, 24.13it/s]"
          ]
        },
        {
          "output_type": "stream",
          "name": "stdout",
          "text": [
            "\n",
            "\t\t\tTrain metrics: accuracy: 33009/50000 (66.0180%)\n"
          ]
        },
        {
          "output_type": "stream",
          "name": "stderr",
          "text": [
            "\n"
          ]
        },
        {
          "output_type": "stream",
          "name": "stdout",
          "text": [
            "\n",
            "\tTest metrics: average loss: 0.6735, accuracy: 7995/10000 (79.95000%)\n",
            "\n",
            "\n",
            " epoch num ================================= 2\n"
          ]
        },
        {
          "output_type": "stream",
          "name": "stderr",
          "text": [
            "100%|██████████| 1563/1563 [01:02<00:00, 24.86it/s]"
          ]
        },
        {
          "output_type": "stream",
          "name": "stdout",
          "text": [
            "\n",
            "\t\t\tTrain metrics: accuracy: 39763/50000 (79.5260%)\n"
          ]
        },
        {
          "output_type": "stream",
          "name": "stderr",
          "text": [
            "\n"
          ]
        },
        {
          "output_type": "stream",
          "name": "stdout",
          "text": [
            "\n",
            "\tTest metrics: average loss: 0.5286, accuracy: 8153/10000 (81.53000%)\n",
            "\n",
            "\n",
            " epoch num ================================= 3\n"
          ]
        },
        {
          "output_type": "stream",
          "name": "stderr",
          "text": [
            "100%|██████████| 1563/1563 [01:02<00:00, 24.94it/s]"
          ]
        },
        {
          "output_type": "stream",
          "name": "stdout",
          "text": [
            "\n",
            "\t\t\tTrain metrics: accuracy: 40786/50000 (81.5720%)\n"
          ]
        },
        {
          "output_type": "stream",
          "name": "stderr",
          "text": [
            "\n"
          ]
        },
        {
          "output_type": "stream",
          "name": "stdout",
          "text": [
            "\n",
            "\tTest metrics: average loss: 0.5060, accuracy: 8251/10000 (82.51000%)\n",
            "\n",
            "\n",
            " epoch num ================================= 4\n"
          ]
        },
        {
          "output_type": "stream",
          "name": "stderr",
          "text": [
            "100%|██████████| 1563/1563 [01:02<00:00, 25.03it/s]"
          ]
        },
        {
          "output_type": "stream",
          "name": "stdout",
          "text": [
            "\n",
            "\t\t\tTrain metrics: accuracy: 41146/50000 (82.2920%)\n"
          ]
        },
        {
          "output_type": "stream",
          "name": "stderr",
          "text": [
            "\n"
          ]
        },
        {
          "output_type": "stream",
          "name": "stdout",
          "text": [
            "\n",
            "\tTest metrics: average loss: 0.4955, accuracy: 8291/10000 (82.91000%)\n",
            "\n",
            "\n",
            " epoch num ================================= 5\n"
          ]
        },
        {
          "output_type": "stream",
          "name": "stderr",
          "text": [
            "100%|██████████| 1563/1563 [01:02<00:00, 25.08it/s]"
          ]
        },
        {
          "output_type": "stream",
          "name": "stdout",
          "text": [
            "\n",
            "\t\t\tTrain metrics: accuracy: 41442/50000 (82.8840%)\n"
          ]
        },
        {
          "output_type": "stream",
          "name": "stderr",
          "text": [
            "\n"
          ]
        },
        {
          "output_type": "stream",
          "name": "stdout",
          "text": [
            "\n",
            "\tTest metrics: average loss: 0.4895, accuracy: 8305/10000 (83.05000%)\n",
            "\n",
            "\n",
            " epoch num ================================= 6\n"
          ]
        },
        {
          "output_type": "stream",
          "name": "stderr",
          "text": [
            "100%|██████████| 1563/1563 [01:02<00:00, 24.93it/s]"
          ]
        },
        {
          "output_type": "stream",
          "name": "stdout",
          "text": [
            "\n",
            "\t\t\tTrain metrics: accuracy: 41540/50000 (83.0800%)\n"
          ]
        },
        {
          "output_type": "stream",
          "name": "stderr",
          "text": [
            "\n"
          ]
        },
        {
          "output_type": "stream",
          "name": "stdout",
          "text": [
            "\n",
            "\tTest metrics: average loss: 0.4855, accuracy: 8342/10000 (83.42000%)\n",
            "\n",
            "\n",
            " epoch num ================================= 7\n"
          ]
        },
        {
          "output_type": "stream",
          "name": "stderr",
          "text": [
            "100%|██████████| 1563/1563 [01:02<00:00, 24.97it/s]"
          ]
        },
        {
          "output_type": "stream",
          "name": "stdout",
          "text": [
            "\n",
            "\t\t\tTrain metrics: accuracy: 41838/50000 (83.6760%)\n"
          ]
        },
        {
          "output_type": "stream",
          "name": "stderr",
          "text": [
            "\n"
          ]
        },
        {
          "output_type": "stream",
          "name": "stdout",
          "text": [
            "\n",
            "\tTest metrics: average loss: 0.4828, accuracy: 8340/10000 (83.40000%)\n",
            "\n",
            "\n",
            " epoch num ================================= 8\n"
          ]
        },
        {
          "output_type": "stream",
          "name": "stderr",
          "text": [
            "100%|██████████| 1563/1563 [01:02<00:00, 25.07it/s]"
          ]
        },
        {
          "output_type": "stream",
          "name": "stdout",
          "text": [
            "\n",
            "\t\t\tTrain metrics: accuracy: 41919/50000 (83.8380%)\n"
          ]
        },
        {
          "output_type": "stream",
          "name": "stderr",
          "text": [
            "\n"
          ]
        },
        {
          "output_type": "stream",
          "name": "stdout",
          "text": [
            "\n",
            "\tTest metrics: average loss: 0.4791, accuracy: 8361/10000 (83.61000%)\n",
            "\n",
            "\n",
            " epoch num ================================= 9\n"
          ]
        },
        {
          "output_type": "stream",
          "name": "stderr",
          "text": [
            "100%|██████████| 1563/1563 [01:02<00:00, 25.05it/s]"
          ]
        },
        {
          "output_type": "stream",
          "name": "stdout",
          "text": [
            "\n",
            "\t\t\tTrain metrics: accuracy: 41988/50000 (83.9760%)\n"
          ]
        },
        {
          "output_type": "stream",
          "name": "stderr",
          "text": [
            "\n"
          ]
        },
        {
          "output_type": "stream",
          "name": "stdout",
          "text": [
            "\n",
            "\tTest metrics: average loss: 0.4747, accuracy: 8361/10000 (83.61000%)\n",
            "\n",
            "\n",
            " epoch num ================================= 10\n"
          ]
        },
        {
          "output_type": "stream",
          "name": "stderr",
          "text": [
            "100%|██████████| 1563/1563 [01:02<00:00, 24.93it/s]"
          ]
        },
        {
          "output_type": "stream",
          "name": "stdout",
          "text": [
            "\n",
            "\t\t\tTrain metrics: accuracy: 42102/50000 (84.2040%)\n"
          ]
        },
        {
          "output_type": "stream",
          "name": "stderr",
          "text": [
            "\n"
          ]
        },
        {
          "output_type": "stream",
          "name": "stdout",
          "text": [
            "\n",
            "\tTest metrics: average loss: 0.4742, accuracy: 8379/10000 (83.79000%)\n",
            "\n",
            "\n",
            " epoch num ================================= 11\n"
          ]
        },
        {
          "output_type": "stream",
          "name": "stderr",
          "text": [
            "100%|██████████| 1563/1563 [01:02<00:00, 25.04it/s]"
          ]
        },
        {
          "output_type": "stream",
          "name": "stdout",
          "text": [
            "\n",
            "\t\t\tTrain metrics: accuracy: 42229/50000 (84.4580%)\n"
          ]
        },
        {
          "output_type": "stream",
          "name": "stderr",
          "text": [
            "\n"
          ]
        },
        {
          "output_type": "stream",
          "name": "stdout",
          "text": [
            "\n",
            "\tTest metrics: average loss: 0.4728, accuracy: 8373/10000 (83.73000%)\n",
            "\n",
            "\n",
            " epoch num ================================= 12\n"
          ]
        },
        {
          "output_type": "stream",
          "name": "stderr",
          "text": [
            "100%|██████████| 1563/1563 [01:02<00:00, 25.10it/s]"
          ]
        },
        {
          "output_type": "stream",
          "name": "stdout",
          "text": [
            "\n",
            "\t\t\tTrain metrics: accuracy: 42271/50000 (84.5420%)\n"
          ]
        },
        {
          "output_type": "stream",
          "name": "stderr",
          "text": [
            "\n"
          ]
        },
        {
          "output_type": "stream",
          "name": "stdout",
          "text": [
            "\n",
            "\tTest metrics: average loss: 0.4726, accuracy: 8396/10000 (83.96000%)\n",
            "\n",
            "\n",
            " epoch num ================================= 13\n"
          ]
        },
        {
          "output_type": "stream",
          "name": "stderr",
          "text": [
            "100%|██████████| 1563/1563 [01:02<00:00, 25.10it/s]"
          ]
        },
        {
          "output_type": "stream",
          "name": "stdout",
          "text": [
            "\n",
            "\t\t\tTrain metrics: accuracy: 42404/50000 (84.8080%)\n"
          ]
        },
        {
          "output_type": "stream",
          "name": "stderr",
          "text": [
            "\n"
          ]
        },
        {
          "output_type": "stream",
          "name": "stdout",
          "text": [
            "\n",
            "\tTest metrics: average loss: 0.4681, accuracy: 8406/10000 (84.06000%)\n",
            "\n",
            "\n",
            " epoch num ================================= 14\n"
          ]
        },
        {
          "output_type": "stream",
          "name": "stderr",
          "text": [
            "100%|██████████| 1563/1563 [01:02<00:00, 24.89it/s]"
          ]
        },
        {
          "output_type": "stream",
          "name": "stdout",
          "text": [
            "\n",
            "\t\t\tTrain metrics: accuracy: 42427/50000 (84.8540%)\n"
          ]
        },
        {
          "output_type": "stream",
          "name": "stderr",
          "text": [
            "\n"
          ]
        },
        {
          "output_type": "stream",
          "name": "stdout",
          "text": [
            "\n",
            "\tTest metrics: average loss: 0.4726, accuracy: 8392/10000 (83.92000%)\n",
            "\n",
            "\n",
            " epoch num ================================= 15\n"
          ]
        },
        {
          "output_type": "stream",
          "name": "stderr",
          "text": [
            "100%|██████████| 1563/1563 [01:02<00:00, 25.03it/s]"
          ]
        },
        {
          "output_type": "stream",
          "name": "stdout",
          "text": [
            "\n",
            "\t\t\tTrain metrics: accuracy: 42490/50000 (84.9800%)\n"
          ]
        },
        {
          "output_type": "stream",
          "name": "stderr",
          "text": [
            "\n"
          ]
        },
        {
          "output_type": "stream",
          "name": "stdout",
          "text": [
            "\n",
            "\tTest metrics: average loss: 0.4686, accuracy: 8388/10000 (83.88000%)\n",
            "\n",
            "\n",
            " epoch num ================================= 16\n"
          ]
        },
        {
          "output_type": "stream",
          "name": "stderr",
          "text": [
            "100%|██████████| 1563/1563 [01:02<00:00, 24.83it/s]"
          ]
        },
        {
          "output_type": "stream",
          "name": "stdout",
          "text": [
            "\n",
            "\t\t\tTrain metrics: accuracy: 42652/50000 (85.3040%)\n"
          ]
        },
        {
          "output_type": "stream",
          "name": "stderr",
          "text": [
            "\n"
          ]
        },
        {
          "output_type": "stream",
          "name": "stdout",
          "text": [
            "\n",
            "\tTest metrics: average loss: 0.4668, accuracy: 8413/10000 (84.13000%)\n",
            "\n",
            "\n",
            " epoch num ================================= 17\n"
          ]
        },
        {
          "output_type": "stream",
          "name": "stderr",
          "text": [
            "100%|██████████| 1563/1563 [01:02<00:00, 24.82it/s]"
          ]
        },
        {
          "output_type": "stream",
          "name": "stdout",
          "text": [
            "\n",
            "\t\t\tTrain metrics: accuracy: 42566/50000 (85.1320%)\n"
          ]
        },
        {
          "output_type": "stream",
          "name": "stderr",
          "text": [
            "\n"
          ]
        },
        {
          "output_type": "stream",
          "name": "stdout",
          "text": [
            "\n",
            "\tTest metrics: average loss: 0.4625, accuracy: 8423/10000 (84.23000%)\n",
            "\n",
            "\n",
            " epoch num ================================= 18\n"
          ]
        },
        {
          "output_type": "stream",
          "name": "stderr",
          "text": [
            "100%|██████████| 1563/1563 [01:02<00:00, 24.88it/s]"
          ]
        },
        {
          "output_type": "stream",
          "name": "stdout",
          "text": [
            "\n",
            "\t\t\tTrain metrics: accuracy: 42643/50000 (85.2860%)\n"
          ]
        },
        {
          "output_type": "stream",
          "name": "stderr",
          "text": [
            "\n"
          ]
        },
        {
          "output_type": "stream",
          "name": "stdout",
          "text": [
            "\n",
            "\tTest metrics: average loss: 0.4647, accuracy: 8420/10000 (84.20000%)\n",
            "\n",
            "\n",
            " epoch num ================================= 19\n"
          ]
        },
        {
          "output_type": "stream",
          "name": "stderr",
          "text": [
            "100%|██████████| 1563/1563 [01:02<00:00, 25.03it/s]"
          ]
        },
        {
          "output_type": "stream",
          "name": "stdout",
          "text": [
            "\n",
            "\t\t\tTrain metrics: accuracy: 42663/50000 (85.3260%)\n"
          ]
        },
        {
          "output_type": "stream",
          "name": "stderr",
          "text": [
            "\n"
          ]
        },
        {
          "output_type": "stream",
          "name": "stdout",
          "text": [
            "\n",
            "\tTest metrics: average loss: 0.4628, accuracy: 8438/10000 (84.38000%)\n",
            "\n",
            "\n",
            " epoch num ================================= 20\n"
          ]
        },
        {
          "output_type": "stream",
          "name": "stderr",
          "text": [
            "100%|██████████| 1563/1563 [01:02<00:00, 25.00it/s]"
          ]
        },
        {
          "output_type": "stream",
          "name": "stdout",
          "text": [
            "\n",
            "\t\t\tTrain metrics: accuracy: 42765/50000 (85.5300%)\n"
          ]
        },
        {
          "output_type": "stream",
          "name": "stderr",
          "text": [
            "\n"
          ]
        },
        {
          "output_type": "stream",
          "name": "stdout",
          "text": [
            "\n",
            "\tTest metrics: average loss: 0.4633, accuracy: 8433/10000 (84.33000%)\n",
            "\n",
            "\n",
            " epoch num ================================= 21\n"
          ]
        },
        {
          "output_type": "stream",
          "name": "stderr",
          "text": [
            "100%|██████████| 1563/1563 [01:02<00:00, 25.03it/s]"
          ]
        },
        {
          "output_type": "stream",
          "name": "stdout",
          "text": [
            "\n",
            "\t\t\tTrain metrics: accuracy: 42740/50000 (85.4800%)\n"
          ]
        },
        {
          "output_type": "stream",
          "name": "stderr",
          "text": [
            "\n"
          ]
        },
        {
          "output_type": "stream",
          "name": "stdout",
          "text": [
            "\n",
            "\tTest metrics: average loss: 0.4617, accuracy: 8438/10000 (84.38000%)\n",
            "\n",
            "\n",
            " epoch num ================================= 22\n"
          ]
        },
        {
          "output_type": "stream",
          "name": "stderr",
          "text": [
            "100%|██████████| 1563/1563 [01:02<00:00, 24.92it/s]"
          ]
        },
        {
          "output_type": "stream",
          "name": "stdout",
          "text": [
            "\n",
            "\t\t\tTrain metrics: accuracy: 42741/50000 (85.4820%)\n"
          ]
        },
        {
          "output_type": "stream",
          "name": "stderr",
          "text": [
            "\n"
          ]
        },
        {
          "output_type": "stream",
          "name": "stdout",
          "text": [
            "\n",
            "\tTest metrics: average loss: 0.4628, accuracy: 8445/10000 (84.45000%)\n",
            "\n",
            "\n",
            " epoch num ================================= 23\n"
          ]
        },
        {
          "output_type": "stream",
          "name": "stderr",
          "text": [
            "100%|██████████| 1563/1563 [01:02<00:00, 25.05it/s]"
          ]
        },
        {
          "output_type": "stream",
          "name": "stdout",
          "text": [
            "\n",
            "\t\t\tTrain metrics: accuracy: 42846/50000 (85.6920%)\n"
          ]
        },
        {
          "output_type": "stream",
          "name": "stderr",
          "text": [
            "\n"
          ]
        },
        {
          "output_type": "stream",
          "name": "stdout",
          "text": [
            "\n",
            "\tTest metrics: average loss: 0.4626, accuracy: 8421/10000 (84.21000%)\n",
            "\n",
            "\n",
            " epoch num ================================= 24\n"
          ]
        },
        {
          "output_type": "stream",
          "name": "stderr",
          "text": [
            "100%|██████████| 1563/1563 [01:02<00:00, 25.03it/s]"
          ]
        },
        {
          "output_type": "stream",
          "name": "stdout",
          "text": [
            "\n",
            "\t\t\tTrain metrics: accuracy: 42790/50000 (85.5800%)\n"
          ]
        },
        {
          "output_type": "stream",
          "name": "stderr",
          "text": [
            "\n"
          ]
        },
        {
          "output_type": "stream",
          "name": "stdout",
          "text": [
            "\n",
            "\tTest metrics: average loss: 0.4639, accuracy: 8433/10000 (84.33000%)\n",
            "\n",
            "\n",
            " epoch num ================================= 25\n"
          ]
        },
        {
          "output_type": "stream",
          "name": "stderr",
          "text": [
            "100%|██████████| 1563/1563 [01:02<00:00, 25.06it/s]"
          ]
        },
        {
          "output_type": "stream",
          "name": "stdout",
          "text": [
            "\n",
            "\t\t\tTrain metrics: accuracy: 42866/50000 (85.7320%)\n"
          ]
        },
        {
          "output_type": "stream",
          "name": "stderr",
          "text": [
            "\n"
          ]
        },
        {
          "output_type": "stream",
          "name": "stdout",
          "text": [
            "\n",
            "\tTest metrics: average loss: 0.4598, accuracy: 8438/10000 (84.38000%)\n",
            "\n",
            "\n",
            " epoch num ================================= 26\n"
          ]
        },
        {
          "output_type": "stream",
          "name": "stderr",
          "text": [
            "100%|██████████| 1563/1563 [01:02<00:00, 24.90it/s]"
          ]
        },
        {
          "output_type": "stream",
          "name": "stdout",
          "text": [
            "\n",
            "\t\t\tTrain metrics: accuracy: 42954/50000 (85.9080%)\n"
          ]
        },
        {
          "output_type": "stream",
          "name": "stderr",
          "text": [
            "\n"
          ]
        },
        {
          "output_type": "stream",
          "name": "stdout",
          "text": [
            "\n",
            "\tTest metrics: average loss: 0.4664, accuracy: 8438/10000 (84.38000%)\n",
            "\n",
            "\n",
            " epoch num ================================= 27\n"
          ]
        },
        {
          "output_type": "stream",
          "name": "stderr",
          "text": [
            "100%|██████████| 1563/1563 [01:03<00:00, 24.76it/s]"
          ]
        },
        {
          "output_type": "stream",
          "name": "stdout",
          "text": [
            "\n",
            "\t\t\tTrain metrics: accuracy: 42931/50000 (85.8620%)\n"
          ]
        },
        {
          "output_type": "stream",
          "name": "stderr",
          "text": [
            "\n"
          ]
        },
        {
          "output_type": "stream",
          "name": "stdout",
          "text": [
            "\n",
            "\tTest metrics: average loss: 0.4584, accuracy: 8451/10000 (84.51000%)\n",
            "\n",
            "\n",
            " epoch num ================================= 28\n"
          ]
        },
        {
          "output_type": "stream",
          "name": "stderr",
          "text": [
            "100%|██████████| 1563/1563 [01:02<00:00, 25.00it/s]"
          ]
        },
        {
          "output_type": "stream",
          "name": "stdout",
          "text": [
            "\n",
            "\t\t\tTrain metrics: accuracy: 43010/50000 (86.0200%)\n"
          ]
        },
        {
          "output_type": "stream",
          "name": "stderr",
          "text": [
            "\n"
          ]
        },
        {
          "output_type": "stream",
          "name": "stdout",
          "text": [
            "\n",
            "\tTest metrics: average loss: 0.4603, accuracy: 8452/10000 (84.52000%)\n",
            "\n",
            "\n",
            " epoch num ================================= 29\n"
          ]
        },
        {
          "output_type": "stream",
          "name": "stderr",
          "text": [
            "100%|██████████| 1563/1563 [01:02<00:00, 24.93it/s]"
          ]
        },
        {
          "output_type": "stream",
          "name": "stdout",
          "text": [
            "\n",
            "\t\t\tTrain metrics: accuracy: 42980/50000 (85.9600%)\n"
          ]
        },
        {
          "output_type": "stream",
          "name": "stderr",
          "text": [
            "\n"
          ]
        },
        {
          "output_type": "stream",
          "name": "stdout",
          "text": [
            "\n",
            "\tTest metrics: average loss: 0.4611, accuracy: 8445/10000 (84.45000%)\n",
            "\n",
            "\n",
            " epoch num ================================= 30\n"
          ]
        },
        {
          "output_type": "stream",
          "name": "stderr",
          "text": [
            "100%|██████████| 1563/1563 [01:06<00:00, 23.58it/s]"
          ]
        },
        {
          "output_type": "stream",
          "name": "stdout",
          "text": [
            "\n",
            "\t\t\tTrain metrics: accuracy: 43026/50000 (86.0520%)\n"
          ]
        },
        {
          "output_type": "stream",
          "name": "stderr",
          "text": [
            "\n"
          ]
        },
        {
          "output_type": "stream",
          "name": "stdout",
          "text": [
            "\n",
            "\tTest metrics: average loss: 0.4563, accuracy: 8465/10000 (84.65000%)\n",
            "\n",
            "\n",
            " epoch num ================================= 31\n"
          ]
        },
        {
          "output_type": "stream",
          "name": "stderr",
          "text": [
            "100%|██████████| 1563/1563 [01:02<00:00, 24.92it/s]"
          ]
        },
        {
          "output_type": "stream",
          "name": "stdout",
          "text": [
            "\n",
            "\t\t\tTrain metrics: accuracy: 43128/50000 (86.2560%)\n"
          ]
        },
        {
          "output_type": "stream",
          "name": "stderr",
          "text": [
            "\n"
          ]
        },
        {
          "output_type": "stream",
          "name": "stdout",
          "text": [
            "\n",
            "\tTest metrics: average loss: 0.4609, accuracy: 8447/10000 (84.47000%)\n",
            "\n",
            "\n",
            " epoch num ================================= 32\n"
          ]
        },
        {
          "output_type": "stream",
          "name": "stderr",
          "text": [
            "100%|██████████| 1563/1563 [01:02<00:00, 24.98it/s]"
          ]
        },
        {
          "output_type": "stream",
          "name": "stdout",
          "text": [
            "\n",
            "\t\t\tTrain metrics: accuracy: 43107/50000 (86.2140%)\n"
          ]
        },
        {
          "output_type": "stream",
          "name": "stderr",
          "text": [
            "\n"
          ]
        },
        {
          "output_type": "stream",
          "name": "stdout",
          "text": [
            "\n",
            "\tTest metrics: average loss: 0.4587, accuracy: 8457/10000 (84.57000%)\n",
            "\n",
            "\n",
            " epoch num ================================= 33\n"
          ]
        },
        {
          "output_type": "stream",
          "name": "stderr",
          "text": [
            "100%|██████████| 1563/1563 [01:02<00:00, 25.02it/s]"
          ]
        },
        {
          "output_type": "stream",
          "name": "stdout",
          "text": [
            "\n",
            "\t\t\tTrain metrics: accuracy: 43041/50000 (86.0820%)\n"
          ]
        },
        {
          "output_type": "stream",
          "name": "stderr",
          "text": [
            "\n"
          ]
        },
        {
          "output_type": "stream",
          "name": "stdout",
          "text": [
            "\n",
            "\tTest metrics: average loss: 0.4607, accuracy: 8464/10000 (84.64000%)\n",
            "\n",
            "\n",
            " epoch num ================================= 34\n"
          ]
        },
        {
          "output_type": "stream",
          "name": "stderr",
          "text": [
            "100%|██████████| 1563/1563 [01:04<00:00, 24.35it/s]"
          ]
        },
        {
          "output_type": "stream",
          "name": "stdout",
          "text": [
            "\n",
            "\t\t\tTrain metrics: accuracy: 43144/50000 (86.2880%)\n"
          ]
        },
        {
          "output_type": "stream",
          "name": "stderr",
          "text": [
            "\n"
          ]
        },
        {
          "output_type": "stream",
          "name": "stdout",
          "text": [
            "\n",
            "\tTest metrics: average loss: 0.4584, accuracy: 8467/10000 (84.67000%)\n",
            "\n",
            "\n",
            " epoch num ================================= 35\n"
          ]
        },
        {
          "output_type": "stream",
          "name": "stderr",
          "text": [
            "100%|██████████| 1563/1563 [01:03<00:00, 24.73it/s]"
          ]
        },
        {
          "output_type": "stream",
          "name": "stdout",
          "text": [
            "\n",
            "\t\t\tTrain metrics: accuracy: 43135/50000 (86.2700%)\n"
          ]
        },
        {
          "output_type": "stream",
          "name": "stderr",
          "text": [
            "\n"
          ]
        },
        {
          "output_type": "stream",
          "name": "stdout",
          "text": [
            "\n",
            "\tTest metrics: average loss: 0.4586, accuracy: 8484/10000 (84.84000%)\n",
            "\n",
            "\n",
            " epoch num ================================= 36\n"
          ]
        },
        {
          "output_type": "stream",
          "name": "stderr",
          "text": [
            "100%|██████████| 1563/1563 [01:02<00:00, 24.98it/s]"
          ]
        },
        {
          "output_type": "stream",
          "name": "stdout",
          "text": [
            "\n",
            "\t\t\tTrain metrics: accuracy: 43230/50000 (86.4600%)\n"
          ]
        },
        {
          "output_type": "stream",
          "name": "stderr",
          "text": [
            "\n"
          ]
        },
        {
          "output_type": "stream",
          "name": "stdout",
          "text": [
            "\n",
            "\tTest metrics: average loss: 0.4571, accuracy: 8485/10000 (84.85000%)\n",
            "\n",
            "\n",
            " epoch num ================================= 37\n"
          ]
        },
        {
          "output_type": "stream",
          "name": "stderr",
          "text": [
            "100%|██████████| 1563/1563 [01:02<00:00, 24.92it/s]"
          ]
        },
        {
          "output_type": "stream",
          "name": "stdout",
          "text": [
            "\n",
            "\t\t\tTrain metrics: accuracy: 43227/50000 (86.4540%)\n"
          ]
        },
        {
          "output_type": "stream",
          "name": "stderr",
          "text": [
            "\n"
          ]
        },
        {
          "output_type": "stream",
          "name": "stdout",
          "text": [
            "\n",
            "\tTest metrics: average loss: 0.4605, accuracy: 8455/10000 (84.55000%)\n",
            "\n",
            "\n",
            " epoch num ================================= 38\n"
          ]
        },
        {
          "output_type": "stream",
          "name": "stderr",
          "text": [
            "100%|██████████| 1563/1563 [01:03<00:00, 24.74it/s]"
          ]
        },
        {
          "output_type": "stream",
          "name": "stdout",
          "text": [
            "\n",
            "\t\t\tTrain metrics: accuracy: 43232/50000 (86.4640%)\n"
          ]
        },
        {
          "output_type": "stream",
          "name": "stderr",
          "text": [
            "\n"
          ]
        },
        {
          "output_type": "stream",
          "name": "stdout",
          "text": [
            "\n",
            "\tTest metrics: average loss: 0.4621, accuracy: 8448/10000 (84.48000%)\n",
            "\n",
            "\n",
            " epoch num ================================= 39\n"
          ]
        },
        {
          "output_type": "stream",
          "name": "stderr",
          "text": [
            "100%|██████████| 1563/1563 [01:02<00:00, 25.04it/s]"
          ]
        },
        {
          "output_type": "stream",
          "name": "stdout",
          "text": [
            "\n",
            "\t\t\tTrain metrics: accuracy: 43225/50000 (86.4500%)\n"
          ]
        },
        {
          "output_type": "stream",
          "name": "stderr",
          "text": [
            "\n"
          ]
        },
        {
          "output_type": "stream",
          "name": "stdout",
          "text": [
            "\n",
            "\tTest metrics: average loss: 0.4568, accuracy: 8467/10000 (84.67000%)\n",
            "\n",
            "\n",
            " epoch num ================================= 40\n"
          ]
        },
        {
          "output_type": "stream",
          "name": "stderr",
          "text": [
            "100%|██████████| 1563/1563 [01:02<00:00, 25.01it/s]"
          ]
        },
        {
          "output_type": "stream",
          "name": "stdout",
          "text": [
            "\n",
            "\t\t\tTrain metrics: accuracy: 43335/50000 (86.6700%)\n"
          ]
        },
        {
          "output_type": "stream",
          "name": "stderr",
          "text": [
            "\n"
          ]
        },
        {
          "output_type": "stream",
          "name": "stdout",
          "text": [
            "\n",
            "\tTest metrics: average loss: 0.4609, accuracy: 8460/10000 (84.60000%)\n",
            "\n",
            "\n",
            " epoch num ================================= 41\n"
          ]
        },
        {
          "output_type": "stream",
          "name": "stderr",
          "text": [
            "100%|██████████| 1563/1563 [01:02<00:00, 25.02it/s]"
          ]
        },
        {
          "output_type": "stream",
          "name": "stdout",
          "text": [
            "\n",
            "\t\t\tTrain metrics: accuracy: 43225/50000 (86.4500%)\n"
          ]
        },
        {
          "output_type": "stream",
          "name": "stderr",
          "text": [
            "\n"
          ]
        },
        {
          "output_type": "stream",
          "name": "stdout",
          "text": [
            "\n",
            "\tTest metrics: average loss: 0.4612, accuracy: 8463/10000 (84.63000%)\n",
            "\n",
            "\n",
            " epoch num ================================= 42\n"
          ]
        },
        {
          "output_type": "stream",
          "name": "stderr",
          "text": [
            "100%|██████████| 1563/1563 [01:02<00:00, 24.86it/s]"
          ]
        },
        {
          "output_type": "stream",
          "name": "stdout",
          "text": [
            "\n",
            "\t\t\tTrain metrics: accuracy: 43261/50000 (86.5220%)\n"
          ]
        },
        {
          "output_type": "stream",
          "name": "stderr",
          "text": [
            "\n"
          ]
        },
        {
          "output_type": "stream",
          "name": "stdout",
          "text": [
            "\n",
            "\tTest metrics: average loss: 0.4576, accuracy: 8474/10000 (84.74000%)\n",
            "\n",
            "\n",
            " epoch num ================================= 43\n"
          ]
        },
        {
          "output_type": "stream",
          "name": "stderr",
          "text": [
            "100%|██████████| 1563/1563 [01:02<00:00, 25.05it/s]"
          ]
        },
        {
          "output_type": "stream",
          "name": "stdout",
          "text": [
            "\n",
            "\t\t\tTrain metrics: accuracy: 43328/50000 (86.6560%)\n"
          ]
        },
        {
          "output_type": "stream",
          "name": "stderr",
          "text": [
            "\n"
          ]
        },
        {
          "output_type": "stream",
          "name": "stdout",
          "text": [
            "\n",
            "\tTest metrics: average loss: 0.4604, accuracy: 8473/10000 (84.73000%)\n",
            "\n",
            "\n",
            " epoch num ================================= 44\n"
          ]
        },
        {
          "output_type": "stream",
          "name": "stderr",
          "text": [
            "100%|██████████| 1563/1563 [01:04<00:00, 24.05it/s]"
          ]
        },
        {
          "output_type": "stream",
          "name": "stdout",
          "text": [
            "\n",
            "\t\t\tTrain metrics: accuracy: 43383/50000 (86.7660%)\n"
          ]
        },
        {
          "output_type": "stream",
          "name": "stderr",
          "text": [
            "\n"
          ]
        },
        {
          "output_type": "stream",
          "name": "stdout",
          "text": [
            "\n",
            "\tTest metrics: average loss: 0.4585, accuracy: 8490/10000 (84.90000%)\n",
            "\n",
            "\n",
            " epoch num ================================= 45\n"
          ]
        },
        {
          "output_type": "stream",
          "name": "stderr",
          "text": [
            "100%|██████████| 1563/1563 [01:04<00:00, 24.14it/s]"
          ]
        },
        {
          "output_type": "stream",
          "name": "stdout",
          "text": [
            "\n",
            "\t\t\tTrain metrics: accuracy: 43430/50000 (86.8600%)\n"
          ]
        },
        {
          "output_type": "stream",
          "name": "stderr",
          "text": [
            "\n"
          ]
        },
        {
          "output_type": "stream",
          "name": "stdout",
          "text": [
            "\n",
            "\tTest metrics: average loss: 0.4574, accuracy: 8461/10000 (84.61000%)\n",
            "\n",
            "\n",
            " epoch num ================================= 46\n"
          ]
        },
        {
          "output_type": "stream",
          "name": "stderr",
          "text": [
            "100%|██████████| 1563/1563 [01:03<00:00, 24.71it/s]"
          ]
        },
        {
          "output_type": "stream",
          "name": "stdout",
          "text": [
            "\n",
            "\t\t\tTrain metrics: accuracy: 43398/50000 (86.7960%)\n"
          ]
        },
        {
          "output_type": "stream",
          "name": "stderr",
          "text": [
            "\n"
          ]
        },
        {
          "output_type": "stream",
          "name": "stdout",
          "text": [
            "\n",
            "\tTest metrics: average loss: 0.4605, accuracy: 8469/10000 (84.69000%)\n",
            "\n",
            "\n",
            " epoch num ================================= 47\n"
          ]
        },
        {
          "output_type": "stream",
          "name": "stderr",
          "text": [
            "100%|██████████| 1563/1563 [01:02<00:00, 24.92it/s]"
          ]
        },
        {
          "output_type": "stream",
          "name": "stdout",
          "text": [
            "\n",
            "\t\t\tTrain metrics: accuracy: 43350/50000 (86.7000%)\n"
          ]
        },
        {
          "output_type": "stream",
          "name": "stderr",
          "text": [
            "\n"
          ]
        },
        {
          "output_type": "stream",
          "name": "stdout",
          "text": [
            "\n",
            "\tTest metrics: average loss: 0.4592, accuracy: 8471/10000 (84.71000%)\n",
            "\n",
            "\n",
            " epoch num ================================= 48\n"
          ]
        },
        {
          "output_type": "stream",
          "name": "stderr",
          "text": [
            "100%|██████████| 1563/1563 [01:05<00:00, 24.00it/s]"
          ]
        },
        {
          "output_type": "stream",
          "name": "stdout",
          "text": [
            "\n",
            "\t\t\tTrain metrics: accuracy: 43496/50000 (86.9920%)\n"
          ]
        },
        {
          "output_type": "stream",
          "name": "stderr",
          "text": [
            "\n"
          ]
        },
        {
          "output_type": "stream",
          "name": "stdout",
          "text": [
            "\n",
            "\tTest metrics: average loss: 0.4607, accuracy: 8471/10000 (84.71000%)\n",
            "\n",
            "\n",
            " epoch num ================================= 49\n"
          ]
        },
        {
          "output_type": "stream",
          "name": "stderr",
          "text": [
            "100%|██████████| 1563/1563 [01:02<00:00, 24.83it/s]"
          ]
        },
        {
          "output_type": "stream",
          "name": "stdout",
          "text": [
            "\n",
            "\t\t\tTrain metrics: accuracy: 43351/50000 (86.7020%)\n"
          ]
        },
        {
          "output_type": "stream",
          "name": "stderr",
          "text": [
            "\n"
          ]
        },
        {
          "output_type": "stream",
          "name": "stdout",
          "text": [
            "\n",
            "\tTest metrics: average loss: 0.4583, accuracy: 8481/10000 (84.81000%)\n",
            "\n",
            "\n",
            " epoch num ================================= 50\n"
          ]
        },
        {
          "output_type": "stream",
          "name": "stderr",
          "text": [
            "100%|██████████| 1563/1563 [01:02<00:00, 24.90it/s]"
          ]
        },
        {
          "output_type": "stream",
          "name": "stdout",
          "text": [
            "\n",
            "\t\t\tTrain metrics: accuracy: 43505/50000 (87.0100%)\n"
          ]
        },
        {
          "output_type": "stream",
          "name": "stderr",
          "text": [
            "\n"
          ]
        },
        {
          "output_type": "stream",
          "name": "stdout",
          "text": [
            "\n",
            "\tTest metrics: average loss: 0.4630, accuracy: 8457/10000 (84.57000%)\n",
            "\n"
          ]
        },
        {
          "output_type": "display_data",
          "data": {
            "text/plain": [
              "<IPython.core.display.Javascript object>"
            ],
            "application/javascript": [
              "\n",
              "    async function download(id, filename, size) {\n",
              "      if (!google.colab.kernel.accessAllowed) {\n",
              "        return;\n",
              "      }\n",
              "      const div = document.createElement('div');\n",
              "      const label = document.createElement('label');\n",
              "      label.textContent = `Downloading \"${filename}\": `;\n",
              "      div.appendChild(label);\n",
              "      const progress = document.createElement('progress');\n",
              "      progress.max = size;\n",
              "      div.appendChild(progress);\n",
              "      document.body.appendChild(div);\n",
              "\n",
              "      const buffers = [];\n",
              "      let downloaded = 0;\n",
              "\n",
              "      const channel = await google.colab.kernel.comms.open(id);\n",
              "      // Send a message to notify the kernel that we're ready.\n",
              "      channel.send({})\n",
              "\n",
              "      for await (const message of channel.messages) {\n",
              "        // Send a message to notify the kernel that we're ready.\n",
              "        channel.send({})\n",
              "        if (message.buffers) {\n",
              "          for (const buffer of message.buffers) {\n",
              "            buffers.push(buffer);\n",
              "            downloaded += buffer.byteLength;\n",
              "            progress.value = downloaded;\n",
              "          }\n",
              "        }\n",
              "      }\n",
              "      const blob = new Blob(buffers, {type: 'application/binary'});\n",
              "      const a = document.createElement('a');\n",
              "      a.href = window.URL.createObjectURL(blob);\n",
              "      a.download = filename;\n",
              "      div.appendChild(a);\n",
              "      a.click();\n",
              "      div.remove();\n",
              "    }\n",
              "  "
            ]
          },
          "metadata": {}
        },
        {
          "output_type": "display_data",
          "data": {
            "text/plain": [
              "<IPython.core.display.Javascript object>"
            ],
            "application/javascript": [
              "download(\"download_fab684e1-1999-4373-9ca2-af4c03a6b63b\", \"eva8_s6_exp_2_lr0003_epochs40.pth\", 450897)"
            ]
          },
          "metadata": {}
        }
      ]
    },
    {
      "cell_type": "code",
      "metadata": {
        "colab": {
          "base_uri": "https://localhost:8080/",
          "height": 1000
        },
        "id": "S02o_eiDQOq_",
        "outputId": "9328ecc2-60ab-4b9f-c116-c431eaf2d79e"
      },
      "source": [
        "optimizer = optim.SGD(model.parameters(), lr=0.001, momentum=0.9, nesterov=True)\n",
        "\n",
        "step_lr = StepLR(optimizer=optimizer, step_size=2, gamma=0.81, verbose=True)\n",
        "\n",
        "train_eval_model(model, train_loader, optimizer, device, epochs=50, test=True,\n",
        "                 test_loader=test_loader,\n",
        "                 scheduler=step_lr)\n",
        "\n",
        "torch.save(model, \"./eva8_s6_steplr1_epochs50.pth\")\n",
        "files.download(\"./eva8_s6_steplr1_epochs50.pth\")"
      ],
      "execution_count": null,
      "outputs": [
        {
          "metadata": {
            "tags": null
          },
          "name": "stdout",
          "output_type": "stream",
          "text": [
            "Adjusting learning rate of group 0 to 1.0000e-03.\n",
            "\n",
            " epoch num ================================= 1\n"
          ]
        },
        {
          "metadata": {
            "tags": null
          },
          "name": "stderr",
          "output_type": "stream",
          "text": [
            "100%|██████████| 1563/1563 [01:04<00:00, 24.18it/s]"
          ]
        },
        {
          "metadata": {
            "tags": null
          },
          "name": "stdout",
          "output_type": "stream",
          "text": [
            "\n",
            "\n",
            "\t\t\tLast LR --> [0.001]\n",
            "Adjusting learning rate of group 0 to 1.0000e-03.\n",
            "\n",
            "\t\t\tTrain metrics: accuracy: 35712/50000 (71.4240%)\n"
          ]
        },
        {
          "metadata": {
            "tags": null
          },
          "name": "stderr",
          "output_type": "stream",
          "text": [
            "\n"
          ]
        },
        {
          "metadata": {
            "tags": null
          },
          "name": "stdout",
          "output_type": "stream",
          "text": [
            "\n",
            "\tTest metrics: average loss: 0.5265, accuracy: 8308/10000 (83.08000%)\n",
            "\n",
            "\n",
            " epoch num ================================= 2\n"
          ]
        },
        {
          "metadata": {
            "tags": null
          },
          "name": "stderr",
          "output_type": "stream",
          "text": [
            "100%|██████████| 1563/1563 [01:02<00:00, 25.11it/s]"
          ]
        },
        {
          "metadata": {
            "tags": null
          },
          "name": "stdout",
          "output_type": "stream",
          "text": [
            "\n",
            "\n",
            "\t\t\tLast LR --> [0.001]\n",
            "Adjusting learning rate of group 0 to 8.1000e-04.\n",
            "\n",
            "\t\t\tTrain metrics: accuracy: 42312/50000 (84.6240%)\n"
          ]
        },
        {
          "metadata": {
            "tags": null
          },
          "name": "stderr",
          "output_type": "stream",
          "text": [
            "\n"
          ]
        },
        {
          "metadata": {
            "tags": null
          },
          "name": "stdout",
          "output_type": "stream",
          "text": [
            "\n",
            "\tTest metrics: average loss: 0.4575, accuracy: 8436/10000 (84.36000%)\n",
            "\n",
            "\n",
            " epoch num ================================= 3\n"
          ]
        },
        {
          "metadata": {
            "tags": null
          },
          "name": "stderr",
          "output_type": "stream",
          "text": [
            "100%|██████████| 1563/1563 [01:02<00:00, 25.07it/s]"
          ]
        },
        {
          "metadata": {
            "tags": null
          },
          "name": "stdout",
          "output_type": "stream",
          "text": [
            "\n",
            "\n",
            "\t\t\tLast LR --> [0.0008100000000000001]\n",
            "Adjusting learning rate of group 0 to 8.1000e-04.\n",
            "\n",
            "\t\t\tTrain metrics: accuracy: 42852/50000 (85.7040%)\n"
          ]
        },
        {
          "metadata": {
            "tags": null
          },
          "name": "stderr",
          "output_type": "stream",
          "text": [
            "\n"
          ]
        },
        {
          "metadata": {
            "tags": null
          },
          "name": "stdout",
          "output_type": "stream",
          "text": [
            "\n",
            "\tTest metrics: average loss: 0.4555, accuracy: 8419/10000 (84.19000%)\n",
            "\n",
            "\n",
            " epoch num ================================= 4\n"
          ]
        },
        {
          "metadata": {
            "tags": null
          },
          "name": "stderr",
          "output_type": "stream",
          "text": [
            "100%|██████████| 1563/1563 [01:02<00:00, 24.95it/s]"
          ]
        },
        {
          "metadata": {
            "tags": null
          },
          "name": "stdout",
          "output_type": "stream",
          "text": [
            "\n",
            "\n",
            "\t\t\tLast LR --> [0.0008100000000000001]\n",
            "Adjusting learning rate of group 0 to 6.5610e-04.\n",
            "\n",
            "\t\t\tTrain metrics: accuracy: 43020/50000 (86.0400%)\n"
          ]
        },
        {
          "metadata": {
            "tags": null
          },
          "name": "stderr",
          "output_type": "stream",
          "text": [
            "\n"
          ]
        },
        {
          "metadata": {
            "tags": null
          },
          "name": "stdout",
          "output_type": "stream",
          "text": [
            "\n",
            "\tTest metrics: average loss: 0.4528, accuracy: 8453/10000 (84.53000%)\n",
            "\n",
            "\n",
            " epoch num ================================= 5\n"
          ]
        },
        {
          "metadata": {
            "tags": null
          },
          "name": "stderr",
          "output_type": "stream",
          "text": [
            "100%|██████████| 1563/1563 [01:02<00:00, 25.13it/s]"
          ]
        },
        {
          "metadata": {
            "tags": null
          },
          "name": "stdout",
          "output_type": "stream",
          "text": [
            "\n",
            "\n",
            "\t\t\tLast LR --> [0.0006561000000000001]\n",
            "Adjusting learning rate of group 0 to 6.5610e-04.\n",
            "\n",
            "\t\t\tTrain metrics: accuracy: 43192/50000 (86.3840%)\n"
          ]
        },
        {
          "metadata": {
            "tags": null
          },
          "name": "stderr",
          "output_type": "stream",
          "text": [
            "\n"
          ]
        },
        {
          "metadata": {
            "tags": null
          },
          "name": "stdout",
          "output_type": "stream",
          "text": [
            "\n",
            "\tTest metrics: average loss: 0.4519, accuracy: 8499/10000 (84.99000%)\n",
            "\n",
            "\n",
            " epoch num ================================= 6\n"
          ]
        },
        {
          "metadata": {
            "tags": null
          },
          "name": "stderr",
          "output_type": "stream",
          "text": [
            "100%|██████████| 1563/1563 [01:02<00:00, 25.06it/s]"
          ]
        },
        {
          "metadata": {
            "tags": null
          },
          "name": "stdout",
          "output_type": "stream",
          "text": [
            "\n",
            "\n",
            "\t\t\tLast LR --> [0.0006561000000000001]\n",
            "Adjusting learning rate of group 0 to 5.3144e-04.\n",
            "\n",
            "\t\t\tTrain metrics: accuracy: 43363/50000 (86.7260%)\n"
          ]
        },
        {
          "metadata": {
            "tags": null
          },
          "name": "stderr",
          "output_type": "stream",
          "text": [
            "\n"
          ]
        },
        {
          "metadata": {
            "tags": null
          },
          "name": "stdout",
          "output_type": "stream",
          "text": [
            "\n",
            "\tTest metrics: average loss: 0.4552, accuracy: 8482/10000 (84.82000%)\n",
            "\n",
            "\n",
            " epoch num ================================= 7\n"
          ]
        },
        {
          "metadata": {
            "tags": null
          },
          "name": "stderr",
          "output_type": "stream",
          "text": [
            "100%|██████████| 1563/1563 [01:02<00:00, 25.00it/s]"
          ]
        },
        {
          "metadata": {
            "tags": null
          },
          "name": "stdout",
          "output_type": "stream",
          "text": [
            "\n",
            "\n",
            "\t\t\tLast LR --> [0.0005314410000000001]\n",
            "Adjusting learning rate of group 0 to 5.3144e-04.\n",
            "\n",
            "\t\t\tTrain metrics: accuracy: 43420/50000 (86.8400%)\n"
          ]
        },
        {
          "metadata": {
            "tags": null
          },
          "name": "stderr",
          "output_type": "stream",
          "text": [
            "\n"
          ]
        },
        {
          "metadata": {
            "tags": null
          },
          "name": "stdout",
          "output_type": "stream",
          "text": [
            "\n",
            "\tTest metrics: average loss: 0.4581, accuracy: 8452/10000 (84.52000%)\n",
            "\n",
            "\n",
            " epoch num ================================= 8\n"
          ]
        },
        {
          "metadata": {
            "tags": null
          },
          "name": "stderr",
          "output_type": "stream",
          "text": [
            "100%|██████████| 1563/1563 [01:02<00:00, 24.90it/s]"
          ]
        },
        {
          "metadata": {
            "tags": null
          },
          "name": "stdout",
          "output_type": "stream",
          "text": [
            "\n",
            "\n",
            "\t\t\tLast LR --> [0.0005314410000000001]\n",
            "Adjusting learning rate of group 0 to 4.3047e-04.\n",
            "\n",
            "\t\t\tTrain metrics: accuracy: 43395/50000 (86.7900%)\n"
          ]
        },
        {
          "metadata": {
            "tags": null
          },
          "name": "stderr",
          "output_type": "stream",
          "text": [
            "\n"
          ]
        },
        {
          "metadata": {
            "tags": null
          },
          "name": "stdout",
          "output_type": "stream",
          "text": [
            "\n",
            "\tTest metrics: average loss: 0.4614, accuracy: 8451/10000 (84.51000%)\n",
            "\n",
            "\n",
            " epoch num ================================= 9\n"
          ]
        },
        {
          "metadata": {
            "tags": null
          },
          "name": "stderr",
          "output_type": "stream",
          "text": [
            "100%|██████████| 1563/1563 [01:02<00:00, 25.07it/s]"
          ]
        },
        {
          "metadata": {
            "tags": null
          },
          "name": "stdout",
          "output_type": "stream",
          "text": [
            "\n",
            "\n",
            "\t\t\tLast LR --> [0.0004304672100000001]\n",
            "Adjusting learning rate of group 0 to 4.3047e-04.\n",
            "\n",
            "\t\t\tTrain metrics: accuracy: 43444/50000 (86.8880%)\n"
          ]
        },
        {
          "metadata": {
            "tags": null
          },
          "name": "stderr",
          "output_type": "stream",
          "text": [
            "\n"
          ]
        },
        {
          "metadata": {
            "tags": null
          },
          "name": "stdout",
          "output_type": "stream",
          "text": [
            "\n",
            "\tTest metrics: average loss: 0.4584, accuracy: 8481/10000 (84.81000%)\n",
            "\n",
            "\n",
            " epoch num ================================= 10\n"
          ]
        },
        {
          "metadata": {
            "tags": null
          },
          "name": "stderr",
          "output_type": "stream",
          "text": [
            "100%|██████████| 1563/1563 [01:02<00:00, 24.89it/s]"
          ]
        },
        {
          "metadata": {
            "tags": null
          },
          "name": "stdout",
          "output_type": "stream",
          "text": [
            "\n",
            "\n",
            "\t\t\tLast LR --> [0.0004304672100000001]\n",
            "Adjusting learning rate of group 0 to 3.4868e-04.\n",
            "\n",
            "\t\t\tTrain metrics: accuracy: 43516/50000 (87.0320%)\n"
          ]
        },
        {
          "metadata": {
            "tags": null
          },
          "name": "stderr",
          "output_type": "stream",
          "text": [
            "\n"
          ]
        },
        {
          "metadata": {
            "tags": null
          },
          "name": "stdout",
          "output_type": "stream",
          "text": [
            "\n",
            "\tTest metrics: average loss: 0.4570, accuracy: 8479/10000 (84.79000%)\n",
            "\n",
            "\n",
            " epoch num ================================= 11\n"
          ]
        },
        {
          "metadata": {
            "tags": null
          },
          "name": "stderr",
          "output_type": "stream",
          "text": [
            "100%|██████████| 1563/1563 [01:03<00:00, 24.74it/s]"
          ]
        },
        {
          "metadata": {
            "tags": null
          },
          "name": "stdout",
          "output_type": "stream",
          "text": [
            "\n",
            "\n",
            "\t\t\tLast LR --> [0.0003486784401000001]\n",
            "Adjusting learning rate of group 0 to 3.4868e-04.\n",
            "\n",
            "\t\t\tTrain metrics: accuracy: 43582/50000 (87.1640%)\n"
          ]
        },
        {
          "metadata": {
            "tags": null
          },
          "name": "stderr",
          "output_type": "stream",
          "text": [
            "\n"
          ]
        },
        {
          "metadata": {
            "tags": null
          },
          "name": "stdout",
          "output_type": "stream",
          "text": [
            "\n",
            "\tTest metrics: average loss: 0.4560, accuracy: 8507/10000 (85.07000%)\n",
            "\n",
            "\n",
            " epoch num ================================= 12\n"
          ]
        },
        {
          "metadata": {
            "tags": null
          },
          "name": "stderr",
          "output_type": "stream",
          "text": [
            "100%|██████████| 1563/1563 [01:02<00:00, 24.90it/s]"
          ]
        },
        {
          "metadata": {
            "tags": null
          },
          "name": "stdout",
          "output_type": "stream",
          "text": [
            "\n",
            "\n",
            "\t\t\tLast LR --> [0.0003486784401000001]\n",
            "Adjusting learning rate of group 0 to 2.8243e-04.\n",
            "\n",
            "\t\t\tTrain metrics: accuracy: 43546/50000 (87.0920%)\n"
          ]
        },
        {
          "metadata": {
            "tags": null
          },
          "name": "stderr",
          "output_type": "stream",
          "text": [
            "\n"
          ]
        },
        {
          "metadata": {
            "tags": null
          },
          "name": "stdout",
          "output_type": "stream",
          "text": [
            "\n",
            "\tTest metrics: average loss: 0.4596, accuracy: 8479/10000 (84.79000%)\n",
            "\n",
            "\n",
            " epoch num ================================= 13\n"
          ]
        },
        {
          "metadata": {
            "tags": null
          },
          "name": "stderr",
          "output_type": "stream",
          "text": [
            "100%|██████████| 1563/1563 [01:02<00:00, 24.83it/s]"
          ]
        },
        {
          "metadata": {
            "tags": null
          },
          "name": "stdout",
          "output_type": "stream",
          "text": [
            "\n",
            "\n",
            "\t\t\tLast LR --> [0.0002824295364810001]\n",
            "Adjusting learning rate of group 0 to 2.8243e-04.\n",
            "\n",
            "\t\t\tTrain metrics: accuracy: 43735/50000 (87.4700%)\n"
          ]
        },
        {
          "metadata": {
            "tags": null
          },
          "name": "stderr",
          "output_type": "stream",
          "text": [
            "\n"
          ]
        },
        {
          "metadata": {
            "tags": null
          },
          "name": "stdout",
          "output_type": "stream",
          "text": [
            "\n",
            "\tTest metrics: average loss: 0.4583, accuracy: 8484/10000 (84.84000%)\n",
            "\n",
            "\n",
            " epoch num ================================= 14\n"
          ]
        },
        {
          "metadata": {
            "tags": null
          },
          "name": "stderr",
          "output_type": "stream",
          "text": [
            "100%|██████████| 1563/1563 [01:03<00:00, 24.80it/s]"
          ]
        },
        {
          "metadata": {
            "tags": null
          },
          "name": "stdout",
          "output_type": "stream",
          "text": [
            "\n",
            "\n",
            "\t\t\tLast LR --> [0.0002824295364810001]\n",
            "Adjusting learning rate of group 0 to 2.2877e-04.\n",
            "\n",
            "\t\t\tTrain metrics: accuracy: 43545/50000 (87.0900%)\n"
          ]
        },
        {
          "metadata": {
            "tags": null
          },
          "name": "stderr",
          "output_type": "stream",
          "text": [
            "\n"
          ]
        },
        {
          "metadata": {
            "tags": null
          },
          "name": "stdout",
          "output_type": "stream",
          "text": [
            "\n",
            "\tTest metrics: average loss: 0.4558, accuracy: 8490/10000 (84.90000%)\n",
            "\n",
            "\n",
            " epoch num ================================= 15\n"
          ]
        },
        {
          "metadata": {
            "tags": null
          },
          "name": "stderr",
          "output_type": "stream",
          "text": [
            "100%|██████████| 1563/1563 [01:02<00:00, 24.94it/s]"
          ]
        },
        {
          "metadata": {
            "tags": null
          },
          "name": "stdout",
          "output_type": "stream",
          "text": [
            "\n",
            "\n",
            "\t\t\tLast LR --> [0.00022876792454961008]\n",
            "Adjusting learning rate of group 0 to 2.2877e-04.\n",
            "\n",
            "\t\t\tTrain metrics: accuracy: 43666/50000 (87.3320%)\n"
          ]
        },
        {
          "metadata": {
            "tags": null
          },
          "name": "stderr",
          "output_type": "stream",
          "text": [
            "\n"
          ]
        },
        {
          "metadata": {
            "tags": null
          },
          "name": "stdout",
          "output_type": "stream",
          "text": [
            "\n",
            "\tTest metrics: average loss: 0.4584, accuracy: 8464/10000 (84.64000%)\n",
            "\n",
            "\n",
            " epoch num ================================= 16\n"
          ]
        },
        {
          "metadata": {
            "tags": null
          },
          "name": "stderr",
          "output_type": "stream",
          "text": [
            "100%|██████████| 1563/1563 [01:03<00:00, 24.76it/s]"
          ]
        },
        {
          "metadata": {
            "tags": null
          },
          "name": "stdout",
          "output_type": "stream",
          "text": [
            "\n",
            "\n",
            "\t\t\tLast LR --> [0.00022876792454961008]\n",
            "Adjusting learning rate of group 0 to 1.8530e-04.\n",
            "\n",
            "\t\t\tTrain metrics: accuracy: 43713/50000 (87.4260%)\n"
          ]
        },
        {
          "metadata": {
            "tags": null
          },
          "name": "stderr",
          "output_type": "stream",
          "text": [
            "\n"
          ]
        },
        {
          "metadata": {
            "tags": null
          },
          "name": "stdout",
          "output_type": "stream",
          "text": [
            "\n",
            "\tTest metrics: average loss: 0.4601, accuracy: 8490/10000 (84.90000%)\n",
            "\n",
            "\n",
            " epoch num ================================= 17\n"
          ]
        },
        {
          "metadata": {
            "tags": null
          },
          "name": "stderr",
          "output_type": "stream",
          "text": [
            "100%|██████████| 1563/1563 [01:02<00:00, 24.92it/s]"
          ]
        },
        {
          "metadata": {
            "tags": null
          },
          "name": "stdout",
          "output_type": "stream",
          "text": [
            "\n",
            "\n",
            "\t\t\tLast LR --> [0.00018530201888518417]\n",
            "Adjusting learning rate of group 0 to 1.8530e-04.\n",
            "\n",
            "\t\t\tTrain metrics: accuracy: 43724/50000 (87.4480%)\n"
          ]
        },
        {
          "metadata": {
            "tags": null
          },
          "name": "stderr",
          "output_type": "stream",
          "text": [
            "\n"
          ]
        },
        {
          "metadata": {
            "tags": null
          },
          "name": "stdout",
          "output_type": "stream",
          "text": [
            "\n",
            "\tTest metrics: average loss: 0.4572, accuracy: 8499/10000 (84.99000%)\n",
            "\n",
            "\n",
            " epoch num ================================= 18\n"
          ]
        },
        {
          "metadata": {
            "tags": null
          },
          "name": "stderr",
          "output_type": "stream",
          "text": [
            "100%|██████████| 1563/1563 [01:02<00:00, 24.96it/s]"
          ]
        },
        {
          "metadata": {
            "tags": null
          },
          "name": "stdout",
          "output_type": "stream",
          "text": [
            "\n",
            "\n",
            "\t\t\tLast LR --> [0.00018530201888518417]\n",
            "Adjusting learning rate of group 0 to 1.5009e-04.\n",
            "\n",
            "\t\t\tTrain metrics: accuracy: 43758/50000 (87.5160%)\n"
          ]
        },
        {
          "metadata": {
            "tags": null
          },
          "name": "stderr",
          "output_type": "stream",
          "text": [
            "\n"
          ]
        },
        {
          "metadata": {
            "tags": null
          },
          "name": "stdout",
          "output_type": "stream",
          "text": [
            "\n",
            "\tTest metrics: average loss: 0.4575, accuracy: 8500/10000 (85.00000%)\n",
            "\n",
            "\n",
            " epoch num ================================= 19\n"
          ]
        },
        {
          "metadata": {
            "tags": null
          },
          "name": "stderr",
          "output_type": "stream",
          "text": [
            "100%|██████████| 1563/1563 [01:02<00:00, 25.04it/s]"
          ]
        },
        {
          "metadata": {
            "tags": null
          },
          "name": "stdout",
          "output_type": "stream",
          "text": [
            "\n",
            "\n",
            "\t\t\tLast LR --> [0.00015009463529699917]\n",
            "Adjusting learning rate of group 0 to 1.5009e-04.\n",
            "\n",
            "\t\t\tTrain metrics: accuracy: 43758/50000 (87.5160%)\n"
          ]
        },
        {
          "metadata": {
            "tags": null
          },
          "name": "stderr",
          "output_type": "stream",
          "text": [
            "\n"
          ]
        },
        {
          "metadata": {
            "tags": null
          },
          "name": "stdout",
          "output_type": "stream",
          "text": [
            "\n",
            "\tTest metrics: average loss: 0.4567, accuracy: 8492/10000 (84.92000%)\n",
            "\n",
            "\n",
            " epoch num ================================= 20\n"
          ]
        },
        {
          "metadata": {
            "tags": null
          },
          "name": "stderr",
          "output_type": "stream",
          "text": [
            "100%|██████████| 1563/1563 [01:02<00:00, 25.12it/s]"
          ]
        },
        {
          "metadata": {
            "tags": null
          },
          "name": "stdout",
          "output_type": "stream",
          "text": [
            "\n",
            "\n",
            "\t\t\tLast LR --> [0.00015009463529699917]\n",
            "Adjusting learning rate of group 0 to 1.2158e-04.\n",
            "\n",
            "\t\t\tTrain metrics: accuracy: 43845/50000 (87.6900%)\n"
          ]
        },
        {
          "metadata": {
            "tags": null
          },
          "name": "stderr",
          "output_type": "stream",
          "text": [
            "\n"
          ]
        },
        {
          "output_type": "stream",
          "name": "stdout",
          "text": [
            "\n",
            "\tTest metrics: average loss: 0.4573, accuracy: 8496/10000 (84.96000%)\n",
            "\n",
            "\n",
            " epoch num ================================= 21\n"
          ]
        },
        {
          "output_type": "stream",
          "name": "stderr",
          "text": [
            "100%|██████████| 1563/1563 [01:02<00:00, 25.04it/s]"
          ]
        },
        {
          "output_type": "stream",
          "name": "stdout",
          "text": [
            "\n",
            "\n",
            "\t\t\tLast LR --> [0.00012157665459056933]\n",
            "Adjusting learning rate of group 0 to 1.2158e-04.\n",
            "\n",
            "\t\t\tTrain metrics: accuracy: 43756/50000 (87.5120%)\n"
          ]
        },
        {
          "output_type": "stream",
          "name": "stderr",
          "text": [
            "\n"
          ]
        },
        {
          "output_type": "stream",
          "name": "stdout",
          "text": [
            "\n",
            "\tTest metrics: average loss: 0.4578, accuracy: 8489/10000 (84.89000%)\n",
            "\n",
            "\n",
            " epoch num ================================= 22\n"
          ]
        },
        {
          "output_type": "stream",
          "name": "stderr",
          "text": [
            "100%|██████████| 1563/1563 [01:02<00:00, 25.13it/s]"
          ]
        },
        {
          "output_type": "stream",
          "name": "stdout",
          "text": [
            "\n",
            "\n",
            "\t\t\tLast LR --> [0.00012157665459056933]\n",
            "Adjusting learning rate of group 0 to 9.8477e-05.\n",
            "\n",
            "\t\t\tTrain metrics: accuracy: 43823/50000 (87.6460%)\n"
          ]
        },
        {
          "output_type": "stream",
          "name": "stderr",
          "text": [
            "\n"
          ]
        },
        {
          "output_type": "stream",
          "name": "stdout",
          "text": [
            "\n",
            "\tTest metrics: average loss: 0.4580, accuracy: 8492/10000 (84.92000%)\n",
            "\n",
            "\n",
            " epoch num ================================= 23\n"
          ]
        },
        {
          "output_type": "stream",
          "name": "stderr",
          "text": [
            "  5%|▍         | 77/1563 [00:03<01:01, 23.97it/s]\n"
          ]
        },
        {
          "output_type": "error",
          "ename": "KeyboardInterrupt",
          "evalue": "ignored",
          "traceback": [
            "\u001b[0;31m---------------------------------------------------------------------------\u001b[0m",
            "\u001b[0;31mKeyboardInterrupt\u001b[0m                         Traceback (most recent call last)",
            "\u001b[0;32m<ipython-input-29-f69296a2c010>\u001b[0m in \u001b[0;36m<module>\u001b[0;34m\u001b[0m\n\u001b[1;32m      3\u001b[0m \u001b[0mstep_lr\u001b[0m \u001b[0;34m=\u001b[0m \u001b[0mStepLR\u001b[0m\u001b[0;34m(\u001b[0m\u001b[0moptimizer\u001b[0m\u001b[0;34m=\u001b[0m\u001b[0moptimizer\u001b[0m\u001b[0;34m,\u001b[0m \u001b[0mstep_size\u001b[0m\u001b[0;34m=\u001b[0m\u001b[0;36m2\u001b[0m\u001b[0;34m,\u001b[0m \u001b[0mgamma\u001b[0m\u001b[0;34m=\u001b[0m\u001b[0;36m0.81\u001b[0m\u001b[0;34m,\u001b[0m \u001b[0mverbose\u001b[0m\u001b[0;34m=\u001b[0m\u001b[0;32mTrue\u001b[0m\u001b[0;34m)\u001b[0m\u001b[0;34m\u001b[0m\u001b[0;34m\u001b[0m\u001b[0m\n\u001b[1;32m      4\u001b[0m \u001b[0;34m\u001b[0m\u001b[0m\n\u001b[0;32m----> 5\u001b[0;31m train_eval_model(model, train_loader, optimizer, device, epochs=50, test=True,\n\u001b[0m\u001b[1;32m      6\u001b[0m                  \u001b[0mtest_loader\u001b[0m\u001b[0;34m=\u001b[0m\u001b[0mtest_loader\u001b[0m\u001b[0;34m,\u001b[0m\u001b[0;34m\u001b[0m\u001b[0;34m\u001b[0m\u001b[0m\n\u001b[1;32m      7\u001b[0m                  scheduler=step_lr)\n",
            "\u001b[0;32m<ipython-input-10-9ab69bb8ea76>\u001b[0m in \u001b[0;36mtrain_eval_model\u001b[0;34m(model, train_loader, optimizer, device, epochs, test, test_loader, scheduler)\u001b[0m\n\u001b[1;32m     17\u001b[0m           \u001b[0mdata\u001b[0m\u001b[0;34m,\u001b[0m \u001b[0mtarget\u001b[0m \u001b[0;34m=\u001b[0m \u001b[0mdata\u001b[0m\u001b[0;34m.\u001b[0m\u001b[0mto\u001b[0m\u001b[0;34m(\u001b[0m\u001b[0mdevice\u001b[0m\u001b[0;34m)\u001b[0m\u001b[0;34m,\u001b[0m \u001b[0mtarget\u001b[0m\u001b[0;34m.\u001b[0m\u001b[0mto\u001b[0m\u001b[0;34m(\u001b[0m\u001b[0mdevice\u001b[0m\u001b[0;34m)\u001b[0m \u001b[0;31m# move data to `device`\u001b[0m\u001b[0;34m\u001b[0m\u001b[0;34m\u001b[0m\u001b[0m\n\u001b[1;32m     18\u001b[0m \u001b[0;34m\u001b[0m\u001b[0m\n\u001b[0;32m---> 19\u001b[0;31m           \u001b[0moptimizer\u001b[0m\u001b[0;34m.\u001b[0m\u001b[0mzero_grad\u001b[0m\u001b[0;34m(\u001b[0m\u001b[0;34m)\u001b[0m \u001b[0;31m# zero out the gradients to avoid accumulating them over loops\u001b[0m\u001b[0;34m\u001b[0m\u001b[0;34m\u001b[0m\u001b[0m\n\u001b[0m\u001b[1;32m     20\u001b[0m \u001b[0;34m\u001b[0m\u001b[0m\n\u001b[1;32m     21\u001b[0m           \u001b[0moutput\u001b[0m \u001b[0;34m=\u001b[0m \u001b[0mmodel\u001b[0m\u001b[0;34m(\u001b[0m\u001b[0mdata\u001b[0m\u001b[0;34m)\u001b[0m \u001b[0;31m# get the model's predictions\u001b[0m\u001b[0;34m\u001b[0m\u001b[0;34m\u001b[0m\u001b[0m\n",
            "\u001b[0;32m/usr/local/lib/python3.8/dist-packages/torch/optim/optimizer.py\u001b[0m in \u001b[0;36mzero_grad\u001b[0;34m(self, set_to_none)\u001b[0m\n\u001b[1;32m    277\u001b[0m                                 \u001b[0mp\u001b[0m\u001b[0;34m.\u001b[0m\u001b[0mgrad\u001b[0m\u001b[0;34m.\u001b[0m\u001b[0mrequires_grad_\u001b[0m\u001b[0;34m(\u001b[0m\u001b[0;32mFalse\u001b[0m\u001b[0;34m)\u001b[0m\u001b[0;34m\u001b[0m\u001b[0;34m\u001b[0m\u001b[0m\n\u001b[1;32m    278\u001b[0m                             \u001b[0;32mif\u001b[0m \u001b[0;34m(\u001b[0m\u001b[0;32mnot\u001b[0m \u001b[0mforeach\u001b[0m \u001b[0;32mor\u001b[0m \u001b[0mp\u001b[0m\u001b[0;34m.\u001b[0m\u001b[0mgrad\u001b[0m\u001b[0;34m.\u001b[0m\u001b[0mis_sparse\u001b[0m\u001b[0;34m)\u001b[0m\u001b[0;34m:\u001b[0m\u001b[0;34m\u001b[0m\u001b[0;34m\u001b[0m\u001b[0m\n\u001b[0;32m--> 279\u001b[0;31m                                 \u001b[0mp\u001b[0m\u001b[0;34m.\u001b[0m\u001b[0mgrad\u001b[0m\u001b[0;34m.\u001b[0m\u001b[0mzero_\u001b[0m\u001b[0;34m(\u001b[0m\u001b[0;34m)\u001b[0m\u001b[0;34m\u001b[0m\u001b[0;34m\u001b[0m\u001b[0m\n\u001b[0m\u001b[1;32m    280\u001b[0m                             \u001b[0;32melse\u001b[0m\u001b[0;34m:\u001b[0m\u001b[0;34m\u001b[0m\u001b[0;34m\u001b[0m\u001b[0m\n\u001b[1;32m    281\u001b[0m                                 \u001b[0mper_device_and_dtype_grads\u001b[0m\u001b[0;34m[\u001b[0m\u001b[0mp\u001b[0m\u001b[0;34m.\u001b[0m\u001b[0mgrad\u001b[0m\u001b[0;34m.\u001b[0m\u001b[0mdevice\u001b[0m\u001b[0;34m]\u001b[0m\u001b[0;34m[\u001b[0m\u001b[0mp\u001b[0m\u001b[0;34m.\u001b[0m\u001b[0mgrad\u001b[0m\u001b[0;34m.\u001b[0m\u001b[0mdtype\u001b[0m\u001b[0;34m]\u001b[0m\u001b[0;34m.\u001b[0m\u001b[0mappend\u001b[0m\u001b[0;34m(\u001b[0m\u001b[0mp\u001b[0m\u001b[0;34m.\u001b[0m\u001b[0mgrad\u001b[0m\u001b[0;34m)\u001b[0m\u001b[0;34m\u001b[0m\u001b[0;34m\u001b[0m\u001b[0m\n",
            "\u001b[0;31mKeyboardInterrupt\u001b[0m: "
          ]
        }
      ]
    },
    {
      "cell_type": "code",
      "metadata": {
        "id": "LbM6e6XyRVDh"
      },
      "source": [],
      "execution_count": null,
      "outputs": []
    },
    {
      "cell_type": "code",
      "metadata": {
        "colab": {
          "base_uri": "https://localhost:8080/",
          "height": 1000
        },
        "id": "k2KhhT1HRVm9",
        "outputId": "d1f5253e-a78c-4bb9-c591-98e74c273255"
      },
      "source": [
        "optimizer = optim.SGD(model.parameters(), lr=0.003, momentum=0.9, nesterov=True)\n",
        "\n",
        "step_lr = StepLR(optimizer=optimizer, step_size=1, gamma=0.81)\n",
        "\n",
        "train_eval_model(model, train_loader, optimizer, device, epochs=20, test=True, test_loader=test_loader,scheduler=step_lr)\n",
        "\n",
        "torch.save(model, \"./eva8_s6_steplr2_epochs20.pth\")\n",
        "files.download(\"./eva8_s6_steplr2_epochs20.pth\")"
      ],
      "execution_count": null,
      "outputs": [
        {
          "output_type": "stream",
          "name": "stdout",
          "text": [
            "\n",
            " epoch num ================================= 1\n"
          ]
        },
        {
          "output_type": "stream",
          "name": "stderr",
          "text": [
            "100%|██████████| 1563/1563 [01:06<00:00, 23.48it/s]"
          ]
        },
        {
          "output_type": "stream",
          "name": "stdout",
          "text": [
            "\n",
            "\n",
            "\t\t\tLast LR --> [0.003]\n",
            "\n",
            "\t\t\tTrain metrics: accuracy: 36784/50000 (73.5680%)\n"
          ]
        },
        {
          "output_type": "stream",
          "name": "stderr",
          "text": [
            "\n"
          ]
        },
        {
          "output_type": "stream",
          "name": "stdout",
          "text": [
            "\n",
            "\tTest metrics: average loss: 0.4809, accuracy: 8382/10000 (83.82000%)\n",
            "\n",
            "\n",
            " epoch num ================================= 2\n"
          ]
        },
        {
          "output_type": "stream",
          "name": "stderr",
          "text": [
            "100%|██████████| 1563/1563 [01:03<00:00, 24.60it/s]"
          ]
        },
        {
          "output_type": "stream",
          "name": "stdout",
          "text": [
            "\n",
            "\n",
            "\t\t\tLast LR --> [0.0024300000000000003]\n",
            "\n",
            "\t\t\tTrain metrics: accuracy: 42747/50000 (85.4940%)\n"
          ]
        },
        {
          "output_type": "stream",
          "name": "stderr",
          "text": [
            "\n"
          ]
        },
        {
          "output_type": "stream",
          "name": "stdout",
          "text": [
            "\n",
            "\tTest metrics: average loss: 0.4638, accuracy: 8449/10000 (84.49000%)\n",
            "\n",
            "\n",
            " epoch num ================================= 3\n"
          ]
        },
        {
          "output_type": "stream",
          "name": "stderr",
          "text": [
            "100%|██████████| 1563/1563 [01:02<00:00, 25.03it/s]"
          ]
        },
        {
          "output_type": "stream",
          "name": "stdout",
          "text": [
            "\n",
            "\n",
            "\t\t\tLast LR --> [0.0019683000000000005]\n",
            "\n",
            "\t\t\tTrain metrics: accuracy: 43106/50000 (86.2120%)\n"
          ]
        },
        {
          "output_type": "stream",
          "name": "stderr",
          "text": [
            "\n"
          ]
        },
        {
          "output_type": "stream",
          "name": "stdout",
          "text": [
            "\n",
            "\tTest metrics: average loss: 0.4674, accuracy: 8462/10000 (84.62000%)\n",
            "\n",
            "\n",
            " epoch num ================================= 4\n"
          ]
        },
        {
          "output_type": "stream",
          "name": "stderr",
          "text": [
            "100%|██████████| 1563/1563 [01:02<00:00, 25.01it/s]"
          ]
        },
        {
          "output_type": "stream",
          "name": "stdout",
          "text": [
            "\n",
            "\n",
            "\t\t\tLast LR --> [0.0015943230000000006]\n",
            "\n",
            "\t\t\tTrain metrics: accuracy: 43289/50000 (86.5780%)\n"
          ]
        },
        {
          "output_type": "stream",
          "name": "stderr",
          "text": [
            "\n"
          ]
        },
        {
          "output_type": "stream",
          "name": "stdout",
          "text": [
            "\n",
            "\tTest metrics: average loss: 0.4658, accuracy: 8435/10000 (84.35000%)\n",
            "\n",
            "\n",
            " epoch num ================================= 5\n"
          ]
        },
        {
          "output_type": "stream",
          "name": "stderr",
          "text": [
            "100%|██████████| 1563/1563 [01:03<00:00, 24.80it/s]"
          ]
        },
        {
          "output_type": "stream",
          "name": "stdout",
          "text": [
            "\n",
            "\n",
            "\t\t\tLast LR --> [0.0012914016300000005]\n",
            "\n",
            "\t\t\tTrain metrics: accuracy: 43505/50000 (87.0100%)\n"
          ]
        },
        {
          "output_type": "stream",
          "name": "stderr",
          "text": [
            "\n"
          ]
        },
        {
          "output_type": "stream",
          "name": "stdout",
          "text": [
            "\n",
            "\tTest metrics: average loss: 0.4589, accuracy: 8481/10000 (84.81000%)\n",
            "\n",
            "\n",
            " epoch num ================================= 6\n"
          ]
        },
        {
          "output_type": "stream",
          "name": "stderr",
          "text": [
            "100%|██████████| 1563/1563 [01:02<00:00, 25.07it/s]"
          ]
        },
        {
          "output_type": "stream",
          "name": "stdout",
          "text": [
            "\n",
            "\n",
            "\t\t\tLast LR --> [0.0010460353203000006]\n",
            "\n",
            "\t\t\tTrain metrics: accuracy: 43665/50000 (87.3300%)\n"
          ]
        },
        {
          "output_type": "stream",
          "name": "stderr",
          "text": [
            "\n"
          ]
        },
        {
          "output_type": "stream",
          "name": "stdout",
          "text": [
            "\n",
            "\tTest metrics: average loss: 0.4538, accuracy: 8479/10000 (84.79000%)\n",
            "\n",
            "\n",
            " epoch num ================================= 7\n"
          ]
        },
        {
          "output_type": "stream",
          "name": "stderr",
          "text": [
            "100%|██████████| 1563/1563 [01:03<00:00, 24.62it/s]"
          ]
        },
        {
          "output_type": "stream",
          "name": "stdout",
          "text": [
            "\n",
            "\n",
            "\t\t\tLast LR --> [0.0008472886094430005]\n",
            "\n",
            "\t\t\tTrain metrics: accuracy: 43880/50000 (87.7600%)\n"
          ]
        },
        {
          "output_type": "stream",
          "name": "stderr",
          "text": [
            "\n"
          ]
        },
        {
          "output_type": "stream",
          "name": "stdout",
          "text": [
            "\n",
            "\tTest metrics: average loss: 0.4598, accuracy: 8479/10000 (84.79000%)\n",
            "\n",
            "\n",
            " epoch num ================================= 8\n"
          ]
        },
        {
          "output_type": "stream",
          "name": "stderr",
          "text": [
            "100%|██████████| 1563/1563 [01:02<00:00, 25.03it/s]"
          ]
        },
        {
          "output_type": "stream",
          "name": "stdout",
          "text": [
            "\n",
            "\n",
            "\t\t\tLast LR --> [0.0006863037736488304]\n",
            "\n",
            "\t\t\tTrain metrics: accuracy: 43864/50000 (87.7280%)\n"
          ]
        },
        {
          "output_type": "stream",
          "name": "stderr",
          "text": [
            "\n"
          ]
        },
        {
          "output_type": "stream",
          "name": "stdout",
          "text": [
            "\n",
            "\tTest metrics: average loss: 0.4540, accuracy: 8508/10000 (85.08000%)\n",
            "\n",
            "\n",
            " epoch num ================================= 9\n"
          ]
        },
        {
          "output_type": "stream",
          "name": "stderr",
          "text": [
            "100%|██████████| 1563/1563 [01:04<00:00, 24.40it/s]"
          ]
        },
        {
          "output_type": "stream",
          "name": "stdout",
          "text": [
            "\n",
            "\n",
            "\t\t\tLast LR --> [0.0005559060566555526]\n",
            "\n",
            "\t\t\tTrain metrics: accuracy: 43897/50000 (87.7940%)\n"
          ]
        },
        {
          "output_type": "stream",
          "name": "stderr",
          "text": [
            "\n"
          ]
        },
        {
          "output_type": "stream",
          "name": "stdout",
          "text": [
            "\n",
            "\tTest metrics: average loss: 0.4515, accuracy: 8526/10000 (85.26000%)\n",
            "\n",
            "\n",
            " epoch num ================================= 10\n"
          ]
        },
        {
          "output_type": "stream",
          "name": "stderr",
          "text": [
            "100%|██████████| 1563/1563 [01:02<00:00, 25.01it/s]"
          ]
        },
        {
          "output_type": "stream",
          "name": "stdout",
          "text": [
            "\n",
            "\n",
            "\t\t\tLast LR --> [0.0004502839058909977]\n",
            "\n",
            "\t\t\tTrain metrics: accuracy: 44015/50000 (88.0300%)\n"
          ]
        },
        {
          "output_type": "stream",
          "name": "stderr",
          "text": [
            "\n"
          ]
        },
        {
          "output_type": "stream",
          "name": "stdout",
          "text": [
            "\n",
            "\tTest metrics: average loss: 0.4560, accuracy: 8487/10000 (84.87000%)\n",
            "\n",
            "\n",
            " epoch num ================================= 11\n"
          ]
        },
        {
          "output_type": "stream",
          "name": "stderr",
          "text": [
            "100%|██████████| 1563/1563 [01:03<00:00, 24.67it/s]"
          ]
        },
        {
          "output_type": "stream",
          "name": "stdout",
          "text": [
            "\n",
            "\n",
            "\t\t\tLast LR --> [0.00036472996377170816]\n",
            "\n",
            "\t\t\tTrain metrics: accuracy: 44006/50000 (88.0120%)\n"
          ]
        },
        {
          "output_type": "stream",
          "name": "stderr",
          "text": [
            "\n"
          ]
        },
        {
          "output_type": "stream",
          "name": "stdout",
          "text": [
            "\n",
            "\tTest metrics: average loss: 0.4551, accuracy: 8506/10000 (85.06000%)\n",
            "\n",
            "\n",
            " epoch num ================================= 12\n"
          ]
        },
        {
          "output_type": "stream",
          "name": "stderr",
          "text": [
            "100%|██████████| 1563/1563 [01:02<00:00, 25.01it/s]"
          ]
        },
        {
          "output_type": "stream",
          "name": "stdout",
          "text": [
            "\n",
            "\n",
            "\t\t\tLast LR --> [0.00029543127065508366]\n",
            "\n",
            "\t\t\tTrain metrics: accuracy: 44136/50000 (88.2720%)\n"
          ]
        },
        {
          "output_type": "stream",
          "name": "stderr",
          "text": [
            "\n"
          ]
        },
        {
          "output_type": "stream",
          "name": "stdout",
          "text": [
            "\n",
            "\tTest metrics: average loss: 0.4554, accuracy: 8508/10000 (85.08000%)\n",
            "\n",
            "\n",
            " epoch num ================================= 13\n"
          ]
        },
        {
          "output_type": "stream",
          "name": "stderr",
          "text": [
            "100%|██████████| 1563/1563 [01:03<00:00, 24.61it/s]"
          ]
        },
        {
          "output_type": "stream",
          "name": "stdout",
          "text": [
            "\n",
            "\n",
            "\t\t\tLast LR --> [0.00023929932923061778]\n",
            "\n",
            "\t\t\tTrain metrics: accuracy: 44163/50000 (88.3260%)\n"
          ]
        },
        {
          "output_type": "stream",
          "name": "stderr",
          "text": [
            "\n"
          ]
        },
        {
          "output_type": "stream",
          "name": "stdout",
          "text": [
            "\n",
            "\tTest metrics: average loss: 0.4554, accuracy: 8495/10000 (84.95000%)\n",
            "\n",
            "\n",
            " epoch num ================================= 14\n"
          ]
        },
        {
          "output_type": "stream",
          "name": "stderr",
          "text": [
            "100%|██████████| 1563/1563 [01:02<00:00, 25.00it/s]"
          ]
        },
        {
          "output_type": "stream",
          "name": "stdout",
          "text": [
            "\n",
            "\n",
            "\t\t\tLast LR --> [0.00019383245667680042]\n",
            "\n",
            "\t\t\tTrain metrics: accuracy: 44293/50000 (88.5860%)\n"
          ]
        },
        {
          "output_type": "stream",
          "name": "stderr",
          "text": [
            "\n"
          ]
        },
        {
          "output_type": "stream",
          "name": "stdout",
          "text": [
            "\n",
            "\tTest metrics: average loss: 0.4557, accuracy: 8490/10000 (84.90000%)\n",
            "\n",
            "\n",
            " epoch num ================================= 15\n"
          ]
        },
        {
          "output_type": "stream",
          "name": "stderr",
          "text": [
            "100%|██████████| 1563/1563 [01:02<00:00, 24.90it/s]"
          ]
        },
        {
          "output_type": "stream",
          "name": "stdout",
          "text": [
            "\n",
            "\n",
            "\t\t\tLast LR --> [0.00015700428990820834]\n",
            "\n",
            "\t\t\tTrain metrics: accuracy: 44142/50000 (88.2840%)\n"
          ]
        },
        {
          "output_type": "stream",
          "name": "stderr",
          "text": [
            "\n"
          ]
        },
        {
          "output_type": "stream",
          "name": "stdout",
          "text": [
            "\n",
            "\tTest metrics: average loss: 0.4556, accuracy: 8513/10000 (85.13000%)\n",
            "\n",
            "\n",
            " epoch num ================================= 16\n"
          ]
        },
        {
          "output_type": "stream",
          "name": "stderr",
          "text": [
            "100%|██████████| 1563/1563 [01:02<00:00, 24.99it/s]"
          ]
        },
        {
          "output_type": "stream",
          "name": "stdout",
          "text": [
            "\n",
            "\n",
            "\t\t\tLast LR --> [0.00012717347482564875]\n",
            "\n",
            "\t\t\tTrain metrics: accuracy: 44191/50000 (88.3820%)\n"
          ]
        },
        {
          "output_type": "stream",
          "name": "stderr",
          "text": [
            "\n"
          ]
        },
        {
          "output_type": "stream",
          "name": "stdout",
          "text": [
            "\n",
            "\tTest metrics: average loss: 0.4553, accuracy: 8515/10000 (85.15000%)\n",
            "\n",
            "\n",
            " epoch num ================================= 17\n"
          ]
        },
        {
          "output_type": "stream",
          "name": "stderr",
          "text": [
            "100%|██████████| 1563/1563 [01:02<00:00, 25.01it/s]"
          ]
        },
        {
          "output_type": "stream",
          "name": "stdout",
          "text": [
            "\n",
            "\n",
            "\t\t\tLast LR --> [0.00010301051460877549]\n",
            "\n",
            "\t\t\tTrain metrics: accuracy: 44278/50000 (88.5560%)\n"
          ]
        },
        {
          "output_type": "stream",
          "name": "stderr",
          "text": [
            "\n"
          ]
        },
        {
          "output_type": "stream",
          "name": "stdout",
          "text": [
            "\n",
            "\tTest metrics: average loss: 0.4565, accuracy: 8514/10000 (85.14000%)\n",
            "\n",
            "\n",
            " epoch num ================================= 18\n"
          ]
        },
        {
          "output_type": "stream",
          "name": "stderr",
          "text": [
            "100%|██████████| 1563/1563 [01:02<00:00, 25.02it/s]"
          ]
        },
        {
          "output_type": "stream",
          "name": "stdout",
          "text": [
            "\n",
            "\n",
            "\t\t\tLast LR --> [8.343851683310815e-05]\n",
            "\n",
            "\t\t\tTrain metrics: accuracy: 44255/50000 (88.5100%)\n"
          ]
        },
        {
          "output_type": "stream",
          "name": "stderr",
          "text": [
            "\n"
          ]
        },
        {
          "output_type": "stream",
          "name": "stdout",
          "text": [
            "\n",
            "\tTest metrics: average loss: 0.4575, accuracy: 8506/10000 (85.06000%)\n",
            "\n",
            "\n",
            " epoch num ================================= 19\n"
          ]
        },
        {
          "output_type": "stream",
          "name": "stderr",
          "text": [
            "100%|██████████| 1563/1563 [01:02<00:00, 25.02it/s]"
          ]
        },
        {
          "output_type": "stream",
          "name": "stdout",
          "text": [
            "\n",
            "\n",
            "\t\t\tLast LR --> [6.75851986348176e-05]\n",
            "\n",
            "\t\t\tTrain metrics: accuracy: 44267/50000 (88.5340%)\n"
          ]
        },
        {
          "output_type": "stream",
          "name": "stderr",
          "text": [
            "\n"
          ]
        },
        {
          "output_type": "stream",
          "name": "stdout",
          "text": [
            "\n",
            "\tTest metrics: average loss: 0.4561, accuracy: 8512/10000 (85.12000%)\n",
            "\n",
            "\n",
            " epoch num ================================= 20\n"
          ]
        },
        {
          "output_type": "stream",
          "name": "stderr",
          "text": [
            "100%|██████████| 1563/1563 [01:02<00:00, 25.04it/s]"
          ]
        },
        {
          "output_type": "stream",
          "name": "stdout",
          "text": [
            "\n",
            "\n",
            "\t\t\tLast LR --> [5.4744010894202264e-05]\n",
            "\n",
            "\t\t\tTrain metrics: accuracy: 44202/50000 (88.4040%)\n"
          ]
        },
        {
          "output_type": "stream",
          "name": "stderr",
          "text": [
            "\n"
          ]
        },
        {
          "output_type": "stream",
          "name": "stdout",
          "text": [
            "\n",
            "\tTest metrics: average loss: 0.4577, accuracy: 8504/10000 (85.04000%)\n",
            "\n"
          ]
        },
        {
          "output_type": "display_data",
          "data": {
            "text/plain": [
              "<IPython.core.display.Javascript object>"
            ],
            "application/javascript": [
              "\n",
              "    async function download(id, filename, size) {\n",
              "      if (!google.colab.kernel.accessAllowed) {\n",
              "        return;\n",
              "      }\n",
              "      const div = document.createElement('div');\n",
              "      const label = document.createElement('label');\n",
              "      label.textContent = `Downloading \"${filename}\": `;\n",
              "      div.appendChild(label);\n",
              "      const progress = document.createElement('progress');\n",
              "      progress.max = size;\n",
              "      div.appendChild(progress);\n",
              "      document.body.appendChild(div);\n",
              "\n",
              "      const buffers = [];\n",
              "      let downloaded = 0;\n",
              "\n",
              "      const channel = await google.colab.kernel.comms.open(id);\n",
              "      // Send a message to notify the kernel that we're ready.\n",
              "      channel.send({})\n",
              "\n",
              "      for await (const message of channel.messages) {\n",
              "        // Send a message to notify the kernel that we're ready.\n",
              "        channel.send({})\n",
              "        if (message.buffers) {\n",
              "          for (const buffer of message.buffers) {\n",
              "            buffers.push(buffer);\n",
              "            downloaded += buffer.byteLength;\n",
              "            progress.value = downloaded;\n",
              "          }\n",
              "        }\n",
              "      }\n",
              "      const blob = new Blob(buffers, {type: 'application/binary'});\n",
              "      const a = document.createElement('a');\n",
              "      a.href = window.URL.createObjectURL(blob);\n",
              "      a.download = filename;\n",
              "      div.appendChild(a);\n",
              "      a.click();\n",
              "      div.remove();\n",
              "    }\n",
              "  "
            ]
          },
          "metadata": {}
        },
        {
          "output_type": "display_data",
          "data": {
            "text/plain": [
              "<IPython.core.display.Javascript object>"
            ],
            "application/javascript": [
              "download(\"download_eadbf2a9-a09f-4fa1-9d17-e2674ec9f90f\", \"eva8_s6_steplr2_epochs20.pth\", 450222)"
            ]
          },
          "metadata": {}
        }
      ]
    },
    {
      "cell_type": "code",
      "metadata": {
        "id": "UQA2MHVKsWYo"
      },
      "source": [
        "# plot_graphs(train_losses=train_losses, train_accuracy=train_accuracy,\n",
        "#             test_losses=test_losses,test_accuracy=test_accuracy)"
      ],
      "execution_count": 18,
      "outputs": []
    },
    {
      "cell_type": "code",
      "source": [],
      "metadata": {
        "id": "nKCnmNmbWsrE"
      },
      "execution_count": null,
      "outputs": []
    }
  ]
}